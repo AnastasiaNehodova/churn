{
 "cells": [
  {
   "cell_type": "markdown",
   "metadata": {
    "toc": true
   },
   "source": [
    "<h1>Содержание<span class=\"tocSkip\"></span></h1>\n",
    "<div class=\"toc\"><ul class=\"toc-item\"><li><span><a href=\"#Подготовка-данных\" data-toc-modified-id=\"Подготовка-данных-1\"><span class=\"toc-item-num\">1&nbsp;&nbsp;</span>Подготовка данных</a></span></li><li><span><a href=\"#Исследование-задачи\" data-toc-modified-id=\"Исследование-задачи-2\"><span class=\"toc-item-num\">2&nbsp;&nbsp;</span>Исследование задачи</a></span><ul class=\"toc-item\"><li><span><a href=\"#Баланс-классов\" data-toc-modified-id=\"Баланс-классов-2.1\"><span class=\"toc-item-num\">2.1&nbsp;&nbsp;</span>Баланс классов</a></span></li><li><span><a href=\"#LogisticRegression\" data-toc-modified-id=\"LogisticRegression-2.2\"><span class=\"toc-item-num\">2.2&nbsp;&nbsp;</span>LogisticRegression</a></span></li><li><span><a href=\"#DecisionTreeClassifier\" data-toc-modified-id=\"DecisionTreeClassifier-2.3\"><span class=\"toc-item-num\">2.3&nbsp;&nbsp;</span>DecisionTreeClassifier</a></span></li><li><span><a href=\"#RandomForestClassifier\" data-toc-modified-id=\"RandomForestClassifier-2.4\"><span class=\"toc-item-num\">2.4&nbsp;&nbsp;</span>RandomForestClassifier</a></span></li></ul></li><li><span><a href=\"#Борьба-с-дисбалансом\" data-toc-modified-id=\"Борьба-с-дисбалансом-3\"><span class=\"toc-item-num\">3&nbsp;&nbsp;</span>Борьба с дисбалансом</a></span><ul class=\"toc-item\"><li><span><a href=\"#Уменьшение-выборки\" data-toc-modified-id=\"Уменьшение-выборки-3.1\"><span class=\"toc-item-num\">3.1&nbsp;&nbsp;</span>Уменьшение выборки</a></span><ul class=\"toc-item\"><li><span><a href=\"#LogisticRegression\" data-toc-modified-id=\"LogisticRegression-3.1.1\"><span class=\"toc-item-num\">3.1.1&nbsp;&nbsp;</span>LogisticRegression</a></span></li><li><span><a href=\"#DecisionTreeClassifier\" data-toc-modified-id=\"DecisionTreeClassifier-3.1.2\"><span class=\"toc-item-num\">3.1.2&nbsp;&nbsp;</span>DecisionTreeClassifier</a></span></li><li><span><a href=\"#RandomForestClassifier\" data-toc-modified-id=\"RandomForestClassifier-3.1.3\"><span class=\"toc-item-num\">3.1.3&nbsp;&nbsp;</span>RandomForestClassifier</a></span></li></ul></li><li><span><a href=\"#Увеличение-выборки\" data-toc-modified-id=\"Увеличение-выборки-3.2\"><span class=\"toc-item-num\">3.2&nbsp;&nbsp;</span>Увеличение выборки</a></span><ul class=\"toc-item\"><li><span><a href=\"#LogisticRegression\" data-toc-modified-id=\"LogisticRegression-3.2.1\"><span class=\"toc-item-num\">3.2.1&nbsp;&nbsp;</span>LogisticRegression</a></span></li><li><span><a href=\"#DecisionTreeClassifier\" data-toc-modified-id=\"DecisionTreeClassifier-3.2.2\"><span class=\"toc-item-num\">3.2.2&nbsp;&nbsp;</span>DecisionTreeClassifier</a></span></li><li><span><a href=\"#RandomForestClassifier\" data-toc-modified-id=\"RandomForestClassifier-3.2.3\"><span class=\"toc-item-num\">3.2.3&nbsp;&nbsp;</span>RandomForestClassifier</a></span></li></ul></li><li><span><a href=\"#Сравнение-моделей,-обученых-на-разных-выборках\" data-toc-modified-id=\"Сравнение-моделей,-обученых-на-разных-выборках-3.3\"><span class=\"toc-item-num\">3.3&nbsp;&nbsp;</span>Сравнение моделей, обученых на разных выборках</a></span></li><li><span><a href=\"#Изменение-порога\" data-toc-modified-id=\"Изменение-порога-3.4\"><span class=\"toc-item-num\">3.4&nbsp;&nbsp;</span>Изменение порога</a></span></li></ul></li><li><span><a href=\"#Тестирование-модели\" data-toc-modified-id=\"Тестирование-модели-4\"><span class=\"toc-item-num\">4&nbsp;&nbsp;</span>Тестирование модели</a></span></li><li><span><a href=\"#Общий-вывод\" data-toc-modified-id=\"Общий-вывод-5\"><span class=\"toc-item-num\">5&nbsp;&nbsp;</span>Общий вывод</a></span></li><li><span><a href=\"#Чек-лист-готовности-проекта\" data-toc-modified-id=\"Чек-лист-готовности-проекта-6\"><span class=\"toc-item-num\">6&nbsp;&nbsp;</span>Чек-лист готовности проекта</a></span></li></ul></div>"
   ]
  },
  {
   "cell_type": "markdown",
   "metadata": {},
   "source": [
    "# Отток клиентов"
   ]
  },
  {
   "cell_type": "code",
   "execution_count": 1,
   "metadata": {},
   "outputs": [],
   "source": [
    "import numpy as np\n",
    "import pandas as pd\n",
    "import seaborn as sns\n",
    "import matplotlib.pyplot as plt\n",
    "from sklearn.model_selection import train_test_split\n",
    "from sklearn.preprocessing import OneHotEncoder\n",
    "from sklearn.preprocessing import StandardScaler\n",
    "from sklearn.model_selection import GridSearchCV\n",
    "from sklearn.linear_model import LogisticRegression\n",
    "from sklearn.tree import DecisionTreeClassifier\n",
    "from sklearn.ensemble import RandomForestClassifier\n",
    "from sklearn.metrics import f1_score, roc_auc_score, roc_curve, auc\n",
    "from sklearn.utils import shuffle\n",
    "from sklearn.dummy import DummyClassifier\n",
    "import warnings\n",
    "warnings.filterwarnings('ignore')"
   ]
  },
  {
   "cell_type": "markdown",
   "metadata": {},
   "source": [
    "## Подготовка данных"
   ]
  },
  {
   "cell_type": "code",
   "execution_count": 2,
   "metadata": {},
   "outputs": [],
   "source": [
    "try:\n",
    "    df = pd.read_csv('/datasets/Churn.csv')\n",
    "except:\n",
    "    df = pd.read_csv('https://code.s3.yandex.net/datasets/Churn.csv')"
   ]
  },
  {
   "cell_type": "code",
   "execution_count": 3,
   "metadata": {
    "scrolled": true
   },
   "outputs": [
    {
     "data": {
      "text/html": [
       "<div>\n",
       "<style scoped>\n",
       "    .dataframe tbody tr th:only-of-type {\n",
       "        vertical-align: middle;\n",
       "    }\n",
       "\n",
       "    .dataframe tbody tr th {\n",
       "        vertical-align: top;\n",
       "    }\n",
       "\n",
       "    .dataframe thead th {\n",
       "        text-align: right;\n",
       "    }\n",
       "</style>\n",
       "<table border=\"1\" class=\"dataframe\">\n",
       "  <thead>\n",
       "    <tr style=\"text-align: right;\">\n",
       "      <th></th>\n",
       "      <th>RowNumber</th>\n",
       "      <th>CustomerId</th>\n",
       "      <th>Surname</th>\n",
       "      <th>CreditScore</th>\n",
       "      <th>Geography</th>\n",
       "      <th>Gender</th>\n",
       "      <th>Age</th>\n",
       "      <th>Tenure</th>\n",
       "      <th>Balance</th>\n",
       "      <th>NumOfProducts</th>\n",
       "      <th>HasCrCard</th>\n",
       "      <th>IsActiveMember</th>\n",
       "      <th>EstimatedSalary</th>\n",
       "      <th>Exited</th>\n",
       "    </tr>\n",
       "  </thead>\n",
       "  <tbody>\n",
       "    <tr>\n",
       "      <th>0</th>\n",
       "      <td>1</td>\n",
       "      <td>15634602</td>\n",
       "      <td>Hargrave</td>\n",
       "      <td>619</td>\n",
       "      <td>France</td>\n",
       "      <td>Female</td>\n",
       "      <td>42</td>\n",
       "      <td>2.0</td>\n",
       "      <td>0.00</td>\n",
       "      <td>1</td>\n",
       "      <td>1</td>\n",
       "      <td>1</td>\n",
       "      <td>101348.88</td>\n",
       "      <td>1</td>\n",
       "    </tr>\n",
       "    <tr>\n",
       "      <th>1</th>\n",
       "      <td>2</td>\n",
       "      <td>15647311</td>\n",
       "      <td>Hill</td>\n",
       "      <td>608</td>\n",
       "      <td>Spain</td>\n",
       "      <td>Female</td>\n",
       "      <td>41</td>\n",
       "      <td>1.0</td>\n",
       "      <td>83807.86</td>\n",
       "      <td>1</td>\n",
       "      <td>0</td>\n",
       "      <td>1</td>\n",
       "      <td>112542.58</td>\n",
       "      <td>0</td>\n",
       "    </tr>\n",
       "    <tr>\n",
       "      <th>2</th>\n",
       "      <td>3</td>\n",
       "      <td>15619304</td>\n",
       "      <td>Onio</td>\n",
       "      <td>502</td>\n",
       "      <td>France</td>\n",
       "      <td>Female</td>\n",
       "      <td>42</td>\n",
       "      <td>8.0</td>\n",
       "      <td>159660.80</td>\n",
       "      <td>3</td>\n",
       "      <td>1</td>\n",
       "      <td>0</td>\n",
       "      <td>113931.57</td>\n",
       "      <td>1</td>\n",
       "    </tr>\n",
       "    <tr>\n",
       "      <th>3</th>\n",
       "      <td>4</td>\n",
       "      <td>15701354</td>\n",
       "      <td>Boni</td>\n",
       "      <td>699</td>\n",
       "      <td>France</td>\n",
       "      <td>Female</td>\n",
       "      <td>39</td>\n",
       "      <td>1.0</td>\n",
       "      <td>0.00</td>\n",
       "      <td>2</td>\n",
       "      <td>0</td>\n",
       "      <td>0</td>\n",
       "      <td>93826.63</td>\n",
       "      <td>0</td>\n",
       "    </tr>\n",
       "    <tr>\n",
       "      <th>4</th>\n",
       "      <td>5</td>\n",
       "      <td>15737888</td>\n",
       "      <td>Mitchell</td>\n",
       "      <td>850</td>\n",
       "      <td>Spain</td>\n",
       "      <td>Female</td>\n",
       "      <td>43</td>\n",
       "      <td>2.0</td>\n",
       "      <td>125510.82</td>\n",
       "      <td>1</td>\n",
       "      <td>1</td>\n",
       "      <td>1</td>\n",
       "      <td>79084.10</td>\n",
       "      <td>0</td>\n",
       "    </tr>\n",
       "  </tbody>\n",
       "</table>\n",
       "</div>"
      ],
      "text/plain": [
       "   RowNumber  CustomerId   Surname  CreditScore Geography  Gender  Age  \\\n",
       "0          1    15634602  Hargrave          619    France  Female   42   \n",
       "1          2    15647311      Hill          608     Spain  Female   41   \n",
       "2          3    15619304      Onio          502    France  Female   42   \n",
       "3          4    15701354      Boni          699    France  Female   39   \n",
       "4          5    15737888  Mitchell          850     Spain  Female   43   \n",
       "\n",
       "   Tenure    Balance  NumOfProducts  HasCrCard  IsActiveMember  \\\n",
       "0     2.0       0.00              1          1               1   \n",
       "1     1.0   83807.86              1          0               1   \n",
       "2     8.0  159660.80              3          1               0   \n",
       "3     1.0       0.00              2          0               0   \n",
       "4     2.0  125510.82              1          1               1   \n",
       "\n",
       "   EstimatedSalary  Exited  \n",
       "0        101348.88       1  \n",
       "1        112542.58       0  \n",
       "2        113931.57       1  \n",
       "3         93826.63       0  \n",
       "4         79084.10       0  "
      ]
     },
     "execution_count": 3,
     "metadata": {},
     "output_type": "execute_result"
    }
   ],
   "source": [
    "df.head()"
   ]
  },
  {
   "cell_type": "code",
   "execution_count": 4,
   "metadata": {},
   "outputs": [
    {
     "data": {
      "text/plain": [
       "(10000, 14)"
      ]
     },
     "execution_count": 4,
     "metadata": {},
     "output_type": "execute_result"
    }
   ],
   "source": [
    "df.shape"
   ]
  },
  {
   "cell_type": "code",
   "execution_count": 5,
   "metadata": {},
   "outputs": [
    {
     "data": {
      "text/html": [
       "<div>\n",
       "<style scoped>\n",
       "    .dataframe tbody tr th:only-of-type {\n",
       "        vertical-align: middle;\n",
       "    }\n",
       "\n",
       "    .dataframe tbody tr th {\n",
       "        vertical-align: top;\n",
       "    }\n",
       "\n",
       "    .dataframe thead th {\n",
       "        text-align: right;\n",
       "    }\n",
       "</style>\n",
       "<table border=\"1\" class=\"dataframe\">\n",
       "  <thead>\n",
       "    <tr style=\"text-align: right;\">\n",
       "      <th></th>\n",
       "      <th>CreditScore</th>\n",
       "      <th>Geography</th>\n",
       "      <th>Gender</th>\n",
       "      <th>Age</th>\n",
       "      <th>Tenure</th>\n",
       "      <th>Balance</th>\n",
       "      <th>NumOfProducts</th>\n",
       "      <th>HasCrCard</th>\n",
       "      <th>IsActiveMember</th>\n",
       "      <th>EstimatedSalary</th>\n",
       "      <th>Exited</th>\n",
       "    </tr>\n",
       "  </thead>\n",
       "  <tbody>\n",
       "    <tr>\n",
       "      <th>0</th>\n",
       "      <td>619</td>\n",
       "      <td>France</td>\n",
       "      <td>Female</td>\n",
       "      <td>42</td>\n",
       "      <td>2.0</td>\n",
       "      <td>0.00</td>\n",
       "      <td>1</td>\n",
       "      <td>1</td>\n",
       "      <td>1</td>\n",
       "      <td>101348.88</td>\n",
       "      <td>1</td>\n",
       "    </tr>\n",
       "    <tr>\n",
       "      <th>1</th>\n",
       "      <td>608</td>\n",
       "      <td>Spain</td>\n",
       "      <td>Female</td>\n",
       "      <td>41</td>\n",
       "      <td>1.0</td>\n",
       "      <td>83807.86</td>\n",
       "      <td>1</td>\n",
       "      <td>0</td>\n",
       "      <td>1</td>\n",
       "      <td>112542.58</td>\n",
       "      <td>0</td>\n",
       "    </tr>\n",
       "    <tr>\n",
       "      <th>2</th>\n",
       "      <td>502</td>\n",
       "      <td>France</td>\n",
       "      <td>Female</td>\n",
       "      <td>42</td>\n",
       "      <td>8.0</td>\n",
       "      <td>159660.80</td>\n",
       "      <td>3</td>\n",
       "      <td>1</td>\n",
       "      <td>0</td>\n",
       "      <td>113931.57</td>\n",
       "      <td>1</td>\n",
       "    </tr>\n",
       "    <tr>\n",
       "      <th>3</th>\n",
       "      <td>699</td>\n",
       "      <td>France</td>\n",
       "      <td>Female</td>\n",
       "      <td>39</td>\n",
       "      <td>1.0</td>\n",
       "      <td>0.00</td>\n",
       "      <td>2</td>\n",
       "      <td>0</td>\n",
       "      <td>0</td>\n",
       "      <td>93826.63</td>\n",
       "      <td>0</td>\n",
       "    </tr>\n",
       "    <tr>\n",
       "      <th>4</th>\n",
       "      <td>850</td>\n",
       "      <td>Spain</td>\n",
       "      <td>Female</td>\n",
       "      <td>43</td>\n",
       "      <td>2.0</td>\n",
       "      <td>125510.82</td>\n",
       "      <td>1</td>\n",
       "      <td>1</td>\n",
       "      <td>1</td>\n",
       "      <td>79084.10</td>\n",
       "      <td>0</td>\n",
       "    </tr>\n",
       "  </tbody>\n",
       "</table>\n",
       "</div>"
      ],
      "text/plain": [
       "   CreditScore Geography  Gender  Age  Tenure    Balance  NumOfProducts  \\\n",
       "0          619    France  Female   42     2.0       0.00              1   \n",
       "1          608     Spain  Female   41     1.0   83807.86              1   \n",
       "2          502    France  Female   42     8.0  159660.80              3   \n",
       "3          699    France  Female   39     1.0       0.00              2   \n",
       "4          850     Spain  Female   43     2.0  125510.82              1   \n",
       "\n",
       "   HasCrCard  IsActiveMember  EstimatedSalary  Exited  \n",
       "0          1               1        101348.88       1  \n",
       "1          0               1        112542.58       0  \n",
       "2          1               0        113931.57       1  \n",
       "3          0               0         93826.63       0  \n",
       "4          1               1         79084.10       0  "
      ]
     },
     "execution_count": 5,
     "metadata": {},
     "output_type": "execute_result"
    }
   ],
   "source": [
    "df.drop(columns=['RowNumber', 'CustomerId', 'Surname'], inplace=True)\n",
    "df.head()\n",
    "#удаляю столбцы, которые не пригодятся для построения модели"
   ]
  },
  {
   "cell_type": "code",
   "execution_count": 6,
   "metadata": {
    "scrolled": true
   },
   "outputs": [
    {
     "data": {
      "text/plain": [
       "(10000, 11)"
      ]
     },
     "execution_count": 6,
     "metadata": {},
     "output_type": "execute_result"
    }
   ],
   "source": [
    "df.shape"
   ]
  },
  {
   "cell_type": "code",
   "execution_count": 7,
   "metadata": {
    "scrolled": false
   },
   "outputs": [
    {
     "name": "stdout",
     "output_type": "stream",
     "text": [
      "<class 'pandas.core.frame.DataFrame'>\n",
      "RangeIndex: 10000 entries, 0 to 9999\n",
      "Data columns (total 11 columns):\n",
      " #   Column           Non-Null Count  Dtype  \n",
      "---  ------           --------------  -----  \n",
      " 0   CreditScore      10000 non-null  int64  \n",
      " 1   Geography        10000 non-null  object \n",
      " 2   Gender           10000 non-null  object \n",
      " 3   Age              10000 non-null  int64  \n",
      " 4   Tenure           9091 non-null   float64\n",
      " 5   Balance          10000 non-null  float64\n",
      " 6   NumOfProducts    10000 non-null  int64  \n",
      " 7   HasCrCard        10000 non-null  int64  \n",
      " 8   IsActiveMember   10000 non-null  int64  \n",
      " 9   EstimatedSalary  10000 non-null  float64\n",
      " 10  Exited           10000 non-null  int64  \n",
      "dtypes: float64(3), int64(6), object(2)\n",
      "memory usage: 859.5+ KB\n"
     ]
    }
   ],
   "source": [
    "df.info()"
   ]
  },
  {
   "cell_type": "markdown",
   "metadata": {},
   "source": [
    "Типы всех колонок корректны. "
   ]
  },
  {
   "cell_type": "code",
   "execution_count": 8,
   "metadata": {
    "scrolled": true
   },
   "outputs": [
    {
     "data": {
      "text/plain": [
       "909"
      ]
     },
     "execution_count": 8,
     "metadata": {},
     "output_type": "execute_result"
    }
   ],
   "source": [
    "df.Tenure.isna().sum()"
   ]
  },
  {
   "cell_type": "code",
   "execution_count": 9,
   "metadata": {},
   "outputs": [
    {
     "data": {
      "image/png": "[encoded data removed]",
      "text/plain": [
       "<Figure size 1200x900 with 2 Axes>"
      ]
     },
     "metadata": {},
     "output_type": "display_data"
    }
   ],
   "source": [
    "plt.figure(figsize=(12, 9))\n",
    "sns.heatmap(df.corr())\n",
    "plt.title('Тепловая карта матрицы корреляции по числовым признакам')\n",
    "plt.show()"
   ]
  },
  {
   "cell_type": "code",
   "execution_count": 10,
   "metadata": {},
   "outputs": [
    {
     "data": {
      "text/plain": [
       "0.0     0.0382\n",
       "1.0     0.0952\n",
       "2.0     0.0950\n",
       "3.0     0.0928\n",
       "4.0     0.0885\n",
       "5.0     0.0927\n",
       "6.0     0.0881\n",
       "7.0     0.0925\n",
       "8.0     0.0933\n",
       "9.0     0.0882\n",
       "10.0    0.0446\n",
       "NaN     0.0909\n",
       "Name: Tenure, dtype: float64"
      ]
     },
     "execution_count": 10,
     "metadata": {},
     "output_type": "execute_result"
    }
   ],
   "source": [
    "df.Tenure.value_counts(normalize=True, dropna=False).sort_index()"
   ]
  },
  {
   "cell_type": "code",
   "execution_count": 11,
   "metadata": {},
   "outputs": [
    {
     "data": {
      "text/plain": [
       "0    0.79868\n",
       "1    0.20132\n",
       "Name: Exited, dtype: float64"
      ]
     },
     "execution_count": 11,
     "metadata": {},
     "output_type": "execute_result"
    }
   ],
   "source": [
    "df[df.Tenure.isna()].Exited.value_counts(normalize=True)"
   ]
  },
  {
   "cell_type": "code",
   "execution_count": 12,
   "metadata": {},
   "outputs": [
    {
     "data": {
      "text/plain": [
       "0    0.7963\n",
       "1    0.2037\n",
       "Name: Exited, dtype: float64"
      ]
     },
     "execution_count": 12,
     "metadata": {},
     "output_type": "execute_result"
    }
   ],
   "source": [
    "df.Exited.value_counts(normalize=True)"
   ]
  },
  {
   "cell_type": "code",
   "execution_count": 13,
   "metadata": {},
   "outputs": [
    {
     "name": "stdout",
     "output_type": "stream",
     "text": [
      "9.09%\n"
     ]
    }
   ],
   "source": [
    "print(f'{df.Tenure.isna().sum() / df.shape[0]:.2%}') "
   ]
  },
  {
   "cell_type": "markdown",
   "metadata": {},
   "source": [
    "Все колонки полностью заполнены, кроме колонки Tenure (сколько лет человек является клиентом банка), там есть 909 пропусков. В моделях LogisticRegression, DecisionTreeClassifier, RandomForestClassifier не поддерживается обучение по данным с пустыми значениями. Есть следующие пути решения проблемы:\n",
    "\n",
    "1) заполнить ячейки с помощью других колонок, их комбинацией или с применением методов машинного обучения (например, KNN). Проблема в том, что другие колонки по смыслу очень трудно связать с количеством лет клиенства и корреляция с ними низкая, например, не предоставлена колонка даты подписания договора с клиентом или тому подобное, поэтому такой способ может исказить данные.\n",
    "\n",
    "2) заполнить пропущеные значения медианой либо средним значением по колонке. Столбец Tenure имеет распределение близкое к равномерному (кроме значений 0 и 10 лет, частота таких значений примерно в два раза меньше чем остальных, скорее всего потому что количество лет определяется по году подписания договора, а данные начали собирать не в начале года, а закончили не в конце). Заполнение медианой либо средним нарушит распределение.\n",
    "\n",
    "3) удалить столбец Tenure, колонок для обучения не сильно много (всего 10), удаление одной из колонок может значительно ухудшить метрики моделей.\n",
    "\n",
    "4) удалить строки с пустыми значениями. Распределения таргета по строкам с пустыми значениями и по всему датасету примерно одинаковы, данных достаточно останется достаточно много. Поэтому качество модели не должно значительно пострадать, выберу этот путь решения проблемы."
   ]
  },
  {
   "cell_type": "code",
   "execution_count": 14,
   "metadata": {},
   "outputs": [
    {
     "data": {
      "text/plain": [
       "(9091, 11)"
      ]
     },
     "execution_count": 14,
     "metadata": {},
     "output_type": "execute_result"
    }
   ],
   "source": [
    "df.dropna(inplace=True)\n",
    "df.shape\n",
    "#удаляю строки с пустыми значениями"
   ]
  },
  {
   "cell_type": "code",
   "execution_count": 15,
   "metadata": {},
   "outputs": [
    {
     "name": "stdout",
     "output_type": "stream",
     "text": [
      "<class 'pandas.core.frame.DataFrame'>\n",
      "Int64Index: 9091 entries, 0 to 9998\n",
      "Data columns (total 11 columns):\n",
      " #   Column           Non-Null Count  Dtype  \n",
      "---  ------           --------------  -----  \n",
      " 0   CreditScore      9091 non-null   int64  \n",
      " 1   Geography        9091 non-null   object \n",
      " 2   Gender           9091 non-null   object \n",
      " 3   Age              9091 non-null   int64  \n",
      " 4   Tenure           9091 non-null   float64\n",
      " 5   Balance          9091 non-null   float64\n",
      " 6   NumOfProducts    9091 non-null   int64  \n",
      " 7   HasCrCard        9091 non-null   int64  \n",
      " 8   IsActiveMember   9091 non-null   int64  \n",
      " 9   EstimatedSalary  9091 non-null   float64\n",
      " 10  Exited           9091 non-null   int64  \n",
      "dtypes: float64(3), int64(6), object(2)\n",
      "memory usage: 852.3+ KB\n"
     ]
    }
   ],
   "source": [
    "df.info()"
   ]
  },
  {
   "cell_type": "code",
   "execution_count": 16,
   "metadata": {
    "scrolled": false
   },
   "outputs": [
    {
     "data": {
      "text/html": [
       "<div>\n",
       "<style scoped>\n",
       "    .dataframe tbody tr th:only-of-type {\n",
       "        vertical-align: middle;\n",
       "    }\n",
       "\n",
       "    .dataframe tbody tr th {\n",
       "        vertical-align: top;\n",
       "    }\n",
       "\n",
       "    .dataframe thead th {\n",
       "        text-align: right;\n",
       "    }\n",
       "</style>\n",
       "<table border=\"1\" class=\"dataframe\">\n",
       "  <thead>\n",
       "    <tr style=\"text-align: right;\">\n",
       "      <th></th>\n",
       "      <th>CreditScore</th>\n",
       "      <th>Age</th>\n",
       "      <th>Tenure</th>\n",
       "      <th>Balance</th>\n",
       "      <th>NumOfProducts</th>\n",
       "      <th>HasCrCard</th>\n",
       "      <th>IsActiveMember</th>\n",
       "      <th>EstimatedSalary</th>\n",
       "      <th>Exited</th>\n",
       "    </tr>\n",
       "  </thead>\n",
       "  <tbody>\n",
       "    <tr>\n",
       "      <th>count</th>\n",
       "      <td>9091.000000</td>\n",
       "      <td>9091.000000</td>\n",
       "      <td>9091.000000</td>\n",
       "      <td>9091.000000</td>\n",
       "      <td>9091.000000</td>\n",
       "      <td>9091.000000</td>\n",
       "      <td>9091.000000</td>\n",
       "      <td>9091.000000</td>\n",
       "      <td>9091.000000</td>\n",
       "    </tr>\n",
       "    <tr>\n",
       "      <th>mean</th>\n",
       "      <td>650.736553</td>\n",
       "      <td>38.949181</td>\n",
       "      <td>4.997690</td>\n",
       "      <td>76522.740015</td>\n",
       "      <td>1.530195</td>\n",
       "      <td>0.704983</td>\n",
       "      <td>0.515565</td>\n",
       "      <td>100181.214924</td>\n",
       "      <td>0.203938</td>\n",
       "    </tr>\n",
       "    <tr>\n",
       "      <th>std</th>\n",
       "      <td>96.410471</td>\n",
       "      <td>10.555581</td>\n",
       "      <td>2.894723</td>\n",
       "      <td>62329.528576</td>\n",
       "      <td>0.581003</td>\n",
       "      <td>0.456076</td>\n",
       "      <td>0.499785</td>\n",
       "      <td>57624.755647</td>\n",
       "      <td>0.402946</td>\n",
       "    </tr>\n",
       "    <tr>\n",
       "      <th>min</th>\n",
       "      <td>350.000000</td>\n",
       "      <td>18.000000</td>\n",
       "      <td>0.000000</td>\n",
       "      <td>0.000000</td>\n",
       "      <td>1.000000</td>\n",
       "      <td>0.000000</td>\n",
       "      <td>0.000000</td>\n",
       "      <td>11.580000</td>\n",
       "      <td>0.000000</td>\n",
       "    </tr>\n",
       "    <tr>\n",
       "      <th>25%</th>\n",
       "      <td>584.000000</td>\n",
       "      <td>32.000000</td>\n",
       "      <td>2.000000</td>\n",
       "      <td>0.000000</td>\n",
       "      <td>1.000000</td>\n",
       "      <td>0.000000</td>\n",
       "      <td>0.000000</td>\n",
       "      <td>51227.745000</td>\n",
       "      <td>0.000000</td>\n",
       "    </tr>\n",
       "    <tr>\n",
       "      <th>50%</th>\n",
       "      <td>652.000000</td>\n",
       "      <td>37.000000</td>\n",
       "      <td>5.000000</td>\n",
       "      <td>97318.250000</td>\n",
       "      <td>1.000000</td>\n",
       "      <td>1.000000</td>\n",
       "      <td>1.000000</td>\n",
       "      <td>100240.200000</td>\n",
       "      <td>0.000000</td>\n",
       "    </tr>\n",
       "    <tr>\n",
       "      <th>75%</th>\n",
       "      <td>717.000000</td>\n",
       "      <td>44.000000</td>\n",
       "      <td>7.000000</td>\n",
       "      <td>127561.890000</td>\n",
       "      <td>2.000000</td>\n",
       "      <td>1.000000</td>\n",
       "      <td>1.000000</td>\n",
       "      <td>149567.210000</td>\n",
       "      <td>0.000000</td>\n",
       "    </tr>\n",
       "    <tr>\n",
       "      <th>max</th>\n",
       "      <td>850.000000</td>\n",
       "      <td>92.000000</td>\n",
       "      <td>10.000000</td>\n",
       "      <td>250898.090000</td>\n",
       "      <td>4.000000</td>\n",
       "      <td>1.000000</td>\n",
       "      <td>1.000000</td>\n",
       "      <td>199992.480000</td>\n",
       "      <td>1.000000</td>\n",
       "    </tr>\n",
       "  </tbody>\n",
       "</table>\n",
       "</div>"
      ],
      "text/plain": [
       "       CreditScore          Age       Tenure        Balance  NumOfProducts  \\\n",
       "count  9091.000000  9091.000000  9091.000000    9091.000000    9091.000000   \n",
       "mean    650.736553    38.949181     4.997690   76522.740015       1.530195   \n",
       "std      96.410471    10.555581     2.894723   62329.528576       0.581003   \n",
       "min     350.000000    18.000000     0.000000       0.000000       1.000000   \n",
       "25%     584.000000    32.000000     2.000000       0.000000       1.000000   \n",
       "50%     652.000000    37.000000     5.000000   97318.250000       1.000000   \n",
       "75%     717.000000    44.000000     7.000000  127561.890000       2.000000   \n",
       "max     850.000000    92.000000    10.000000  250898.090000       4.000000   \n",
       "\n",
       "         HasCrCard  IsActiveMember  EstimatedSalary       Exited  \n",
       "count  9091.000000     9091.000000      9091.000000  9091.000000  \n",
       "mean      0.704983        0.515565    100181.214924     0.203938  \n",
       "std       0.456076        0.499785     57624.755647     0.402946  \n",
       "min       0.000000        0.000000        11.580000     0.000000  \n",
       "25%       0.000000        0.000000     51227.745000     0.000000  \n",
       "50%       1.000000        1.000000    100240.200000     0.000000  \n",
       "75%       1.000000        1.000000    149567.210000     0.000000  \n",
       "max       1.000000        1.000000    199992.480000     1.000000  "
      ]
     },
     "execution_count": 16,
     "metadata": {},
     "output_type": "execute_result"
    }
   ],
   "source": [
    "df.describe()"
   ]
  },
  {
   "cell_type": "code",
   "execution_count": 17,
   "metadata": {},
   "outputs": [
    {
     "name": "stdout",
     "output_type": "stream",
     "text": [
      "France     0.500495\n",
      "Germany    0.252227\n",
      "Spain      0.247278\n",
      "Name: Geography, dtype: float64\n",
      "\n",
      "Male      0.547135\n",
      "Female    0.452865\n",
      "Name: Gender, dtype: float64\n",
      "\n"
     ]
    }
   ],
   "source": [
    "for column in df.select_dtypes(include='object'):\n",
    "    print(df[column].value_counts(normalize=True))\n",
    "    print()"
   ]
  },
  {
   "cell_type": "markdown",
   "metadata": {},
   "source": [
    "значения во всех колонках корректны"
   ]
  },
  {
   "cell_type": "code",
   "execution_count": 18,
   "metadata": {},
   "outputs": [
    {
     "data": {
      "text/plain": [
       "OneHotEncoder(drop='first', sparse=False)"
      ]
     },
     "execution_count": 18,
     "metadata": {},
     "output_type": "execute_result"
    }
   ],
   "source": [
    "columns_object = ['Geography', 'Gender']#сохраняю категориальные колонки в отдельный датасет и их имена\n",
    "df_object = df[columns_object]\n",
    "ohe = OneHotEncoder(sparse=False, drop='first')\n",
    "ohe.fit(df_object)\n",
    "#применяю алгоритм One hot encoding для двух категориальных признаков, чтобы данные были пригодны для используемых далее\n",
    "#алгоритмов машинного обучения"
   ]
  },
  {
   "cell_type": "code",
   "execution_count": 19,
   "metadata": {},
   "outputs": [],
   "source": [
    "df.drop(columns=columns_object, inplace=True)"
   ]
  },
  {
   "cell_type": "code",
   "execution_count": 20,
   "metadata": {
    "scrolled": true
   },
   "outputs": [
    {
     "data": {
      "text/html": [
       "<div>\n",
       "<style scoped>\n",
       "    .dataframe tbody tr th:only-of-type {\n",
       "        vertical-align: middle;\n",
       "    }\n",
       "\n",
       "    .dataframe tbody tr th {\n",
       "        vertical-align: top;\n",
       "    }\n",
       "\n",
       "    .dataframe thead th {\n",
       "        text-align: right;\n",
       "    }\n",
       "</style>\n",
       "<table border=\"1\" class=\"dataframe\">\n",
       "  <thead>\n",
       "    <tr style=\"text-align: right;\">\n",
       "      <th></th>\n",
       "      <th>CreditScore</th>\n",
       "      <th>Age</th>\n",
       "      <th>Tenure</th>\n",
       "      <th>Balance</th>\n",
       "      <th>NumOfProducts</th>\n",
       "      <th>HasCrCard</th>\n",
       "      <th>IsActiveMember</th>\n",
       "      <th>EstimatedSalary</th>\n",
       "      <th>Exited</th>\n",
       "      <th>Geography_Germany</th>\n",
       "      <th>Geography_Spain</th>\n",
       "      <th>Gender_Male</th>\n",
       "    </tr>\n",
       "  </thead>\n",
       "  <tbody>\n",
       "    <tr>\n",
       "      <th>0</th>\n",
       "      <td>619</td>\n",
       "      <td>42</td>\n",
       "      <td>2.0</td>\n",
       "      <td>0.00</td>\n",
       "      <td>1</td>\n",
       "      <td>1</td>\n",
       "      <td>1</td>\n",
       "      <td>101348.88</td>\n",
       "      <td>1</td>\n",
       "      <td>0.0</td>\n",
       "      <td>0.0</td>\n",
       "      <td>0.0</td>\n",
       "    </tr>\n",
       "    <tr>\n",
       "      <th>1</th>\n",
       "      <td>608</td>\n",
       "      <td>41</td>\n",
       "      <td>1.0</td>\n",
       "      <td>83807.86</td>\n",
       "      <td>1</td>\n",
       "      <td>0</td>\n",
       "      <td>1</td>\n",
       "      <td>112542.58</td>\n",
       "      <td>0</td>\n",
       "      <td>0.0</td>\n",
       "      <td>1.0</td>\n",
       "      <td>0.0</td>\n",
       "    </tr>\n",
       "    <tr>\n",
       "      <th>2</th>\n",
       "      <td>502</td>\n",
       "      <td>42</td>\n",
       "      <td>8.0</td>\n",
       "      <td>159660.80</td>\n",
       "      <td>3</td>\n",
       "      <td>1</td>\n",
       "      <td>0</td>\n",
       "      <td>113931.57</td>\n",
       "      <td>1</td>\n",
       "      <td>0.0</td>\n",
       "      <td>0.0</td>\n",
       "      <td>0.0</td>\n",
       "    </tr>\n",
       "    <tr>\n",
       "      <th>3</th>\n",
       "      <td>699</td>\n",
       "      <td>39</td>\n",
       "      <td>1.0</td>\n",
       "      <td>0.00</td>\n",
       "      <td>2</td>\n",
       "      <td>0</td>\n",
       "      <td>0</td>\n",
       "      <td>93826.63</td>\n",
       "      <td>0</td>\n",
       "      <td>0.0</td>\n",
       "      <td>0.0</td>\n",
       "      <td>0.0</td>\n",
       "    </tr>\n",
       "    <tr>\n",
       "      <th>4</th>\n",
       "      <td>850</td>\n",
       "      <td>43</td>\n",
       "      <td>2.0</td>\n",
       "      <td>125510.82</td>\n",
       "      <td>1</td>\n",
       "      <td>1</td>\n",
       "      <td>1</td>\n",
       "      <td>79084.10</td>\n",
       "      <td>0</td>\n",
       "      <td>0.0</td>\n",
       "      <td>1.0</td>\n",
       "      <td>0.0</td>\n",
       "    </tr>\n",
       "  </tbody>\n",
       "</table>\n",
       "</div>"
      ],
      "text/plain": [
       "   CreditScore  Age  Tenure    Balance  NumOfProducts  HasCrCard  \\\n",
       "0          619   42     2.0       0.00              1          1   \n",
       "1          608   41     1.0   83807.86              1          0   \n",
       "2          502   42     8.0  159660.80              3          1   \n",
       "3          699   39     1.0       0.00              2          0   \n",
       "4          850   43     2.0  125510.82              1          1   \n",
       "\n",
       "   IsActiveMember  EstimatedSalary  Exited  Geography_Germany  \\\n",
       "0               1        101348.88       1                0.0   \n",
       "1               1        112542.58       0                0.0   \n",
       "2               0        113931.57       1                0.0   \n",
       "3               0         93826.63       0                0.0   \n",
       "4               1         79084.10       0                0.0   \n",
       "\n",
       "   Geography_Spain  Gender_Male  \n",
       "0              0.0          0.0  \n",
       "1              1.0          0.0  \n",
       "2              0.0          0.0  \n",
       "3              0.0          0.0  \n",
       "4              1.0          0.0  "
      ]
     },
     "execution_count": 20,
     "metadata": {},
     "output_type": "execute_result"
    }
   ],
   "source": [
    "df = df.join(pd.DataFrame(data=ohe.transform(df_object), columns=ohe.get_feature_names(columns_object), index=df.index))\n",
    "df.head()"
   ]
  },
  {
   "cell_type": "code",
   "execution_count": 21,
   "metadata": {},
   "outputs": [
    {
     "data": {
      "text/html": [
       "<div>\n",
       "<style scoped>\n",
       "    .dataframe tbody tr th:only-of-type {\n",
       "        vertical-align: middle;\n",
       "    }\n",
       "\n",
       "    .dataframe tbody tr th {\n",
       "        vertical-align: top;\n",
       "    }\n",
       "\n",
       "    .dataframe thead th {\n",
       "        text-align: right;\n",
       "    }\n",
       "</style>\n",
       "<table border=\"1\" class=\"dataframe\">\n",
       "  <thead>\n",
       "    <tr style=\"text-align: right;\">\n",
       "      <th></th>\n",
       "      <th>CreditScore</th>\n",
       "      <th>Age</th>\n",
       "      <th>Tenure</th>\n",
       "      <th>Balance</th>\n",
       "      <th>NumOfProducts</th>\n",
       "      <th>HasCrCard</th>\n",
       "      <th>IsActiveMember</th>\n",
       "      <th>EstimatedSalary</th>\n",
       "      <th>Geography_Germany</th>\n",
       "      <th>Geography_Spain</th>\n",
       "      <th>Gender_Male</th>\n",
       "    </tr>\n",
       "  </thead>\n",
       "  <tbody>\n",
       "    <tr>\n",
       "      <th>0</th>\n",
       "      <td>619</td>\n",
       "      <td>42</td>\n",
       "      <td>2.0</td>\n",
       "      <td>0.00</td>\n",
       "      <td>1</td>\n",
       "      <td>1</td>\n",
       "      <td>1</td>\n",
       "      <td>101348.88</td>\n",
       "      <td>0.0</td>\n",
       "      <td>0.0</td>\n",
       "      <td>0.0</td>\n",
       "    </tr>\n",
       "    <tr>\n",
       "      <th>1</th>\n",
       "      <td>608</td>\n",
       "      <td>41</td>\n",
       "      <td>1.0</td>\n",
       "      <td>83807.86</td>\n",
       "      <td>1</td>\n",
       "      <td>0</td>\n",
       "      <td>1</td>\n",
       "      <td>112542.58</td>\n",
       "      <td>0.0</td>\n",
       "      <td>1.0</td>\n",
       "      <td>0.0</td>\n",
       "    </tr>\n",
       "    <tr>\n",
       "      <th>2</th>\n",
       "      <td>502</td>\n",
       "      <td>42</td>\n",
       "      <td>8.0</td>\n",
       "      <td>159660.80</td>\n",
       "      <td>3</td>\n",
       "      <td>1</td>\n",
       "      <td>0</td>\n",
       "      <td>113931.57</td>\n",
       "      <td>0.0</td>\n",
       "      <td>0.0</td>\n",
       "      <td>0.0</td>\n",
       "    </tr>\n",
       "    <tr>\n",
       "      <th>3</th>\n",
       "      <td>699</td>\n",
       "      <td>39</td>\n",
       "      <td>1.0</td>\n",
       "      <td>0.00</td>\n",
       "      <td>2</td>\n",
       "      <td>0</td>\n",
       "      <td>0</td>\n",
       "      <td>93826.63</td>\n",
       "      <td>0.0</td>\n",
       "      <td>0.0</td>\n",
       "      <td>0.0</td>\n",
       "    </tr>\n",
       "    <tr>\n",
       "      <th>4</th>\n",
       "      <td>850</td>\n",
       "      <td>43</td>\n",
       "      <td>2.0</td>\n",
       "      <td>125510.82</td>\n",
       "      <td>1</td>\n",
       "      <td>1</td>\n",
       "      <td>1</td>\n",
       "      <td>79084.10</td>\n",
       "      <td>0.0</td>\n",
       "      <td>1.0</td>\n",
       "      <td>0.0</td>\n",
       "    </tr>\n",
       "  </tbody>\n",
       "</table>\n",
       "</div>"
      ],
      "text/plain": [
       "   CreditScore  Age  Tenure    Balance  NumOfProducts  HasCrCard  \\\n",
       "0          619   42     2.0       0.00              1          1   \n",
       "1          608   41     1.0   83807.86              1          0   \n",
       "2          502   42     8.0  159660.80              3          1   \n",
       "3          699   39     1.0       0.00              2          0   \n",
       "4          850   43     2.0  125510.82              1          1   \n",
       "\n",
       "   IsActiveMember  EstimatedSalary  Geography_Germany  Geography_Spain  \\\n",
       "0               1        101348.88                0.0              0.0   \n",
       "1               1        112542.58                0.0              1.0   \n",
       "2               0        113931.57                0.0              0.0   \n",
       "3               0         93826.63                0.0              0.0   \n",
       "4               1         79084.10                0.0              1.0   \n",
       "\n",
       "   Gender_Male  \n",
       "0          0.0  \n",
       "1          0.0  \n",
       "2          0.0  \n",
       "3          0.0  \n",
       "4          0.0  "
      ]
     },
     "execution_count": 21,
     "metadata": {},
     "output_type": "execute_result"
    }
   ],
   "source": [
    "X = df.drop(columns=['Exited'])\n",
    "y = df['Exited']\n",
    "X.head()\n",
    "#делю датасет на предсказывающие колонки и таргет"
   ]
  },
  {
   "cell_type": "code",
   "execution_count": 22,
   "metadata": {},
   "outputs": [
    {
     "data": {
      "text/plain": [
       "0    0.796062\n",
       "1    0.203938\n",
       "Name: Exited, dtype: float64"
      ]
     },
     "execution_count": 22,
     "metadata": {},
     "output_type": "execute_result"
    }
   ],
   "source": [
    "y.value_counts(normalize=True)"
   ]
  },
  {
   "cell_type": "code",
   "execution_count": 23,
   "metadata": {},
   "outputs": [],
   "source": [
    "X_train, X_valid_test, y_train, y_valid_test = train_test_split(X, y, test_size=0.4, stratify=y, random_state=21)\n",
    "X_valid, X_test, y_valid, y_test = train_test_split(X_valid_test, y_valid_test, test_size=0.5, stratify=y_valid_test, random_state=21)\n",
    "#делю данные на обучающую, валидационную и тестовую выборки с стратификацией по таргету"
   ]
  },
  {
   "cell_type": "code",
   "execution_count": 24,
   "metadata": {},
   "outputs": [
    {
     "data": {
      "text/html": [
       "<div>\n",
       "<style scoped>\n",
       "    .dataframe tbody tr th:only-of-type {\n",
       "        vertical-align: middle;\n",
       "    }\n",
       "\n",
       "    .dataframe tbody tr th {\n",
       "        vertical-align: top;\n",
       "    }\n",
       "\n",
       "    .dataframe thead th {\n",
       "        text-align: right;\n",
       "    }\n",
       "</style>\n",
       "<table border=\"1\" class=\"dataframe\">\n",
       "  <thead>\n",
       "    <tr style=\"text-align: right;\">\n",
       "      <th></th>\n",
       "      <th>CreditScore</th>\n",
       "      <th>Age</th>\n",
       "      <th>Tenure</th>\n",
       "      <th>Balance</th>\n",
       "      <th>NumOfProducts</th>\n",
       "      <th>HasCrCard</th>\n",
       "      <th>IsActiveMember</th>\n",
       "      <th>EstimatedSalary</th>\n",
       "      <th>Geography_Germany</th>\n",
       "      <th>Geography_Spain</th>\n",
       "      <th>Gender_Male</th>\n",
       "    </tr>\n",
       "  </thead>\n",
       "  <tbody>\n",
       "    <tr>\n",
       "      <th>2763</th>\n",
       "      <td>706</td>\n",
       "      <td>47</td>\n",
       "      <td>6.0</td>\n",
       "      <td>120621.89</td>\n",
       "      <td>1</td>\n",
       "      <td>1</td>\n",
       "      <td>1</td>\n",
       "      <td>140803.70</td>\n",
       "      <td>1.0</td>\n",
       "      <td>0.0</td>\n",
       "      <td>0.0</td>\n",
       "    </tr>\n",
       "    <tr>\n",
       "      <th>6673</th>\n",
       "      <td>729</td>\n",
       "      <td>36</td>\n",
       "      <td>8.0</td>\n",
       "      <td>109106.80</td>\n",
       "      <td>1</td>\n",
       "      <td>0</td>\n",
       "      <td>0</td>\n",
       "      <td>121311.12</td>\n",
       "      <td>0.0</td>\n",
       "      <td>0.0</td>\n",
       "      <td>0.0</td>\n",
       "    </tr>\n",
       "    <tr>\n",
       "      <th>77</th>\n",
       "      <td>678</td>\n",
       "      <td>32</td>\n",
       "      <td>9.0</td>\n",
       "      <td>0.00</td>\n",
       "      <td>1</td>\n",
       "      <td>1</td>\n",
       "      <td>1</td>\n",
       "      <td>148210.64</td>\n",
       "      <td>0.0</td>\n",
       "      <td>0.0</td>\n",
       "      <td>0.0</td>\n",
       "    </tr>\n",
       "    <tr>\n",
       "      <th>2650</th>\n",
       "      <td>587</td>\n",
       "      <td>33</td>\n",
       "      <td>5.0</td>\n",
       "      <td>100116.82</td>\n",
       "      <td>1</td>\n",
       "      <td>1</td>\n",
       "      <td>0</td>\n",
       "      <td>34215.58</td>\n",
       "      <td>0.0</td>\n",
       "      <td>0.0</td>\n",
       "      <td>1.0</td>\n",
       "    </tr>\n",
       "    <tr>\n",
       "      <th>9890</th>\n",
       "      <td>662</td>\n",
       "      <td>37</td>\n",
       "      <td>4.0</td>\n",
       "      <td>155187.30</td>\n",
       "      <td>1</td>\n",
       "      <td>1</td>\n",
       "      <td>0</td>\n",
       "      <td>48930.80</td>\n",
       "      <td>0.0</td>\n",
       "      <td>1.0</td>\n",
       "      <td>1.0</td>\n",
       "    </tr>\n",
       "  </tbody>\n",
       "</table>\n",
       "</div>"
      ],
      "text/plain": [
       "      CreditScore  Age  Tenure    Balance  NumOfProducts  HasCrCard  \\\n",
       "2763          706   47     6.0  120621.89              1          1   \n",
       "6673          729   36     8.0  109106.80              1          0   \n",
       "77            678   32     9.0       0.00              1          1   \n",
       "2650          587   33     5.0  100116.82              1          1   \n",
       "9890          662   37     4.0  155187.30              1          1   \n",
       "\n",
       "      IsActiveMember  EstimatedSalary  Geography_Germany  Geography_Spain  \\\n",
       "2763               1        140803.70                1.0              0.0   \n",
       "6673               0        121311.12                0.0              0.0   \n",
       "77                 1        148210.64                0.0              0.0   \n",
       "2650               0         34215.58                0.0              0.0   \n",
       "9890               0         48930.80                0.0              1.0   \n",
       "\n",
       "      Gender_Male  \n",
       "2763          0.0  \n",
       "6673          0.0  \n",
       "77            0.0  \n",
       "2650          1.0  \n",
       "9890          1.0  "
      ]
     },
     "execution_count": 24,
     "metadata": {},
     "output_type": "execute_result"
    }
   ],
   "source": [
    "X_train.head()"
   ]
  },
  {
   "cell_type": "code",
   "execution_count": 25,
   "metadata": {},
   "outputs": [
    {
     "data": {
      "text/html": [
       "<div>\n",
       "<style scoped>\n",
       "    .dataframe tbody tr th:only-of-type {\n",
       "        vertical-align: middle;\n",
       "    }\n",
       "\n",
       "    .dataframe tbody tr th {\n",
       "        vertical-align: top;\n",
       "    }\n",
       "\n",
       "    .dataframe thead th {\n",
       "        text-align: right;\n",
       "    }\n",
       "</style>\n",
       "<table border=\"1\" class=\"dataframe\">\n",
       "  <thead>\n",
       "    <tr style=\"text-align: right;\">\n",
       "      <th></th>\n",
       "      <th>CreditScore</th>\n",
       "      <th>Age</th>\n",
       "      <th>Tenure</th>\n",
       "      <th>Balance</th>\n",
       "      <th>NumOfProducts</th>\n",
       "      <th>HasCrCard</th>\n",
       "      <th>IsActiveMember</th>\n",
       "      <th>EstimatedSalary</th>\n",
       "      <th>Geography_Germany</th>\n",
       "      <th>Geography_Spain</th>\n",
       "      <th>Gender_Male</th>\n",
       "    </tr>\n",
       "  </thead>\n",
       "  <tbody>\n",
       "    <tr>\n",
       "      <th>8014</th>\n",
       "      <td>731</td>\n",
       "      <td>39</td>\n",
       "      <td>2.0</td>\n",
       "      <td>126816.18</td>\n",
       "      <td>1</td>\n",
       "      <td>1</td>\n",
       "      <td>1</td>\n",
       "      <td>74850.93</td>\n",
       "      <td>0.0</td>\n",
       "      <td>1.0</td>\n",
       "      <td>0.0</td>\n",
       "    </tr>\n",
       "    <tr>\n",
       "      <th>1607</th>\n",
       "      <td>711</td>\n",
       "      <td>64</td>\n",
       "      <td>4.0</td>\n",
       "      <td>0.00</td>\n",
       "      <td>2</td>\n",
       "      <td>1</td>\n",
       "      <td>1</td>\n",
       "      <td>3185.67</td>\n",
       "      <td>0.0</td>\n",
       "      <td>0.0</td>\n",
       "      <td>1.0</td>\n",
       "    </tr>\n",
       "    <tr>\n",
       "      <th>5438</th>\n",
       "      <td>679</td>\n",
       "      <td>34</td>\n",
       "      <td>7.0</td>\n",
       "      <td>160515.37</td>\n",
       "      <td>1</td>\n",
       "      <td>1</td>\n",
       "      <td>0</td>\n",
       "      <td>121904.14</td>\n",
       "      <td>0.0</td>\n",
       "      <td>0.0</td>\n",
       "      <td>1.0</td>\n",
       "    </tr>\n",
       "    <tr>\n",
       "      <th>1610</th>\n",
       "      <td>588</td>\n",
       "      <td>24</td>\n",
       "      <td>0.0</td>\n",
       "      <td>0.00</td>\n",
       "      <td>2</td>\n",
       "      <td>1</td>\n",
       "      <td>1</td>\n",
       "      <td>140586.08</td>\n",
       "      <td>0.0</td>\n",
       "      <td>0.0</td>\n",
       "      <td>0.0</td>\n",
       "    </tr>\n",
       "    <tr>\n",
       "      <th>4059</th>\n",
       "      <td>676</td>\n",
       "      <td>37</td>\n",
       "      <td>10.0</td>\n",
       "      <td>106242.67</td>\n",
       "      <td>1</td>\n",
       "      <td>1</td>\n",
       "      <td>1</td>\n",
       "      <td>166678.28</td>\n",
       "      <td>0.0</td>\n",
       "      <td>0.0</td>\n",
       "      <td>1.0</td>\n",
       "    </tr>\n",
       "  </tbody>\n",
       "</table>\n",
       "</div>"
      ],
      "text/plain": [
       "      CreditScore  Age  Tenure    Balance  NumOfProducts  HasCrCard  \\\n",
       "8014          731   39     2.0  126816.18              1          1   \n",
       "1607          711   64     4.0       0.00              2          1   \n",
       "5438          679   34     7.0  160515.37              1          1   \n",
       "1610          588   24     0.0       0.00              2          1   \n",
       "4059          676   37    10.0  106242.67              1          1   \n",
       "\n",
       "      IsActiveMember  EstimatedSalary  Geography_Germany  Geography_Spain  \\\n",
       "8014               1         74850.93                0.0              1.0   \n",
       "1607               1          3185.67                0.0              0.0   \n",
       "5438               0        121904.14                0.0              0.0   \n",
       "1610               1        140586.08                0.0              0.0   \n",
       "4059               1        166678.28                0.0              0.0   \n",
       "\n",
       "      Gender_Male  \n",
       "8014          0.0  \n",
       "1607          1.0  \n",
       "5438          1.0  \n",
       "1610          0.0  \n",
       "4059          1.0  "
      ]
     },
     "execution_count": 25,
     "metadata": {},
     "output_type": "execute_result"
    }
   ],
   "source": [
    "X_valid.head()"
   ]
  },
  {
   "cell_type": "code",
   "execution_count": 26,
   "metadata": {},
   "outputs": [
    {
     "data": {
      "text/html": [
       "<div>\n",
       "<style scoped>\n",
       "    .dataframe tbody tr th:only-of-type {\n",
       "        vertical-align: middle;\n",
       "    }\n",
       "\n",
       "    .dataframe tbody tr th {\n",
       "        vertical-align: top;\n",
       "    }\n",
       "\n",
       "    .dataframe thead th {\n",
       "        text-align: right;\n",
       "    }\n",
       "</style>\n",
       "<table border=\"1\" class=\"dataframe\">\n",
       "  <thead>\n",
       "    <tr style=\"text-align: right;\">\n",
       "      <th></th>\n",
       "      <th>CreditScore</th>\n",
       "      <th>Age</th>\n",
       "      <th>Tenure</th>\n",
       "      <th>Balance</th>\n",
       "      <th>NumOfProducts</th>\n",
       "      <th>HasCrCard</th>\n",
       "      <th>IsActiveMember</th>\n",
       "      <th>EstimatedSalary</th>\n",
       "      <th>Geography_Germany</th>\n",
       "      <th>Geography_Spain</th>\n",
       "      <th>Gender_Male</th>\n",
       "    </tr>\n",
       "  </thead>\n",
       "  <tbody>\n",
       "    <tr>\n",
       "      <th>4265</th>\n",
       "      <td>709</td>\n",
       "      <td>32</td>\n",
       "      <td>4.0</td>\n",
       "      <td>147307.91</td>\n",
       "      <td>1</td>\n",
       "      <td>0</td>\n",
       "      <td>1</td>\n",
       "      <td>40861.55</td>\n",
       "      <td>0.0</td>\n",
       "      <td>0.0</td>\n",
       "      <td>1.0</td>\n",
       "    </tr>\n",
       "    <tr>\n",
       "      <th>1043</th>\n",
       "      <td>579</td>\n",
       "      <td>35</td>\n",
       "      <td>1.0</td>\n",
       "      <td>0.00</td>\n",
       "      <td>2</td>\n",
       "      <td>1</td>\n",
       "      <td>0</td>\n",
       "      <td>4460.20</td>\n",
       "      <td>0.0</td>\n",
       "      <td>0.0</td>\n",
       "      <td>1.0</td>\n",
       "    </tr>\n",
       "    <tr>\n",
       "      <th>3447</th>\n",
       "      <td>646</td>\n",
       "      <td>32</td>\n",
       "      <td>8.0</td>\n",
       "      <td>105397.80</td>\n",
       "      <td>1</td>\n",
       "      <td>1</td>\n",
       "      <td>0</td>\n",
       "      <td>78111.84</td>\n",
       "      <td>1.0</td>\n",
       "      <td>0.0</td>\n",
       "      <td>1.0</td>\n",
       "    </tr>\n",
       "    <tr>\n",
       "      <th>421</th>\n",
       "      <td>586</td>\n",
       "      <td>38</td>\n",
       "      <td>2.0</td>\n",
       "      <td>0.00</td>\n",
       "      <td>2</td>\n",
       "      <td>1</td>\n",
       "      <td>0</td>\n",
       "      <td>87168.46</td>\n",
       "      <td>0.0</td>\n",
       "      <td>0.0</td>\n",
       "      <td>0.0</td>\n",
       "    </tr>\n",
       "    <tr>\n",
       "      <th>858</th>\n",
       "      <td>456</td>\n",
       "      <td>32</td>\n",
       "      <td>9.0</td>\n",
       "      <td>147506.25</td>\n",
       "      <td>1</td>\n",
       "      <td>1</td>\n",
       "      <td>1</td>\n",
       "      <td>135399.21</td>\n",
       "      <td>0.0</td>\n",
       "      <td>1.0</td>\n",
       "      <td>1.0</td>\n",
       "    </tr>\n",
       "  </tbody>\n",
       "</table>\n",
       "</div>"
      ],
      "text/plain": [
       "      CreditScore  Age  Tenure    Balance  NumOfProducts  HasCrCard  \\\n",
       "4265          709   32     4.0  147307.91              1          0   \n",
       "1043          579   35     1.0       0.00              2          1   \n",
       "3447          646   32     8.0  105397.80              1          1   \n",
       "421           586   38     2.0       0.00              2          1   \n",
       "858           456   32     9.0  147506.25              1          1   \n",
       "\n",
       "      IsActiveMember  EstimatedSalary  Geography_Germany  Geography_Spain  \\\n",
       "4265               1         40861.55                0.0              0.0   \n",
       "1043               0          4460.20                0.0              0.0   \n",
       "3447               0         78111.84                1.0              0.0   \n",
       "421                0         87168.46                0.0              0.0   \n",
       "858                1        135399.21                0.0              1.0   \n",
       "\n",
       "      Gender_Male  \n",
       "4265          1.0  \n",
       "1043          1.0  \n",
       "3447          1.0  \n",
       "421           0.0  \n",
       "858           1.0  "
      ]
     },
     "execution_count": 26,
     "metadata": {},
     "output_type": "execute_result"
    }
   ],
   "source": [
    " X_test.head()"
   ]
  },
  {
   "cell_type": "code",
   "execution_count": 27,
   "metadata": {},
   "outputs": [
    {
     "data": {
      "text/plain": [
       "0    0.796113\n",
       "1    0.203887\n",
       "Name: Exited, dtype: float64"
      ]
     },
     "execution_count": 27,
     "metadata": {},
     "output_type": "execute_result"
    }
   ],
   "source": [
    "y_train.value_counts(normalize=True)"
   ]
  },
  {
   "cell_type": "code",
   "execution_count": 28,
   "metadata": {},
   "outputs": [
    {
     "data": {
      "text/plain": [
       "0    0.79593\n",
       "1    0.20407\n",
       "Name: Exited, dtype: float64"
      ]
     },
     "execution_count": 28,
     "metadata": {},
     "output_type": "execute_result"
    }
   ],
   "source": [
    "y_valid.value_counts(normalize=True)"
   ]
  },
  {
   "cell_type": "code",
   "execution_count": 29,
   "metadata": {
    "scrolled": true
   },
   "outputs": [
    {
     "data": {
      "text/plain": [
       "0    0.796042\n",
       "1    0.203958\n",
       "Name: Exited, dtype: float64"
      ]
     },
     "execution_count": 29,
     "metadata": {},
     "output_type": "execute_result"
    }
   ],
   "source": [
    "y_test.value_counts(normalize=True)"
   ]
  },
  {
   "cell_type": "code",
   "execution_count": 30,
   "metadata": {},
   "outputs": [],
   "source": [
    "numeric = ['CreditScore', 'Age', 'Tenure', 'Balance', 'NumOfProducts', 'EstimatedSalary']\n",
    "#преобразую колонки с числовыми значениями к стандартному виду (m = 0, q = 1)"
   ]
  },
  {
   "cell_type": "code",
   "execution_count": 31,
   "metadata": {},
   "outputs": [
    {
     "data": {
      "text/plain": [
       "StandardScaler()"
      ]
     },
     "execution_count": 31,
     "metadata": {},
     "output_type": "execute_result"
    }
   ],
   "source": [
    "scaler = StandardScaler()\n",
    "scaler.fit(X_train[numeric])"
   ]
  },
  {
   "cell_type": "code",
   "execution_count": 32,
   "metadata": {
    "scrolled": false
   },
   "outputs": [
    {
     "data": {
      "text/html": [
       "<div>\n",
       "<style scoped>\n",
       "    .dataframe tbody tr th:only-of-type {\n",
       "        vertical-align: middle;\n",
       "    }\n",
       "\n",
       "    .dataframe tbody tr th {\n",
       "        vertical-align: top;\n",
       "    }\n",
       "\n",
       "    .dataframe thead th {\n",
       "        text-align: right;\n",
       "    }\n",
       "</style>\n",
       "<table border=\"1\" class=\"dataframe\">\n",
       "  <thead>\n",
       "    <tr style=\"text-align: right;\">\n",
       "      <th></th>\n",
       "      <th>CreditScore</th>\n",
       "      <th>Age</th>\n",
       "      <th>Tenure</th>\n",
       "      <th>Balance</th>\n",
       "      <th>NumOfProducts</th>\n",
       "      <th>HasCrCard</th>\n",
       "      <th>IsActiveMember</th>\n",
       "      <th>EstimatedSalary</th>\n",
       "      <th>Geography_Germany</th>\n",
       "      <th>Geography_Spain</th>\n",
       "      <th>Gender_Male</th>\n",
       "    </tr>\n",
       "  </thead>\n",
       "  <tbody>\n",
       "    <tr>\n",
       "      <th>2763</th>\n",
       "      <td>0.565489</td>\n",
       "      <td>0.754729</td>\n",
       "      <td>0.351502</td>\n",
       "      <td>0.710302</td>\n",
       "      <td>-0.909327</td>\n",
       "      <td>1</td>\n",
       "      <td>1</td>\n",
       "      <td>0.701316</td>\n",
       "      <td>1.0</td>\n",
       "      <td>0.0</td>\n",
       "      <td>0.0</td>\n",
       "    </tr>\n",
       "    <tr>\n",
       "      <th>6673</th>\n",
       "      <td>0.802436</td>\n",
       "      <td>-0.282690</td>\n",
       "      <td>1.044217</td>\n",
       "      <td>0.525230</td>\n",
       "      <td>-0.909327</td>\n",
       "      <td>0</td>\n",
       "      <td>0</td>\n",
       "      <td>0.363148</td>\n",
       "      <td>0.0</td>\n",
       "      <td>0.0</td>\n",
       "      <td>0.0</td>\n",
       "    </tr>\n",
       "    <tr>\n",
       "      <th>77</th>\n",
       "      <td>0.277030</td>\n",
       "      <td>-0.659934</td>\n",
       "      <td>1.390574</td>\n",
       "      <td>-1.228344</td>\n",
       "      <td>-0.909327</td>\n",
       "      <td>1</td>\n",
       "      <td>1</td>\n",
       "      <td>0.829815</td>\n",
       "      <td>0.0</td>\n",
       "      <td>0.0</td>\n",
       "      <td>0.0</td>\n",
       "    </tr>\n",
       "    <tr>\n",
       "      <th>2650</th>\n",
       "      <td>-0.660459</td>\n",
       "      <td>-0.565623</td>\n",
       "      <td>0.005144</td>\n",
       "      <td>0.380743</td>\n",
       "      <td>-0.909327</td>\n",
       "      <td>1</td>\n",
       "      <td>0</td>\n",
       "      <td>-1.147833</td>\n",
       "      <td>0.0</td>\n",
       "      <td>0.0</td>\n",
       "      <td>1.0</td>\n",
       "    </tr>\n",
       "    <tr>\n",
       "      <th>9890</th>\n",
       "      <td>0.112197</td>\n",
       "      <td>-0.188380</td>\n",
       "      <td>-0.341214</td>\n",
       "      <td>1.265840</td>\n",
       "      <td>-0.909327</td>\n",
       "      <td>1</td>\n",
       "      <td>0</td>\n",
       "      <td>-0.892545</td>\n",
       "      <td>0.0</td>\n",
       "      <td>1.0</td>\n",
       "      <td>1.0</td>\n",
       "    </tr>\n",
       "  </tbody>\n",
       "</table>\n",
       "</div>"
      ],
      "text/plain": [
       "      CreditScore       Age    Tenure   Balance  NumOfProducts  HasCrCard  \\\n",
       "2763     0.565489  0.754729  0.351502  0.710302      -0.909327          1   \n",
       "6673     0.802436 -0.282690  1.044217  0.525230      -0.909327          0   \n",
       "77       0.277030 -0.659934  1.390574 -1.228344      -0.909327          1   \n",
       "2650    -0.660459 -0.565623  0.005144  0.380743      -0.909327          1   \n",
       "9890     0.112197 -0.188380 -0.341214  1.265840      -0.909327          1   \n",
       "\n",
       "      IsActiveMember  EstimatedSalary  Geography_Germany  Geography_Spain  \\\n",
       "2763               1         0.701316                1.0              0.0   \n",
       "6673               0         0.363148                0.0              0.0   \n",
       "77                 1         0.829815                0.0              0.0   \n",
       "2650               0        -1.147833                0.0              0.0   \n",
       "9890               0        -0.892545                0.0              1.0   \n",
       "\n",
       "      Gender_Male  \n",
       "2763          0.0  \n",
       "6673          0.0  \n",
       "77            0.0  \n",
       "2650          1.0  \n",
       "9890          1.0  "
      ]
     },
     "execution_count": 32,
     "metadata": {},
     "output_type": "execute_result"
    }
   ],
   "source": [
    "X_train[numeric] = scaler.transform(X_train[numeric])\n",
    "X_train.head()"
   ]
  },
  {
   "cell_type": "code",
   "execution_count": 33,
   "metadata": {},
   "outputs": [
    {
     "data": {
      "text/html": [
       "<div>\n",
       "<style scoped>\n",
       "    .dataframe tbody tr th:only-of-type {\n",
       "        vertical-align: middle;\n",
       "    }\n",
       "\n",
       "    .dataframe tbody tr th {\n",
       "        vertical-align: top;\n",
       "    }\n",
       "\n",
       "    .dataframe thead th {\n",
       "        text-align: right;\n",
       "    }\n",
       "</style>\n",
       "<table border=\"1\" class=\"dataframe\">\n",
       "  <thead>\n",
       "    <tr style=\"text-align: right;\">\n",
       "      <th></th>\n",
       "      <th>CreditScore</th>\n",
       "      <th>Age</th>\n",
       "      <th>Tenure</th>\n",
       "      <th>Balance</th>\n",
       "      <th>NumOfProducts</th>\n",
       "      <th>HasCrCard</th>\n",
       "      <th>IsActiveMember</th>\n",
       "      <th>EstimatedSalary</th>\n",
       "      <th>Geography_Germany</th>\n",
       "      <th>Geography_Spain</th>\n",
       "      <th>Gender_Male</th>\n",
       "    </tr>\n",
       "  </thead>\n",
       "  <tbody>\n",
       "    <tr>\n",
       "      <th>8014</th>\n",
       "      <td>0.823041</td>\n",
       "      <td>0.000242</td>\n",
       "      <td>-1.033929</td>\n",
       "      <td>0.809857</td>\n",
       "      <td>-0.909327</td>\n",
       "      <td>1</td>\n",
       "      <td>1</td>\n",
       "      <td>-0.442869</td>\n",
       "      <td>0.0</td>\n",
       "      <td>1.0</td>\n",
       "      <td>0.0</td>\n",
       "    </tr>\n",
       "    <tr>\n",
       "      <th>1607</th>\n",
       "      <td>0.616999</td>\n",
       "      <td>2.358012</td>\n",
       "      <td>-0.341214</td>\n",
       "      <td>-1.228344</td>\n",
       "      <td>0.814506</td>\n",
       "      <td>1</td>\n",
       "      <td>1</td>\n",
       "      <td>-1.686156</td>\n",
       "      <td>0.0</td>\n",
       "      <td>0.0</td>\n",
       "      <td>1.0</td>\n",
       "    </tr>\n",
       "    <tr>\n",
       "      <th>5438</th>\n",
       "      <td>0.287332</td>\n",
       "      <td>-0.471312</td>\n",
       "      <td>0.697859</td>\n",
       "      <td>1.351474</td>\n",
       "      <td>-0.909327</td>\n",
       "      <td>1</td>\n",
       "      <td>0</td>\n",
       "      <td>0.373436</td>\n",
       "      <td>0.0</td>\n",
       "      <td>0.0</td>\n",
       "      <td>1.0</td>\n",
       "    </tr>\n",
       "    <tr>\n",
       "      <th>1610</th>\n",
       "      <td>-0.650157</td>\n",
       "      <td>-1.414420</td>\n",
       "      <td>-1.726644</td>\n",
       "      <td>-1.228344</td>\n",
       "      <td>0.814506</td>\n",
       "      <td>1</td>\n",
       "      <td>1</td>\n",
       "      <td>0.697540</td>\n",
       "      <td>0.0</td>\n",
       "      <td>0.0</td>\n",
       "      <td>0.0</td>\n",
       "    </tr>\n",
       "    <tr>\n",
       "      <th>4059</th>\n",
       "      <td>0.256426</td>\n",
       "      <td>-0.188380</td>\n",
       "      <td>1.736932</td>\n",
       "      <td>0.479198</td>\n",
       "      <td>-0.909327</td>\n",
       "      <td>1</td>\n",
       "      <td>1</td>\n",
       "      <td>1.150202</td>\n",
       "      <td>0.0</td>\n",
       "      <td>0.0</td>\n",
       "      <td>1.0</td>\n",
       "    </tr>\n",
       "  </tbody>\n",
       "</table>\n",
       "</div>"
      ],
      "text/plain": [
       "      CreditScore       Age    Tenure   Balance  NumOfProducts  HasCrCard  \\\n",
       "8014     0.823041  0.000242 -1.033929  0.809857      -0.909327          1   \n",
       "1607     0.616999  2.358012 -0.341214 -1.228344       0.814506          1   \n",
       "5438     0.287332 -0.471312  0.697859  1.351474      -0.909327          1   \n",
       "1610    -0.650157 -1.414420 -1.726644 -1.228344       0.814506          1   \n",
       "4059     0.256426 -0.188380  1.736932  0.479198      -0.909327          1   \n",
       "\n",
       "      IsActiveMember  EstimatedSalary  Geography_Germany  Geography_Spain  \\\n",
       "8014               1        -0.442869                0.0              1.0   \n",
       "1607               1        -1.686156                0.0              0.0   \n",
       "5438               0         0.373436                0.0              0.0   \n",
       "1610               1         0.697540                0.0              0.0   \n",
       "4059               1         1.150202                0.0              0.0   \n",
       "\n",
       "      Gender_Male  \n",
       "8014          0.0  \n",
       "1607          1.0  \n",
       "5438          1.0  \n",
       "1610          0.0  \n",
       "4059          1.0  "
      ]
     },
     "execution_count": 33,
     "metadata": {},
     "output_type": "execute_result"
    }
   ],
   "source": [
    "X_valid[numeric] = scaler.transform(X_valid[numeric])\n",
    "X_valid.head()"
   ]
  },
  {
   "cell_type": "code",
   "execution_count": 34,
   "metadata": {
    "scrolled": true
   },
   "outputs": [
    {
     "data": {
      "text/html": [
       "<div>\n",
       "<style scoped>\n",
       "    .dataframe tbody tr th:only-of-type {\n",
       "        vertical-align: middle;\n",
       "    }\n",
       "\n",
       "    .dataframe tbody tr th {\n",
       "        vertical-align: top;\n",
       "    }\n",
       "\n",
       "    .dataframe thead th {\n",
       "        text-align: right;\n",
       "    }\n",
       "</style>\n",
       "<table border=\"1\" class=\"dataframe\">\n",
       "  <thead>\n",
       "    <tr style=\"text-align: right;\">\n",
       "      <th></th>\n",
       "      <th>CreditScore</th>\n",
       "      <th>Age</th>\n",
       "      <th>Tenure</th>\n",
       "      <th>Balance</th>\n",
       "      <th>NumOfProducts</th>\n",
       "      <th>HasCrCard</th>\n",
       "      <th>IsActiveMember</th>\n",
       "      <th>EstimatedSalary</th>\n",
       "      <th>Geography_Germany</th>\n",
       "      <th>Geography_Spain</th>\n",
       "      <th>Gender_Male</th>\n",
       "    </tr>\n",
       "  </thead>\n",
       "  <tbody>\n",
       "    <tr>\n",
       "      <th>4265</th>\n",
       "      <td>0.596395</td>\n",
       "      <td>-0.659934</td>\n",
       "      <td>-0.341214</td>\n",
       "      <td>1.139202</td>\n",
       "      <td>-0.909327</td>\n",
       "      <td>0</td>\n",
       "      <td>1</td>\n",
       "      <td>-1.032535</td>\n",
       "      <td>0.0</td>\n",
       "      <td>0.0</td>\n",
       "      <td>1.0</td>\n",
       "    </tr>\n",
       "    <tr>\n",
       "      <th>1043</th>\n",
       "      <td>-0.742876</td>\n",
       "      <td>-0.377001</td>\n",
       "      <td>-1.380286</td>\n",
       "      <td>-1.228344</td>\n",
       "      <td>0.814506</td>\n",
       "      <td>1</td>\n",
       "      <td>0</td>\n",
       "      <td>-1.664045</td>\n",
       "      <td>0.0</td>\n",
       "      <td>0.0</td>\n",
       "      <td>1.0</td>\n",
       "    </tr>\n",
       "    <tr>\n",
       "      <th>3447</th>\n",
       "      <td>-0.052636</td>\n",
       "      <td>-0.659934</td>\n",
       "      <td>1.044217</td>\n",
       "      <td>0.465619</td>\n",
       "      <td>-0.909327</td>\n",
       "      <td>1</td>\n",
       "      <td>0</td>\n",
       "      <td>-0.386297</td>\n",
       "      <td>1.0</td>\n",
       "      <td>0.0</td>\n",
       "      <td>1.0</td>\n",
       "    </tr>\n",
       "    <tr>\n",
       "      <th>421</th>\n",
       "      <td>-0.670761</td>\n",
       "      <td>-0.094069</td>\n",
       "      <td>-1.033929</td>\n",
       "      <td>-1.228344</td>\n",
       "      <td>0.814506</td>\n",
       "      <td>1</td>\n",
       "      <td>0</td>\n",
       "      <td>-0.229177</td>\n",
       "      <td>0.0</td>\n",
       "      <td>0.0</td>\n",
       "      <td>0.0</td>\n",
       "    </tr>\n",
       "    <tr>\n",
       "      <th>858</th>\n",
       "      <td>-2.010031</td>\n",
       "      <td>-0.659934</td>\n",
       "      <td>1.390574</td>\n",
       "      <td>1.142390</td>\n",
       "      <td>-0.909327</td>\n",
       "      <td>1</td>\n",
       "      <td>1</td>\n",
       "      <td>0.607556</td>\n",
       "      <td>0.0</td>\n",
       "      <td>1.0</td>\n",
       "      <td>1.0</td>\n",
       "    </tr>\n",
       "  </tbody>\n",
       "</table>\n",
       "</div>"
      ],
      "text/plain": [
       "      CreditScore       Age    Tenure   Balance  NumOfProducts  HasCrCard  \\\n",
       "4265     0.596395 -0.659934 -0.341214  1.139202      -0.909327          0   \n",
       "1043    -0.742876 -0.377001 -1.380286 -1.228344       0.814506          1   \n",
       "3447    -0.052636 -0.659934  1.044217  0.465619      -0.909327          1   \n",
       "421     -0.670761 -0.094069 -1.033929 -1.228344       0.814506          1   \n",
       "858     -2.010031 -0.659934  1.390574  1.142390      -0.909327          1   \n",
       "\n",
       "      IsActiveMember  EstimatedSalary  Geography_Germany  Geography_Spain  \\\n",
       "4265               1        -1.032535                0.0              0.0   \n",
       "1043               0        -1.664045                0.0              0.0   \n",
       "3447               0        -0.386297                1.0              0.0   \n",
       "421                0        -0.229177                0.0              0.0   \n",
       "858                1         0.607556                0.0              1.0   \n",
       "\n",
       "      Gender_Male  \n",
       "4265          1.0  \n",
       "1043          1.0  \n",
       "3447          1.0  \n",
       "421           0.0  \n",
       "858           1.0  "
      ]
     },
     "execution_count": 34,
     "metadata": {},
     "output_type": "execute_result"
    }
   ],
   "source": [
    "X_test[numeric] = scaler.transform(X_test[numeric])\n",
    "X_test.head()"
   ]
  },
  {
   "cell_type": "markdown",
   "metadata": {},
   "source": [
    "Вывод:\n",
    "\n",
    "Из данных удалены ненужные столбцы. \n",
    "\n",
    "Проверена корректность типов и значений колонок.\n",
    "\n",
    "Удалены строки с пустыми значениями.\n",
    "\n",
    "Датасет разделен на предсказывающие колонки и таргет.\n",
    "\n",
    "Категориальные признаки преобразованы к числовым с помощью One hot encoding.\n",
    "\n",
    "Выборка поделена на обучающую, валидационную и тестовую в соотношении 60:20:20 со стратификацией по таргету.\n",
    "\n",
    "Числовые данные обучающего, валидационного и тестового датасетов стандартизированы с помощью StandartScaler, обученного на обучающей выборке.\n",
    "\n",
    "Данные готовы для применения машинного обучения."
   ]
  },
  {
   "cell_type": "markdown",
   "metadata": {},
   "source": [
    "## Исследование задачи"
   ]
  },
  {
   "cell_type": "markdown",
   "metadata": {},
   "source": [
    "### Баланс классов"
   ]
  },
  {
   "cell_type": "code",
   "execution_count": 35,
   "metadata": {},
   "outputs": [
    {
     "data": {
      "text/plain": [
       "0    0.796113\n",
       "1    0.203887\n",
       "Name: Exited, dtype: float64"
      ]
     },
     "execution_count": 35,
     "metadata": {},
     "output_type": "execute_result"
    }
   ],
   "source": [
    "y_train.value_counts(normalize=True)"
   ]
  },
  {
   "cell_type": "code",
   "execution_count": 36,
   "metadata": {},
   "outputs": [
    {
     "data": {
      "image/png": "[encoded data removed]",
      "text/plain": [
       "<Figure size 1200x900 with 1 Axes>"
      ]
     },
     "metadata": {},
     "output_type": "display_data"
    }
   ],
   "source": [
    "plt.figure(figsize=(12, 9))\n",
    "y_train.value_counts().plot(kind='bar');\n",
    "plt.title('Соотношение классов в выборке')\n",
    "plt.show()"
   ]
  },
  {
   "cell_type": "markdown",
   "metadata": {},
   "source": [
    "Присутствует явный дисбаланс классов. Ушедших пользователей примерно в 4 раза меньше, чем оставшихся в данной выборке. Сначала исследую метрики моделей обученных на данных без изменений, затем избавлюсь от дисбаланса в данных и снова проведу иследование."
   ]
  },
  {
   "cell_type": "markdown",
   "metadata": {},
   "source": [
    "### LogisticRegression"
   ]
  },
  {
   "cell_type": "code",
   "execution_count": 37,
   "metadata": {},
   "outputs": [
    {
     "data": {
      "text/plain": [
       "GridSearchCV(cv=5, estimator=LogisticRegression(n_jobs=-1, random_state=21),\n",
       "             n_jobs=-1,\n",
       "             param_grid={'C': (0.001, 0.01, 0.1, 1, 10, 100, 1000),\n",
       "                         'class_weight': ('balanced', None),\n",
       "                         'fit_intercept': (True, False),\n",
       "                         'penalty': ('l1', 'l2', 'elasticnet', 'none'),\n",
       "                         'solver': ('newton-cg', 'lbfgs', 'liblinear', 'sag',\n",
       "                                    'saga')},\n",
       "             refit='f1', scoring=['f1', 'roc_auc'])"
      ]
     },
     "execution_count": 37,
     "metadata": {},
     "output_type": "execute_result"
    }
   ],
   "source": [
    "param_grid = {'C' : (0.001, 0.01, 0.1, 1, 10, 100, 1000),\n",
    "              'fit_intercept' : (True, False),\n",
    "              'class_weight' : ('balanced', None),\n",
    "              'penalty' : ('l1', 'l2', 'elasticnet', 'none'),\n",
    "              'solver' : ('newton-cg', 'lbfgs', 'liblinear', 'sag', 'saga')}\n",
    "log_reg = GridSearchCV(estimator=LogisticRegression(random_state=21, \n",
    "                                                    n_jobs=-1),\n",
    "                       param_grid=param_grid,\n",
    "                       cv=5,\n",
    "                       refit='f1',\n",
    "                       scoring=['f1', 'roc_auc'],\n",
    "                       n_jobs=-1)\n",
    "log_reg.fit(X_train, y_train)\n",
    "#провожу обучение по решетке для логистической регрессии с стратифицированной кросс-валидацией по 5 фолдам "
   ]
  },
  {
   "cell_type": "code",
   "execution_count": 38,
   "metadata": {},
   "outputs": [
    {
     "data": {
      "text/html": [
       "<div>\n",
       "<style scoped>\n",
       "    .dataframe tbody tr th:only-of-type {\n",
       "        vertical-align: middle;\n",
       "    }\n",
       "\n",
       "    .dataframe tbody tr th {\n",
       "        vertical-align: top;\n",
       "    }\n",
       "\n",
       "    .dataframe thead th {\n",
       "        text-align: right;\n",
       "    }\n",
       "</style>\n",
       "<table border=\"1\" class=\"dataframe\">\n",
       "  <thead>\n",
       "    <tr style=\"text-align: right;\">\n",
       "      <th></th>\n",
       "      <th>params</th>\n",
       "      <th>mean_test_f1</th>\n",
       "      <th>mean_test_roc_auc</th>\n",
       "    </tr>\n",
       "  </thead>\n",
       "  <tbody>\n",
       "    <tr>\n",
       "      <th>102</th>\n",
       "      <td>{'C': 0.01, 'class_weight': 'balanced', 'fit_i...</td>\n",
       "      <td>0.505739</td>\n",
       "      <td>0.766706</td>\n",
       "    </tr>\n",
       "    <tr>\n",
       "      <th>82</th>\n",
       "      <td>{'C': 0.01, 'class_weight': 'balanced', 'fit_i...</td>\n",
       "      <td>0.505739</td>\n",
       "      <td>0.766704</td>\n",
       "    </tr>\n",
       "    <tr>\n",
       "      <th>104</th>\n",
       "      <td>{'C': 0.01, 'class_weight': 'balanced', 'fit_i...</td>\n",
       "      <td>0.505739</td>\n",
       "      <td>0.766704</td>\n",
       "    </tr>\n",
       "    <tr>\n",
       "      <th>84</th>\n",
       "      <td>{'C': 0.01, 'class_weight': 'balanced', 'fit_i...</td>\n",
       "      <td>0.503107</td>\n",
       "      <td>0.767441</td>\n",
       "    </tr>\n",
       "    <tr>\n",
       "      <th>106</th>\n",
       "      <td>{'C': 0.01, 'class_weight': 'balanced', 'fit_i...</td>\n",
       "      <td>0.501997</td>\n",
       "      <td>0.768785</td>\n",
       "    </tr>\n",
       "    <tr>\n",
       "      <th>109</th>\n",
       "      <td>{'C': 0.01, 'class_weight': 'balanced', 'fit_i...</td>\n",
       "      <td>0.501997</td>\n",
       "      <td>0.768785</td>\n",
       "    </tr>\n",
       "    <tr>\n",
       "      <th>105</th>\n",
       "      <td>{'C': 0.01, 'class_weight': 'balanced', 'fit_i...</td>\n",
       "      <td>0.501997</td>\n",
       "      <td>0.768784</td>\n",
       "    </tr>\n",
       "    <tr>\n",
       "      <th>107</th>\n",
       "      <td>{'C': 0.01, 'class_weight': 'balanced', 'fit_i...</td>\n",
       "      <td>0.501997</td>\n",
       "      <td>0.768784</td>\n",
       "    </tr>\n",
       "    <tr>\n",
       "      <th>108</th>\n",
       "      <td>{'C': 0.01, 'class_weight': 'balanced', 'fit_i...</td>\n",
       "      <td>0.501997</td>\n",
       "      <td>0.768781</td>\n",
       "    </tr>\n",
       "    <tr>\n",
       "      <th>9</th>\n",
       "      <td>{'C': 0.001, 'class_weight': 'balanced', 'fit_...</td>\n",
       "      <td>0.501181</td>\n",
       "      <td>0.760526</td>\n",
       "    </tr>\n",
       "  </tbody>\n",
       "</table>\n",
       "</div>"
      ],
      "text/plain": [
       "                                                params  mean_test_f1  \\\n",
       "102  {'C': 0.01, 'class_weight': 'balanced', 'fit_i...      0.505739   \n",
       "82   {'C': 0.01, 'class_weight': 'balanced', 'fit_i...      0.505739   \n",
       "104  {'C': 0.01, 'class_weight': 'balanced', 'fit_i...      0.505739   \n",
       "84   {'C': 0.01, 'class_weight': 'balanced', 'fit_i...      0.503107   \n",
       "106  {'C': 0.01, 'class_weight': 'balanced', 'fit_i...      0.501997   \n",
       "109  {'C': 0.01, 'class_weight': 'balanced', 'fit_i...      0.501997   \n",
       "105  {'C': 0.01, 'class_weight': 'balanced', 'fit_i...      0.501997   \n",
       "107  {'C': 0.01, 'class_weight': 'balanced', 'fit_i...      0.501997   \n",
       "108  {'C': 0.01, 'class_weight': 'balanced', 'fit_i...      0.501997   \n",
       "9    {'C': 0.001, 'class_weight': 'balanced', 'fit_...      0.501181   \n",
       "\n",
       "     mean_test_roc_auc  \n",
       "102           0.766706  \n",
       "82            0.766704  \n",
       "104           0.766704  \n",
       "84            0.767441  \n",
       "106           0.768785  \n",
       "109           0.768785  \n",
       "105           0.768784  \n",
       "107           0.768784  \n",
       "108           0.768781  \n",
       "9             0.760526  "
      ]
     },
     "execution_count": 38,
     "metadata": {},
     "output_type": "execute_result"
    }
   ],
   "source": [
    "results = pd.DataFrame(log_reg.cv_results_)[['params', 'mean_test_f1', 'mean_test_roc_auc']].\\\n",
    "sort_values(by=['mean_test_f1', 'mean_test_roc_auc'], ascending=False)\n",
    "results.head(10)\n",
    "#вывожу 10 лучших результатов по метрике F1"
   ]
  },
  {
   "cell_type": "code",
   "execution_count": 39,
   "metadata": {},
   "outputs": [
    {
     "data": {
      "text/plain": [
       "array([{'C': 0.01, 'class_weight': 'balanced', 'fit_intercept': False, 'penalty': 'l1', 'solver': 'liblinear'}],\n",
       "      dtype=object)"
      ]
     },
     "execution_count": 39,
     "metadata": {},
     "output_type": "execute_result"
    }
   ],
   "source": [
    "results.head(1).params.values\n",
    "#вывожу лучшие параметры модели"
   ]
  },
  {
   "cell_type": "code",
   "execution_count": 40,
   "metadata": {},
   "outputs": [
    {
     "name": "stdout",
     "output_type": "stream",
     "text": [
      "Метрики для лучшей модели логистической регрессии на валидационной выборке:\n",
      "F1 = 0.5226554267650159, ROC-AUC = 0.720202780359774\n"
     ]
    }
   ],
   "source": [
    "log_reg.best_estimator_.fit(X_train, y_train)\n",
    "print('Метрики для лучшей модели логистической регрессии на валидационной выборке:')\n",
    "print(f'F1 = {f1_score(y_valid, log_reg.best_estimator_.predict(X_valid))}, ROC-AUC = {roc_auc_score(y_valid, log_reg.best_estimator_.predict(X_valid))}')"
   ]
  },
  {
   "cell_type": "markdown",
   "metadata": {},
   "source": [
    "Проведены обучения моделей логистической регрессии с различными параметрами.\n",
    "\n",
    "Лучшая модель на кросс-валидации: LogisticRegression(penalty='l1', C=0.01, class_weight='balanced', fit_intercept=False, solver='liblinear')\n",
    "\n",
    "F1 на валидационной выборке для лучшей модели равно 0.5226554267650159\n",
    "\n",
    "ROC-AUC на валидационной выборке для лучшей модели равно 0.720202780359774"
   ]
  },
  {
   "cell_type": "markdown",
   "metadata": {},
   "source": [
    "### DecisionTreeClassifier"
   ]
  },
  {
   "cell_type": "code",
   "execution_count": 41,
   "metadata": {},
   "outputs": [
    {
     "data": {
      "text/plain": [
       "GridSearchCV(cv=5, estimator=DecisionTreeClassifier(random_state=21), n_jobs=-1,\n",
       "             param_grid={'class_weight': ('balanced', None),\n",
       "                         'criterion': ('gini', 'entropy', 'log_loss'),\n",
       "                         'max_depth': [1, 2, 3, 4, 5, 6, 7, 8, 9, 10, 11, 12,\n",
       "                                       13, 14, 15, 16, 17, 18, 19, 20, 25, 30,\n",
       "                                       35, 40, 45, 50, 55, 60, 65, 70, ...],\n",
       "                         'max_features': ('auto', 'sqrt', 'log2', None)},\n",
       "             refit='f1', scoring=['f1', 'roc_auc'])"
      ]
     },
     "execution_count": 41,
     "metadata": {},
     "output_type": "execute_result"
    }
   ],
   "source": [
    "param_grid = {'criterion' : ('gini', 'entropy', 'log_loss'),\n",
    "              'max_depth' : list(range(1, 20)) + list(range(20, 101, 5)),\n",
    "              'max_features': ('auto', 'sqrt', 'log2', None),\n",
    "              'class_weight' : ('balanced', None)\n",
    "             }\n",
    "dt_clf = GridSearchCV(estimator=DecisionTreeClassifier(random_state=21),\n",
    "                       param_grid=param_grid,\n",
    "                       cv=5,\n",
    "                       refit='f1',\n",
    "                       scoring=['f1', 'roc_auc'],\n",
    "                       n_jobs=-1)\n",
    "dt_clf.fit(X_train, y_train)\n",
    "#провожу обучение по решетке для дерева решений со стратифицированной кросс-валидацией по 5 фолдам "
   ]
  },
  {
   "cell_type": "code",
   "execution_count": 42,
   "metadata": {},
   "outputs": [
    {
     "data": {
      "text/html": [
       "<div>\n",
       "<style scoped>\n",
       "    .dataframe tbody tr th:only-of-type {\n",
       "        vertical-align: middle;\n",
       "    }\n",
       "\n",
       "    .dataframe tbody tr th {\n",
       "        vertical-align: top;\n",
       "    }\n",
       "\n",
       "    .dataframe thead th {\n",
       "        text-align: right;\n",
       "    }\n",
       "</style>\n",
       "<table border=\"1\" class=\"dataframe\">\n",
       "  <thead>\n",
       "    <tr style=\"text-align: right;\">\n",
       "      <th></th>\n",
       "      <th>params</th>\n",
       "      <th>mean_test_f1</th>\n",
       "      <th>mean_test_roc_auc</th>\n",
       "    </tr>\n",
       "  </thead>\n",
       "  <tbody>\n",
       "    <tr>\n",
       "      <th>463</th>\n",
       "      <td>{'class_weight': None, 'criterion': 'gini', 'm...</td>\n",
       "      <td>0.565223</td>\n",
       "      <td>0.809945</td>\n",
       "    </tr>\n",
       "    <tr>\n",
       "      <th>603</th>\n",
       "      <td>{'class_weight': None, 'criterion': 'entropy',...</td>\n",
       "      <td>0.563846</td>\n",
       "      <td>0.827813</td>\n",
       "    </tr>\n",
       "    <tr>\n",
       "      <th>171</th>\n",
       "      <td>{'class_weight': 'balanced', 'criterion': 'ent...</td>\n",
       "      <td>0.563668</td>\n",
       "      <td>0.820680</td>\n",
       "    </tr>\n",
       "    <tr>\n",
       "      <th>459</th>\n",
       "      <td>{'class_weight': None, 'criterion': 'gini', 'm...</td>\n",
       "      <td>0.563500</td>\n",
       "      <td>0.824456</td>\n",
       "    </tr>\n",
       "    <tr>\n",
       "      <th>27</th>\n",
       "      <td>{'class_weight': 'balanced', 'criterion': 'gin...</td>\n",
       "      <td>0.559668</td>\n",
       "      <td>0.814081</td>\n",
       "    </tr>\n",
       "    <tr>\n",
       "      <th>167</th>\n",
       "      <td>{'class_weight': 'balanced', 'criterion': 'ent...</td>\n",
       "      <td>0.559107</td>\n",
       "      <td>0.821917</td>\n",
       "    </tr>\n",
       "    <tr>\n",
       "      <th>31</th>\n",
       "      <td>{'class_weight': 'balanced', 'criterion': 'gin...</td>\n",
       "      <td>0.558366</td>\n",
       "      <td>0.808993</td>\n",
       "    </tr>\n",
       "    <tr>\n",
       "      <th>611</th>\n",
       "      <td>{'class_weight': None, 'criterion': 'entropy',...</td>\n",
       "      <td>0.552802</td>\n",
       "      <td>0.791405</td>\n",
       "    </tr>\n",
       "    <tr>\n",
       "      <th>175</th>\n",
       "      <td>{'class_weight': 'balanced', 'criterion': 'ent...</td>\n",
       "      <td>0.552174</td>\n",
       "      <td>0.813728</td>\n",
       "    </tr>\n",
       "    <tr>\n",
       "      <th>23</th>\n",
       "      <td>{'class_weight': 'balanced', 'criterion': 'gin...</td>\n",
       "      <td>0.551784</td>\n",
       "      <td>0.820639</td>\n",
       "    </tr>\n",
       "  </tbody>\n",
       "</table>\n",
       "</div>"
      ],
      "text/plain": [
       "                                                params  mean_test_f1  \\\n",
       "463  {'class_weight': None, 'criterion': 'gini', 'm...      0.565223   \n",
       "603  {'class_weight': None, 'criterion': 'entropy',...      0.563846   \n",
       "171  {'class_weight': 'balanced', 'criterion': 'ent...      0.563668   \n",
       "459  {'class_weight': None, 'criterion': 'gini', 'm...      0.563500   \n",
       "27   {'class_weight': 'balanced', 'criterion': 'gin...      0.559668   \n",
       "167  {'class_weight': 'balanced', 'criterion': 'ent...      0.559107   \n",
       "31   {'class_weight': 'balanced', 'criterion': 'gin...      0.558366   \n",
       "611  {'class_weight': None, 'criterion': 'entropy',...      0.552802   \n",
       "175  {'class_weight': 'balanced', 'criterion': 'ent...      0.552174   \n",
       "23   {'class_weight': 'balanced', 'criterion': 'gin...      0.551784   \n",
       "\n",
       "     mean_test_roc_auc  \n",
       "463           0.809945  \n",
       "603           0.827813  \n",
       "171           0.820680  \n",
       "459           0.824456  \n",
       "27            0.814081  \n",
       "167           0.821917  \n",
       "31            0.808993  \n",
       "611           0.791405  \n",
       "175           0.813728  \n",
       "23            0.820639  "
      ]
     },
     "execution_count": 42,
     "metadata": {},
     "output_type": "execute_result"
    }
   ],
   "source": [
    "results = pd.DataFrame(dt_clf.cv_results_)[['params', 'mean_test_f1', 'mean_test_roc_auc']].\\\n",
    "sort_values(by=['mean_test_f1', 'mean_test_roc_auc'], ascending=False)\n",
    "results.head(10)\n",
    "#вывожу 10 лучших результатов по метрике F1"
   ]
  },
  {
   "cell_type": "code",
   "execution_count": 43,
   "metadata": {},
   "outputs": [
    {
     "data": {
      "text/plain": [
       "array([{'class_weight': None, 'criterion': 'gini', 'max_depth': 8, 'max_features': None}],\n",
       "      dtype=object)"
      ]
     },
     "execution_count": 43,
     "metadata": {},
     "output_type": "execute_result"
    }
   ],
   "source": [
    "results.head(1).params.values\n",
    "#вывожу лучшие параметры модели"
   ]
  },
  {
   "cell_type": "code",
   "execution_count": 44,
   "metadata": {},
   "outputs": [
    {
     "name": "stdout",
     "output_type": "stream",
     "text": [
      "Метрики для лучшей модели дерева решений на валидационной выборке:\n",
      "F1 = 0.5700325732899023, ROC-AUC = 0.7123521664862892\n"
     ]
    }
   ],
   "source": [
    "dt_clf.best_estimator_.fit(X_train, y_train)\n",
    "print('Метрики для лучшей модели дерева решений на валидационной выборке:')\n",
    "print(f'F1 = {f1_score(y_valid, dt_clf.best_estimator_.predict(X_valid))}, ROC-AUC = {roc_auc_score(y_valid, dt_clf.best_estimator_.predict(X_valid))}')"
   ]
  },
  {
   "cell_type": "markdown",
   "metadata": {},
   "source": [
    "Проведены обучения моделей деревьев решений с различными параметрами.\n",
    "\n",
    "Лучшая модель на кросс-валидации: DecisionTreeClassifier(class_weight=None, criterion='gini', max_depth=8, max_features=None)\n",
    "\n",
    "F1 на валидационной выборке для лучшей модели равно 0.5700325732899023\n",
    "\n",
    "ROC-AUC на валидационной выборке для лучшей модели равно 0.7123521664862892"
   ]
  },
  {
   "cell_type": "markdown",
   "metadata": {},
   "source": [
    "### RandomForestClassifier"
   ]
  },
  {
   "cell_type": "code",
   "execution_count": 45,
   "metadata": {},
   "outputs": [
    {
     "data": {
      "text/plain": [
       "GridSearchCV(cv=5, estimator=RandomForestClassifier(n_jobs=-1, random_state=21),\n",
       "             n_jobs=-1,\n",
       "             param_grid={'class_weight': ('balanced', 'balanced_subsample',\n",
       "                                          None),\n",
       "                         'criterion': ('gini', 'entropy', 'log_loss'),\n",
       "                         'max_depth': range(1, 10),\n",
       "                         'n_estimators': range(10, 51, 10)},\n",
       "             refit='f1', scoring=['f1', 'roc_auc'])"
      ]
     },
     "execution_count": 45,
     "metadata": {},
     "output_type": "execute_result"
    }
   ],
   "source": [
    "param_grid = {'n_estimators' : range(10, 51, 10),\n",
    "              'criterion' : ('gini', 'entropy', 'log_loss'),\n",
    "              'max_depth' : range(1, 10),\n",
    "              'class_weight' : ('balanced', 'balanced_subsample', None)\n",
    "             }\n",
    "rf_clf = GridSearchCV(estimator=RandomForestClassifier(random_state=21, n_jobs=-1),\n",
    "                      param_grid=param_grid,\n",
    "                      cv=5,\n",
    "                      refit='f1',\n",
    "                      scoring=['f1', 'roc_auc'],\n",
    "                      n_jobs=-1)\n",
    "rf_clf.fit(X_train, y_train)\n",
    "#провожу обучение по решетке для случайного леса со стратифицированной кросс-валидацией по 5 фолдам "
   ]
  },
  {
   "cell_type": "code",
   "execution_count": 46,
   "metadata": {},
   "outputs": [
    {
     "data": {
      "text/html": [
       "<div>\n",
       "<style scoped>\n",
       "    .dataframe tbody tr th:only-of-type {\n",
       "        vertical-align: middle;\n",
       "    }\n",
       "\n",
       "    .dataframe tbody tr th {\n",
       "        vertical-align: top;\n",
       "    }\n",
       "\n",
       "    .dataframe thead th {\n",
       "        text-align: right;\n",
       "    }\n",
       "</style>\n",
       "<table border=\"1\" class=\"dataframe\">\n",
       "  <thead>\n",
       "    <tr style=\"text-align: right;\">\n",
       "      <th></th>\n",
       "      <th>params</th>\n",
       "      <th>mean_test_f1</th>\n",
       "      <th>mean_test_roc_auc</th>\n",
       "    </tr>\n",
       "  </thead>\n",
       "  <tbody>\n",
       "    <tr>\n",
       "      <th>83</th>\n",
       "      <td>{'class_weight': 'balanced', 'criterion': 'ent...</td>\n",
       "      <td>0.609940</td>\n",
       "      <td>0.857441</td>\n",
       "    </tr>\n",
       "    <tr>\n",
       "      <th>43</th>\n",
       "      <td>{'class_weight': 'balanced', 'criterion': 'gin...</td>\n",
       "      <td>0.608684</td>\n",
       "      <td>0.857140</td>\n",
       "    </tr>\n",
       "    <tr>\n",
       "      <th>173</th>\n",
       "      <td>{'class_weight': 'balanced_subsample', 'criter...</td>\n",
       "      <td>0.607601</td>\n",
       "      <td>0.857178</td>\n",
       "    </tr>\n",
       "    <tr>\n",
       "      <th>84</th>\n",
       "      <td>{'class_weight': 'balanced', 'criterion': 'ent...</td>\n",
       "      <td>0.607407</td>\n",
       "      <td>0.858240</td>\n",
       "    </tr>\n",
       "    <tr>\n",
       "      <th>37</th>\n",
       "      <td>{'class_weight': 'balanced', 'criterion': 'gin...</td>\n",
       "      <td>0.605713</td>\n",
       "      <td>0.854335</td>\n",
       "    </tr>\n",
       "    <tr>\n",
       "      <th>44</th>\n",
       "      <td>{'class_weight': 'balanced', 'criterion': 'gin...</td>\n",
       "      <td>0.605422</td>\n",
       "      <td>0.857492</td>\n",
       "    </tr>\n",
       "    <tr>\n",
       "      <th>38</th>\n",
       "      <td>{'class_weight': 'balanced', 'criterion': 'gin...</td>\n",
       "      <td>0.604923</td>\n",
       "      <td>0.855623</td>\n",
       "    </tr>\n",
       "    <tr>\n",
       "      <th>77</th>\n",
       "      <td>{'class_weight': 'balanced', 'criterion': 'ent...</td>\n",
       "      <td>0.604907</td>\n",
       "      <td>0.860236</td>\n",
       "    </tr>\n",
       "    <tr>\n",
       "      <th>218</th>\n",
       "      <td>{'class_weight': 'balanced_subsample', 'criter...</td>\n",
       "      <td>0.604827</td>\n",
       "      <td>0.859927</td>\n",
       "    </tr>\n",
       "    <tr>\n",
       "      <th>222</th>\n",
       "      <td>{'class_weight': 'balanced_subsample', 'criter...</td>\n",
       "      <td>0.604795</td>\n",
       "      <td>0.856179</td>\n",
       "    </tr>\n",
       "  </tbody>\n",
       "</table>\n",
       "</div>"
      ],
      "text/plain": [
       "                                                params  mean_test_f1  \\\n",
       "83   {'class_weight': 'balanced', 'criterion': 'ent...      0.609940   \n",
       "43   {'class_weight': 'balanced', 'criterion': 'gin...      0.608684   \n",
       "173  {'class_weight': 'balanced_subsample', 'criter...      0.607601   \n",
       "84   {'class_weight': 'balanced', 'criterion': 'ent...      0.607407   \n",
       "37   {'class_weight': 'balanced', 'criterion': 'gin...      0.605713   \n",
       "44   {'class_weight': 'balanced', 'criterion': 'gin...      0.605422   \n",
       "38   {'class_weight': 'balanced', 'criterion': 'gin...      0.604923   \n",
       "77   {'class_weight': 'balanced', 'criterion': 'ent...      0.604907   \n",
       "218  {'class_weight': 'balanced_subsample', 'criter...      0.604827   \n",
       "222  {'class_weight': 'balanced_subsample', 'criter...      0.604795   \n",
       "\n",
       "     mean_test_roc_auc  \n",
       "83            0.857441  \n",
       "43            0.857140  \n",
       "173           0.857178  \n",
       "84            0.858240  \n",
       "37            0.854335  \n",
       "44            0.857492  \n",
       "38            0.855623  \n",
       "77            0.860236  \n",
       "218           0.859927  \n",
       "222           0.856179  "
      ]
     },
     "execution_count": 46,
     "metadata": {},
     "output_type": "execute_result"
    }
   ],
   "source": [
    "results = pd.DataFrame(rf_clf.cv_results_)[['params', 'mean_test_f1', 'mean_test_roc_auc']].\\\n",
    "sort_values(by=['mean_test_f1', 'mean_test_roc_auc'], ascending=False)\n",
    "results.head(10)\n",
    "#вывожу 10 лучших результатов по метрике F1"
   ]
  },
  {
   "cell_type": "code",
   "execution_count": 47,
   "metadata": {},
   "outputs": [
    {
     "data": {
      "text/plain": [
       "array([{'class_weight': 'balanced', 'criterion': 'entropy', 'max_depth': 8, 'n_estimators': 40}],\n",
       "      dtype=object)"
      ]
     },
     "execution_count": 47,
     "metadata": {},
     "output_type": "execute_result"
    }
   ],
   "source": [
    "results.head(1).params.values\n",
    "#вывожу лучшие параметры модели"
   ]
  },
  {
   "cell_type": "code",
   "execution_count": 48,
   "metadata": {},
   "outputs": [
    {
     "data": {
      "text/plain": [
       "GridSearchCV(cv=5, estimator=RandomForestClassifier(n_jobs=-1, random_state=21),\n",
       "             n_jobs=-1,\n",
       "             param_grid={'class_weight': ('balanced', 'balanced_subsample',\n",
       "                                          None),\n",
       "                         'criterion': ('gini', 'entropy', 'log_loss'),\n",
       "                         'max_depth': [8], 'n_estimators': range(35, 46)},\n",
       "             refit='f1', scoring=['f1', 'roc_auc'])"
      ]
     },
     "execution_count": 48,
     "metadata": {},
     "output_type": "execute_result"
    }
   ],
   "source": [
    "param_grid = {'n_estimators' : range(35, 46),\n",
    "              'criterion' : ('gini', 'entropy', 'log_loss'),\n",
    "              'max_depth' : [8],\n",
    "              'class_weight' : ('balanced', 'balanced_subsample', None)\n",
    "             }\n",
    "rf_clf = GridSearchCV(estimator=RandomForestClassifier(random_state=21, n_jobs=-1),\n",
    "                      param_grid=param_grid,\n",
    "                      cv=5,\n",
    "                      refit='f1',\n",
    "                      scoring=['f1', 'roc_auc'],\n",
    "                      n_jobs=-1)\n",
    "rf_clf.fit(X_train, y_train)\n",
    "#провожу обучение по решетке для случайного леса со стратифицированной кросс-валидацией по 5 фолдам "
   ]
  },
  {
   "cell_type": "code",
   "execution_count": 49,
   "metadata": {},
   "outputs": [
    {
     "data": {
      "text/html": [
       "<div>\n",
       "<style scoped>\n",
       "    .dataframe tbody tr th:only-of-type {\n",
       "        vertical-align: middle;\n",
       "    }\n",
       "\n",
       "    .dataframe tbody tr th {\n",
       "        vertical-align: top;\n",
       "    }\n",
       "\n",
       "    .dataframe thead th {\n",
       "        text-align: right;\n",
       "    }\n",
       "</style>\n",
       "<table border=\"1\" class=\"dataframe\">\n",
       "  <thead>\n",
       "    <tr style=\"text-align: right;\">\n",
       "      <th></th>\n",
       "      <th>params</th>\n",
       "      <th>mean_test_f1</th>\n",
       "      <th>mean_test_roc_auc</th>\n",
       "    </tr>\n",
       "  </thead>\n",
       "  <tbody>\n",
       "    <tr>\n",
       "      <th>17</th>\n",
       "      <td>{'class_weight': 'balanced', 'criterion': 'ent...</td>\n",
       "      <td>0.611234</td>\n",
       "      <td>0.857529</td>\n",
       "    </tr>\n",
       "    <tr>\n",
       "      <th>19</th>\n",
       "      <td>{'class_weight': 'balanced', 'criterion': 'ent...</td>\n",
       "      <td>0.610111</td>\n",
       "      <td>0.857698</td>\n",
       "    </tr>\n",
       "    <tr>\n",
       "      <th>16</th>\n",
       "      <td>{'class_weight': 'balanced', 'criterion': 'ent...</td>\n",
       "      <td>0.609940</td>\n",
       "      <td>0.857441</td>\n",
       "    </tr>\n",
       "    <tr>\n",
       "      <th>14</th>\n",
       "      <td>{'class_weight': 'balanced', 'criterion': 'ent...</td>\n",
       "      <td>0.608966</td>\n",
       "      <td>0.857908</td>\n",
       "    </tr>\n",
       "    <tr>\n",
       "      <th>18</th>\n",
       "      <td>{'class_weight': 'balanced', 'criterion': 'ent...</td>\n",
       "      <td>0.608804</td>\n",
       "      <td>0.857599</td>\n",
       "    </tr>\n",
       "    <tr>\n",
       "      <th>15</th>\n",
       "      <td>{'class_weight': 'balanced', 'criterion': 'ent...</td>\n",
       "      <td>0.608741</td>\n",
       "      <td>0.857733</td>\n",
       "    </tr>\n",
       "    <tr>\n",
       "      <th>36</th>\n",
       "      <td>{'class_weight': 'balanced_subsample', 'criter...</td>\n",
       "      <td>0.608140</td>\n",
       "      <td>0.857459</td>\n",
       "    </tr>\n",
       "    <tr>\n",
       "      <th>12</th>\n",
       "      <td>{'class_weight': 'balanced', 'criterion': 'ent...</td>\n",
       "      <td>0.608018</td>\n",
       "      <td>0.858076</td>\n",
       "    </tr>\n",
       "    <tr>\n",
       "      <th>41</th>\n",
       "      <td>{'class_weight': 'balanced_subsample', 'criter...</td>\n",
       "      <td>0.607906</td>\n",
       "      <td>0.857333</td>\n",
       "    </tr>\n",
       "    <tr>\n",
       "      <th>38</th>\n",
       "      <td>{'class_weight': 'balanced_subsample', 'criter...</td>\n",
       "      <td>0.607601</td>\n",
       "      <td>0.857178</td>\n",
       "    </tr>\n",
       "  </tbody>\n",
       "</table>\n",
       "</div>"
      ],
      "text/plain": [
       "                                               params  mean_test_f1  \\\n",
       "17  {'class_weight': 'balanced', 'criterion': 'ent...      0.611234   \n",
       "19  {'class_weight': 'balanced', 'criterion': 'ent...      0.610111   \n",
       "16  {'class_weight': 'balanced', 'criterion': 'ent...      0.609940   \n",
       "14  {'class_weight': 'balanced', 'criterion': 'ent...      0.608966   \n",
       "18  {'class_weight': 'balanced', 'criterion': 'ent...      0.608804   \n",
       "15  {'class_weight': 'balanced', 'criterion': 'ent...      0.608741   \n",
       "36  {'class_weight': 'balanced_subsample', 'criter...      0.608140   \n",
       "12  {'class_weight': 'balanced', 'criterion': 'ent...      0.608018   \n",
       "41  {'class_weight': 'balanced_subsample', 'criter...      0.607906   \n",
       "38  {'class_weight': 'balanced_subsample', 'criter...      0.607601   \n",
       "\n",
       "    mean_test_roc_auc  \n",
       "17           0.857529  \n",
       "19           0.857698  \n",
       "16           0.857441  \n",
       "14           0.857908  \n",
       "18           0.857599  \n",
       "15           0.857733  \n",
       "36           0.857459  \n",
       "12           0.858076  \n",
       "41           0.857333  \n",
       "38           0.857178  "
      ]
     },
     "execution_count": 49,
     "metadata": {},
     "output_type": "execute_result"
    }
   ],
   "source": [
    "results = pd.DataFrame(rf_clf.cv_results_)[['params', 'mean_test_f1', 'mean_test_roc_auc']].\\\n",
    "sort_values(by=['mean_test_f1', 'mean_test_roc_auc'], ascending=False)\n",
    "results.head(10)\n",
    "#вывожу 10 лучших результатов по метрике F1"
   ]
  },
  {
   "cell_type": "code",
   "execution_count": 50,
   "metadata": {},
   "outputs": [
    {
     "data": {
      "text/plain": [
       "array([{'class_weight': 'balanced', 'criterion': 'entropy', 'max_depth': 8, 'n_estimators': 41}],\n",
       "      dtype=object)"
      ]
     },
     "execution_count": 50,
     "metadata": {},
     "output_type": "execute_result"
    }
   ],
   "source": [
    "results.head(1).params.values\n",
    "#вывожу лучшие параметры модели"
   ]
  },
  {
   "cell_type": "code",
   "execution_count": 51,
   "metadata": {},
   "outputs": [
    {
     "name": "stdout",
     "output_type": "stream",
     "text": [
      "Метрики для лучшей модели случайного леса на валидационной выборке:\n",
      "F1 = 0.6282208588957056, ROC-AUC = 0.7800514867641388\n"
     ]
    }
   ],
   "source": [
    "rf_clf.best_estimator_.fit(X_train, y_train)\n",
    "print('Метрики для лучшей модели случайного леса на валидационной выборке:')\n",
    "print(f'F1 = {f1_score(y_valid, rf_clf.best_estimator_.predict(X_valid))}, ROC-AUC = {roc_auc_score(y_valid, rf_clf.best_estimator_.predict(X_valid))}')"
   ]
  },
  {
   "cell_type": "markdown",
   "metadata": {},
   "source": [
    "Проведены обучения моделей случайного леса с различными параметрами.\n",
    "\n",
    "Лучшая модель на кросс-валидации: RandomForestClassifier(class_weight='balanced_subsample', criterion='entropy', max_depth=8, n_estimators=39)\n",
    "\n",
    "F1 на валидационной выборке для лучшей модели равно 0.6342648845686513\n",
    "\n",
    "ROC-AUC на валидационной выборке для лучшей модели равно 0.7857534037333492"
   ]
  },
  {
   "cell_type": "markdown",
   "metadata": {},
   "source": [
    "Вывод: \n",
    "\n",
    "Исследован баланс классов, имеется дисбаланс в соотношении 1 к 4 ушедших пользователей к оставшимся.\n",
    "\n",
    "Проведены обучения моделей логистической регрессии, деревьев решений, случайного леса с различными параметрами, самый лучший результат на кросс-валидации показал случайный лес (F1 = 0.6343, ROC-AUC = 0.7858)\n",
    "\n",
    "В лучших моделях присутствовало значение параметра class_weight - 'balanced'. То есть классу 1 придавался больший вес, а классу 0 меньший, в соотношении обратном их частоте появления."
   ]
  },
  {
   "cell_type": "code",
   "execution_count": 52,
   "metadata": {},
   "outputs": [],
   "source": [
    "best_model = rf_clf"
   ]
  },
  {
   "cell_type": "markdown",
   "metadata": {},
   "source": [
    "## Борьба с дисбалансом"
   ]
  },
  {
   "cell_type": "markdown",
   "metadata": {},
   "source": [
    "### Уменьшение выборки"
   ]
  },
  {
   "cell_type": "code",
   "execution_count": 53,
   "metadata": {},
   "outputs": [],
   "source": [
    "def downsample(X, y, frac, random_state):\n",
    "    X_0 = X[y == 0]\n",
    "    X_1 = X[y == 1]\n",
    "    y_0 = y[y == 0]\n",
    "    y_1 = y[y == 1]\n",
    "\n",
    "    X_downsampled = pd.concat(\n",
    "        [X_0.sample(frac=frac, random_state=random_state), X_1])\n",
    "    y_downsampled = pd.concat(\n",
    "        [y_0.sample(frac=frac, random_state=random_state), y_1])\n",
    "    \n",
    "    X_downsampled, y_downsampled = shuffle(\n",
    "        X_downsampled, y_downsampled, random_state=random_state)\n",
    "    \n",
    "    return X_downsampled, y_downsampled\n",
    "#функция оставляет случайным образом frac от количества элементов класса 0, количество элементов класса 1 остается \n",
    "#без изменения "
   ]
  },
  {
   "cell_type": "code",
   "execution_count": 54,
   "metadata": {},
   "outputs": [
    {
     "data": {
      "text/plain": [
       "(5454, 11)"
      ]
     },
     "execution_count": 54,
     "metadata": {},
     "output_type": "execute_result"
    }
   ],
   "source": [
    "X_train.shape"
   ]
  },
  {
   "cell_type": "code",
   "execution_count": 55,
   "metadata": {},
   "outputs": [
    {
     "data": {
      "text/plain": [
       "(5454,)"
      ]
     },
     "execution_count": 55,
     "metadata": {},
     "output_type": "execute_result"
    }
   ],
   "source": [
    "y_train.shape"
   ]
  },
  {
   "cell_type": "code",
   "execution_count": 56,
   "metadata": {},
   "outputs": [
    {
     "data": {
      "text/plain": [
       "0    0.796113\n",
       "1    0.203887\n",
       "Name: Exited, dtype: float64"
      ]
     },
     "execution_count": 56,
     "metadata": {},
     "output_type": "execute_result"
    }
   ],
   "source": [
    "y_train.value_counts(normalize=True)"
   ]
  },
  {
   "cell_type": "code",
   "execution_count": 57,
   "metadata": {},
   "outputs": [],
   "source": [
    "X_downsampled_train, y_downsampled_train = downsample(X_train, y_train, frac=0.25, random_state=21)\n",
    "#ставлю frac=0.25, потому что соотношение классов 1 к 4"
   ]
  },
  {
   "cell_type": "code",
   "execution_count": 58,
   "metadata": {},
   "outputs": [
    {
     "data": {
      "text/plain": [
       "(2198, 11)"
      ]
     },
     "execution_count": 58,
     "metadata": {},
     "output_type": "execute_result"
    }
   ],
   "source": [
    "X_downsampled_train.shape"
   ]
  },
  {
   "cell_type": "code",
   "execution_count": 59,
   "metadata": {},
   "outputs": [
    {
     "data": {
      "text/plain": [
       "(2198,)"
      ]
     },
     "execution_count": 59,
     "metadata": {},
     "output_type": "execute_result"
    }
   ],
   "source": [
    "y_downsampled_train.shape"
   ]
  },
  {
   "cell_type": "code",
   "execution_count": 60,
   "metadata": {},
   "outputs": [
    {
     "data": {
      "text/plain": [
       "1    0.505914\n",
       "0    0.494086\n",
       "Name: Exited, dtype: float64"
      ]
     },
     "execution_count": 60,
     "metadata": {},
     "output_type": "execute_result"
    }
   ],
   "source": [
    "y_downsampled_train.value_counts(normalize=True)"
   ]
  },
  {
   "cell_type": "markdown",
   "metadata": {},
   "source": [
    "теперь соотношение классов практически одинаковое"
   ]
  },
  {
   "cell_type": "markdown",
   "metadata": {},
   "source": [
    "#### LogisticRegression"
   ]
  },
  {
   "cell_type": "code",
   "execution_count": 61,
   "metadata": {},
   "outputs": [
    {
     "data": {
      "text/plain": [
       "GridSearchCV(cv=5, estimator=LogisticRegression(n_jobs=-1, random_state=21),\n",
       "             n_jobs=-1,\n",
       "             param_grid={'C': (0.001, 0.01, 0.1, 1, 10, 100, 1000),\n",
       "                         'class_weight': ('balanced', None),\n",
       "                         'fit_intercept': (True, False),\n",
       "                         'penalty': ('l1', 'l2', 'elasticnet', 'none'),\n",
       "                         'solver': ('newton-cg', 'lbfgs', 'liblinear', 'sag',\n",
       "                                    'saga')},\n",
       "             refit='f1', scoring=['f1', 'roc_auc'])"
      ]
     },
     "execution_count": 61,
     "metadata": {},
     "output_type": "execute_result"
    }
   ],
   "source": [
    "param_grid = {'C' : (0.001, 0.01, 0.1, 1, 10, 100, 1000),\n",
    "              'fit_intercept' : (True, False),\n",
    "              'class_weight' : ('balanced', None),\n",
    "              'penalty' : ('l1', 'l2', 'elasticnet', 'none'),\n",
    "              'solver' : ('newton-cg', 'lbfgs', 'liblinear', 'sag', 'saga')}\n",
    "log_reg = GridSearchCV(estimator=LogisticRegression(random_state=21, \n",
    "                                                    n_jobs=-1),\n",
    "                       param_grid=param_grid,\n",
    "                       cv=5,\n",
    "                       refit='f1',\n",
    "                       scoring=['f1', 'roc_auc'],\n",
    "                       n_jobs=-1)\n",
    "log_reg.fit(X_downsampled_train, y_downsampled_train)\n",
    "#провожу обучение по решетке для логистической регрессии с стратифицированной кросс-валидацией по 5 фолдам "
   ]
  },
  {
   "cell_type": "code",
   "execution_count": 62,
   "metadata": {},
   "outputs": [
    {
     "data": {
      "text/html": [
       "<div>\n",
       "<style scoped>\n",
       "    .dataframe tbody tr th:only-of-type {\n",
       "        vertical-align: middle;\n",
       "    }\n",
       "\n",
       "    .dataframe tbody tr th {\n",
       "        vertical-align: top;\n",
       "    }\n",
       "\n",
       "    .dataframe thead th {\n",
       "        text-align: right;\n",
       "    }\n",
       "</style>\n",
       "<table border=\"1\" class=\"dataframe\">\n",
       "  <thead>\n",
       "    <tr style=\"text-align: right;\">\n",
       "      <th></th>\n",
       "      <th>params</th>\n",
       "      <th>mean_test_f1</th>\n",
       "      <th>mean_test_roc_auc</th>\n",
       "    </tr>\n",
       "  </thead>\n",
       "  <tbody>\n",
       "    <tr>\n",
       "      <th>104</th>\n",
       "      <td>{'C': 0.01, 'class_weight': 'balanced', 'fit_i...</td>\n",
       "      <td>0.703377</td>\n",
       "      <td>0.736809</td>\n",
       "    </tr>\n",
       "    <tr>\n",
       "      <th>102</th>\n",
       "      <td>{'C': 0.01, 'class_weight': 'balanced', 'fit_i...</td>\n",
       "      <td>0.703377</td>\n",
       "      <td>0.736801</td>\n",
       "    </tr>\n",
       "    <tr>\n",
       "      <th>82</th>\n",
       "      <td>{'C': 0.01, 'class_weight': 'balanced', 'fit_i...</td>\n",
       "      <td>0.703377</td>\n",
       "      <td>0.736797</td>\n",
       "    </tr>\n",
       "    <tr>\n",
       "      <th>125</th>\n",
       "      <td>{'C': 0.01, 'class_weight': None, 'fit_interce...</td>\n",
       "      <td>0.700370</td>\n",
       "      <td>0.760936</td>\n",
       "    </tr>\n",
       "    <tr>\n",
       "      <th>126</th>\n",
       "      <td>{'C': 0.01, 'class_weight': None, 'fit_interce...</td>\n",
       "      <td>0.700370</td>\n",
       "      <td>0.760936</td>\n",
       "    </tr>\n",
       "    <tr>\n",
       "      <th>129</th>\n",
       "      <td>{'C': 0.01, 'class_weight': None, 'fit_interce...</td>\n",
       "      <td>0.700370</td>\n",
       "      <td>0.760936</td>\n",
       "    </tr>\n",
       "    <tr>\n",
       "      <th>128</th>\n",
       "      <td>{'C': 0.01, 'class_weight': None, 'fit_interce...</td>\n",
       "      <td>0.700370</td>\n",
       "      <td>0.760924</td>\n",
       "    </tr>\n",
       "    <tr>\n",
       "      <th>142</th>\n",
       "      <td>{'C': 0.01, 'class_weight': None, 'fit_interce...</td>\n",
       "      <td>0.700064</td>\n",
       "      <td>0.735056</td>\n",
       "    </tr>\n",
       "    <tr>\n",
       "      <th>144</th>\n",
       "      <td>{'C': 0.01, 'class_weight': None, 'fit_interce...</td>\n",
       "      <td>0.700064</td>\n",
       "      <td>0.735048</td>\n",
       "    </tr>\n",
       "    <tr>\n",
       "      <th>122</th>\n",
       "      <td>{'C': 0.01, 'class_weight': None, 'fit_interce...</td>\n",
       "      <td>0.700064</td>\n",
       "      <td>0.735043</td>\n",
       "    </tr>\n",
       "  </tbody>\n",
       "</table>\n",
       "</div>"
      ],
      "text/plain": [
       "                                                params  mean_test_f1  \\\n",
       "104  {'C': 0.01, 'class_weight': 'balanced', 'fit_i...      0.703377   \n",
       "102  {'C': 0.01, 'class_weight': 'balanced', 'fit_i...      0.703377   \n",
       "82   {'C': 0.01, 'class_weight': 'balanced', 'fit_i...      0.703377   \n",
       "125  {'C': 0.01, 'class_weight': None, 'fit_interce...      0.700370   \n",
       "126  {'C': 0.01, 'class_weight': None, 'fit_interce...      0.700370   \n",
       "129  {'C': 0.01, 'class_weight': None, 'fit_interce...      0.700370   \n",
       "128  {'C': 0.01, 'class_weight': None, 'fit_interce...      0.700370   \n",
       "142  {'C': 0.01, 'class_weight': None, 'fit_interce...      0.700064   \n",
       "144  {'C': 0.01, 'class_weight': None, 'fit_interce...      0.700064   \n",
       "122  {'C': 0.01, 'class_weight': None, 'fit_interce...      0.700064   \n",
       "\n",
       "     mean_test_roc_auc  \n",
       "104           0.736809  \n",
       "102           0.736801  \n",
       "82            0.736797  \n",
       "125           0.760936  \n",
       "126           0.760936  \n",
       "129           0.760936  \n",
       "128           0.760924  \n",
       "142           0.735056  \n",
       "144           0.735048  \n",
       "122           0.735043  "
      ]
     },
     "execution_count": 62,
     "metadata": {},
     "output_type": "execute_result"
    }
   ],
   "source": [
    "results = pd.DataFrame(log_reg.cv_results_)[['params', 'mean_test_f1', 'mean_test_roc_auc']].\\\n",
    "sort_values(by=['mean_test_f1', 'mean_test_roc_auc'], ascending=False)\n",
    "results.head(10)\n",
    "#вывожу 10 лучших результатов по метрике F1"
   ]
  },
  {
   "cell_type": "code",
   "execution_count": 63,
   "metadata": {},
   "outputs": [
    {
     "data": {
      "text/plain": [
       "array([{'C': 0.01, 'class_weight': 'balanced', 'fit_intercept': False, 'penalty': 'l1', 'solver': 'saga'}],\n",
       "      dtype=object)"
      ]
     },
     "execution_count": 63,
     "metadata": {},
     "output_type": "execute_result"
    }
   ],
   "source": [
    "results.head(1).params.values\n",
    "#вывожу лучшие параметры модели"
   ]
  },
  {
   "cell_type": "code",
   "execution_count": 64,
   "metadata": {},
   "outputs": [
    {
     "name": "stdout",
     "output_type": "stream",
     "text": [
      "Метрики для лучшей модели логистической регрессии на валидационной выборке:\n",
      "F1 = 0.5226554267650159, ROC-AUC = 0.720202780359774\n"
     ]
    }
   ],
   "source": [
    "log_reg.best_estimator_.fit(X_train, y_train)\n",
    "print('Метрики для лучшей модели логистической регрессии на валидационной выборке:')\n",
    "print(f'F1 = {f1_score(y_valid, log_reg.best_estimator_.predict(X_valid))}, ROC-AUC = {roc_auc_score(y_valid, log_reg.best_estimator_.predict(X_valid))}')"
   ]
  },
  {
   "cell_type": "markdown",
   "metadata": {},
   "source": [
    "Проведены обучения моделей логистической регрессии с различными параметрами.\n",
    "\n",
    "Лучшая модель на кросс-валидации: LogisticRegression(penalty='l1', C=0.01, class_weight='balanced', fit_intercept=False, solver='saga')\n",
    "\n",
    "F1 на валидационной выборке для лучшей модели равно 0.5226554267650159\n",
    "\n",
    "ROC-AUC на валидационной выборке для лучшей модели равно 0.720202780359774"
   ]
  },
  {
   "cell_type": "markdown",
   "metadata": {},
   "source": [
    "#### DecisionTreeClassifier"
   ]
  },
  {
   "cell_type": "code",
   "execution_count": 65,
   "metadata": {},
   "outputs": [
    {
     "data": {
      "text/plain": [
       "GridSearchCV(cv=5, estimator=DecisionTreeClassifier(random_state=21), n_jobs=-1,\n",
       "             param_grid={'class_weight': ('balanced', None),\n",
       "                         'criterion': ('gini', 'entropy', 'log_loss'),\n",
       "                         'max_depth': [1, 2, 3, 4, 5, 6, 7, 8, 9, 10, 11, 12,\n",
       "                                       13, 14, 15, 16, 17, 18, 19, 20, 25, 30,\n",
       "                                       35, 40, 45, 50, 55, 60, 65, 70, ...],\n",
       "                         'max_features': ('auto', 'sqrt', 'log2', None)},\n",
       "             refit='f1', scoring=['f1', 'roc_auc'])"
      ]
     },
     "execution_count": 65,
     "metadata": {},
     "output_type": "execute_result"
    }
   ],
   "source": [
    "param_grid = {'criterion' : ('gini', 'entropy', 'log_loss'),\n",
    "              'max_depth' : list(range(1, 20)) + list(range(20, 101, 5)),\n",
    "              'max_features': ('auto', 'sqrt', 'log2', None),\n",
    "              'class_weight' : ('balanced', None)\n",
    "             }\n",
    "dt_clf = GridSearchCV(estimator=DecisionTreeClassifier(random_state=21),\n",
    "                       param_grid=param_grid,\n",
    "                       cv=5,\n",
    "                       refit='f1',\n",
    "                       scoring=['f1', 'roc_auc'],\n",
    "                       n_jobs=-1)\n",
    "dt_clf.fit(X_downsampled_train, y_downsampled_train)\n",
    "#провожу обучение по решетке для дерева решений со стратифицированной кросс-валидацией по 5 фолдам "
   ]
  },
  {
   "cell_type": "code",
   "execution_count": 66,
   "metadata": {},
   "outputs": [
    {
     "data": {
      "text/html": [
       "<div>\n",
       "<style scoped>\n",
       "    .dataframe tbody tr th:only-of-type {\n",
       "        vertical-align: middle;\n",
       "    }\n",
       "\n",
       "    .dataframe tbody tr th {\n",
       "        vertical-align: top;\n",
       "    }\n",
       "\n",
       "    .dataframe thead th {\n",
       "        text-align: right;\n",
       "    }\n",
       "</style>\n",
       "<table border=\"1\" class=\"dataframe\">\n",
       "  <thead>\n",
       "    <tr style=\"text-align: right;\">\n",
       "      <th></th>\n",
       "      <th>params</th>\n",
       "      <th>mean_test_f1</th>\n",
       "      <th>mean_test_roc_auc</th>\n",
       "    </tr>\n",
       "  </thead>\n",
       "  <tbody>\n",
       "    <tr>\n",
       "      <th>599</th>\n",
       "      <td>{'class_weight': None, 'criterion': 'entropy',...</td>\n",
       "      <td>0.749133</td>\n",
       "      <td>0.825082</td>\n",
       "    </tr>\n",
       "    <tr>\n",
       "      <th>167</th>\n",
       "      <td>{'class_weight': 'balanced', 'criterion': 'ent...</td>\n",
       "      <td>0.747986</td>\n",
       "      <td>0.823371</td>\n",
       "    </tr>\n",
       "    <tr>\n",
       "      <th>23</th>\n",
       "      <td>{'class_weight': 'balanced', 'criterion': 'gin...</td>\n",
       "      <td>0.743431</td>\n",
       "      <td>0.822358</td>\n",
       "    </tr>\n",
       "    <tr>\n",
       "      <th>455</th>\n",
       "      <td>{'class_weight': None, 'criterion': 'gini', 'm...</td>\n",
       "      <td>0.743187</td>\n",
       "      <td>0.822467</td>\n",
       "    </tr>\n",
       "    <tr>\n",
       "      <th>607</th>\n",
       "      <td>{'class_weight': None, 'criterion': 'entropy',...</td>\n",
       "      <td>0.742464</td>\n",
       "      <td>0.797038</td>\n",
       "    </tr>\n",
       "    <tr>\n",
       "      <th>175</th>\n",
       "      <td>{'class_weight': 'balanced', 'criterion': 'ent...</td>\n",
       "      <td>0.740284</td>\n",
       "      <td>0.798756</td>\n",
       "    </tr>\n",
       "    <tr>\n",
       "      <th>447</th>\n",
       "      <td>{'class_weight': None, 'criterion': 'gini', 'm...</td>\n",
       "      <td>0.740029</td>\n",
       "      <td>0.806436</td>\n",
       "    </tr>\n",
       "    <tr>\n",
       "      <th>15</th>\n",
       "      <td>{'class_weight': 'balanced', 'criterion': 'gin...</td>\n",
       "      <td>0.740029</td>\n",
       "      <td>0.805575</td>\n",
       "    </tr>\n",
       "    <tr>\n",
       "      <th>603</th>\n",
       "      <td>{'class_weight': None, 'criterion': 'entropy',...</td>\n",
       "      <td>0.739993</td>\n",
       "      <td>0.820232</td>\n",
       "    </tr>\n",
       "    <tr>\n",
       "      <th>171</th>\n",
       "      <td>{'class_weight': 'balanced', 'criterion': 'ent...</td>\n",
       "      <td>0.738849</td>\n",
       "      <td>0.817493</td>\n",
       "    </tr>\n",
       "  </tbody>\n",
       "</table>\n",
       "</div>"
      ],
      "text/plain": [
       "                                                params  mean_test_f1  \\\n",
       "599  {'class_weight': None, 'criterion': 'entropy',...      0.749133   \n",
       "167  {'class_weight': 'balanced', 'criterion': 'ent...      0.747986   \n",
       "23   {'class_weight': 'balanced', 'criterion': 'gin...      0.743431   \n",
       "455  {'class_weight': None, 'criterion': 'gini', 'm...      0.743187   \n",
       "607  {'class_weight': None, 'criterion': 'entropy',...      0.742464   \n",
       "175  {'class_weight': 'balanced', 'criterion': 'ent...      0.740284   \n",
       "447  {'class_weight': None, 'criterion': 'gini', 'm...      0.740029   \n",
       "15   {'class_weight': 'balanced', 'criterion': 'gin...      0.740029   \n",
       "603  {'class_weight': None, 'criterion': 'entropy',...      0.739993   \n",
       "171  {'class_weight': 'balanced', 'criterion': 'ent...      0.738849   \n",
       "\n",
       "     mean_test_roc_auc  \n",
       "599           0.825082  \n",
       "167           0.823371  \n",
       "23            0.822358  \n",
       "455           0.822467  \n",
       "607           0.797038  \n",
       "175           0.798756  \n",
       "447           0.806436  \n",
       "15            0.805575  \n",
       "603           0.820232  \n",
       "171           0.817493  "
      ]
     },
     "execution_count": 66,
     "metadata": {},
     "output_type": "execute_result"
    }
   ],
   "source": [
    "results = pd.DataFrame(dt_clf.cv_results_)[['params', 'mean_test_f1', 'mean_test_roc_auc']].\\\n",
    "sort_values(by=['mean_test_f1', 'mean_test_roc_auc'], ascending=False)\n",
    "results.head(10)\n",
    "#вывожу 10 лучших результатов по метрике F1"
   ]
  },
  {
   "cell_type": "code",
   "execution_count": 67,
   "metadata": {},
   "outputs": [
    {
     "data": {
      "text/plain": [
       "array([{'class_weight': None, 'criterion': 'entropy', 'max_depth': 6, 'max_features': None}],\n",
       "      dtype=object)"
      ]
     },
     "execution_count": 67,
     "metadata": {},
     "output_type": "execute_result"
    }
   ],
   "source": [
    "results.head(1).params.values\n",
    "#вывожу лучшие параметры модели"
   ]
  },
  {
   "cell_type": "code",
   "execution_count": 68,
   "metadata": {},
   "outputs": [
    {
     "name": "stdout",
     "output_type": "stream",
     "text": [
      "Метрики для лучшей модели дерева решений на валидационной выборке:\n",
      "F1 = 0.58, ROC-AUC = 0.7736966714291302\n"
     ]
    }
   ],
   "source": [
    "dt_clf.best_estimator_.fit(X_downsampled_train, y_downsampled_train)\n",
    "print('Метрики для лучшей модели дерева решений на валидационной выборке:')\n",
    "print(f'F1 = {f1_score(y_valid, dt_clf.best_estimator_.predict(X_valid))}, ROC-AUC = {roc_auc_score(y_valid, dt_clf.best_estimator_.predict(X_valid))}')"
   ]
  },
  {
   "cell_type": "markdown",
   "metadata": {},
   "source": [
    "Проведены обучения моделей деревьев решений с различными параметрами.\n",
    "\n",
    "Лучшая модель на кросс-валидации: DecisionTreeClassifier(class_weight=None, criterion='entropy', max_depth=6, max_features=None)\n",
    "\n",
    "F1 на валидационной выборке для лучшей модели равно 0.58\n",
    "\n",
    "ROC-AUC на валидационной выборке для лучшей модели равно 0.7736966714291302"
   ]
  },
  {
   "cell_type": "markdown",
   "metadata": {},
   "source": [
    "#### RandomForestClassifier"
   ]
  },
  {
   "cell_type": "code",
   "execution_count": 69,
   "metadata": {},
   "outputs": [
    {
     "data": {
      "text/plain": [
       "GridSearchCV(cv=5, estimator=RandomForestClassifier(n_jobs=-1, random_state=21),\n",
       "             n_jobs=-1,\n",
       "             param_grid={'class_weight': ('balanced', 'balanced_subsample',\n",
       "                                          None),\n",
       "                         'criterion': ('gini', 'entropy', 'log_loss'),\n",
       "                         'max_depth': range(1, 10),\n",
       "                         'n_estimators': range(10, 51, 10)},\n",
       "             refit='f1', scoring=['f1', 'roc_auc'])"
      ]
     },
     "execution_count": 69,
     "metadata": {},
     "output_type": "execute_result"
    }
   ],
   "source": [
    "param_grid = {'n_estimators' : range(10, 51, 10),\n",
    "              'criterion' : ('gini', 'entropy', 'log_loss'),\n",
    "              'max_depth' : range(1, 10),\n",
    "              'class_weight' : ('balanced', 'balanced_subsample', None)\n",
    "             }\n",
    "rf_clf = GridSearchCV(estimator=RandomForestClassifier(random_state=21, n_jobs=-1),\n",
    "                      param_grid=param_grid,\n",
    "                      cv=5,\n",
    "                      refit='f1',\n",
    "                      scoring=['f1', 'roc_auc'],\n",
    "                      n_jobs=-1)\n",
    "rf_clf.fit(X_downsampled_train, y_downsampled_train)\n",
    "#провожу обучение по решетке для случайного леса со стратифицированной кросс-валидацией по 5 фолдам "
   ]
  },
  {
   "cell_type": "code",
   "execution_count": 70,
   "metadata": {},
   "outputs": [
    {
     "data": {
      "text/html": [
       "<div>\n",
       "<style scoped>\n",
       "    .dataframe tbody tr th:only-of-type {\n",
       "        vertical-align: middle;\n",
       "    }\n",
       "\n",
       "    .dataframe tbody tr th {\n",
       "        vertical-align: top;\n",
       "    }\n",
       "\n",
       "    .dataframe thead th {\n",
       "        text-align: right;\n",
       "    }\n",
       "</style>\n",
       "<table border=\"1\" class=\"dataframe\">\n",
       "  <thead>\n",
       "    <tr style=\"text-align: right;\">\n",
       "      <th></th>\n",
       "      <th>params</th>\n",
       "      <th>mean_test_f1</th>\n",
       "      <th>mean_test_roc_auc</th>\n",
       "    </tr>\n",
       "  </thead>\n",
       "  <tbody>\n",
       "    <tr>\n",
       "      <th>314</th>\n",
       "      <td>{'class_weight': None, 'criterion': 'gini', 'm...</td>\n",
       "      <td>0.780690</td>\n",
       "      <td>0.858427</td>\n",
       "    </tr>\n",
       "    <tr>\n",
       "      <th>38</th>\n",
       "      <td>{'class_weight': 'balanced', 'criterion': 'gin...</td>\n",
       "      <td>0.780158</td>\n",
       "      <td>0.860581</td>\n",
       "    </tr>\n",
       "    <tr>\n",
       "      <th>173</th>\n",
       "      <td>{'class_weight': 'balanced_subsample', 'criter...</td>\n",
       "      <td>0.780100</td>\n",
       "      <td>0.857248</td>\n",
       "    </tr>\n",
       "    <tr>\n",
       "      <th>313</th>\n",
       "      <td>{'class_weight': None, 'criterion': 'gini', 'm...</td>\n",
       "      <td>0.779242</td>\n",
       "      <td>0.857767</td>\n",
       "    </tr>\n",
       "    <tr>\n",
       "      <th>347</th>\n",
       "      <td>{'class_weight': None, 'criterion': 'entropy',...</td>\n",
       "      <td>0.778757</td>\n",
       "      <td>0.860513</td>\n",
       "    </tr>\n",
       "    <tr>\n",
       "      <th>349</th>\n",
       "      <td>{'class_weight': None, 'criterion': 'entropy',...</td>\n",
       "      <td>0.778252</td>\n",
       "      <td>0.860834</td>\n",
       "    </tr>\n",
       "    <tr>\n",
       "      <th>219</th>\n",
       "      <td>{'class_weight': 'balanced_subsample', 'criter...</td>\n",
       "      <td>0.778212</td>\n",
       "      <td>0.862091</td>\n",
       "    </tr>\n",
       "    <tr>\n",
       "      <th>218</th>\n",
       "      <td>{'class_weight': 'balanced_subsample', 'criter...</td>\n",
       "      <td>0.778144</td>\n",
       "      <td>0.861156</td>\n",
       "    </tr>\n",
       "    <tr>\n",
       "      <th>174</th>\n",
       "      <td>{'class_weight': 'balanced_subsample', 'criter...</td>\n",
       "      <td>0.777717</td>\n",
       "      <td>0.857424</td>\n",
       "    </tr>\n",
       "    <tr>\n",
       "      <th>44</th>\n",
       "      <td>{'class_weight': 'balanced', 'criterion': 'gin...</td>\n",
       "      <td>0.776961</td>\n",
       "      <td>0.857570</td>\n",
       "    </tr>\n",
       "  </tbody>\n",
       "</table>\n",
       "</div>"
      ],
      "text/plain": [
       "                                                params  mean_test_f1  \\\n",
       "314  {'class_weight': None, 'criterion': 'gini', 'm...      0.780690   \n",
       "38   {'class_weight': 'balanced', 'criterion': 'gin...      0.780158   \n",
       "173  {'class_weight': 'balanced_subsample', 'criter...      0.780100   \n",
       "313  {'class_weight': None, 'criterion': 'gini', 'm...      0.779242   \n",
       "347  {'class_weight': None, 'criterion': 'entropy',...      0.778757   \n",
       "349  {'class_weight': None, 'criterion': 'entropy',...      0.778252   \n",
       "219  {'class_weight': 'balanced_subsample', 'criter...      0.778212   \n",
       "218  {'class_weight': 'balanced_subsample', 'criter...      0.778144   \n",
       "174  {'class_weight': 'balanced_subsample', 'criter...      0.777717   \n",
       "44   {'class_weight': 'balanced', 'criterion': 'gin...      0.776961   \n",
       "\n",
       "     mean_test_roc_auc  \n",
       "314           0.858427  \n",
       "38            0.860581  \n",
       "173           0.857248  \n",
       "313           0.857767  \n",
       "347           0.860513  \n",
       "349           0.860834  \n",
       "219           0.862091  \n",
       "218           0.861156  \n",
       "174           0.857424  \n",
       "44            0.857570  "
      ]
     },
     "execution_count": 70,
     "metadata": {},
     "output_type": "execute_result"
    }
   ],
   "source": [
    "results = pd.DataFrame(rf_clf.cv_results_)[['params', 'mean_test_f1', 'mean_test_roc_auc']].\\\n",
    "sort_values(by=['mean_test_f1', 'mean_test_roc_auc'], ascending=False)\n",
    "results.head(10)\n",
    "#вывожу 10 лучших результатов по метрике F1"
   ]
  },
  {
   "cell_type": "code",
   "execution_count": 71,
   "metadata": {},
   "outputs": [
    {
     "data": {
      "text/plain": [
       "array([{'class_weight': None, 'criterion': 'gini', 'max_depth': 9, 'n_estimators': 50}],\n",
       "      dtype=object)"
      ]
     },
     "execution_count": 71,
     "metadata": {},
     "output_type": "execute_result"
    }
   ],
   "source": [
    "results.head(1).params.values\n",
    "#вывожу лучшие параметры модели"
   ]
  },
  {
   "cell_type": "code",
   "execution_count": 72,
   "metadata": {},
   "outputs": [
    {
     "data": {
      "text/plain": [
       "GridSearchCV(cv=5, estimator=RandomForestClassifier(n_jobs=-1, random_state=21),\n",
       "             n_jobs=-1,\n",
       "             param_grid={'class_weight': ('balanced', 'balanced_subsample',\n",
       "                                          None),\n",
       "                         'criterion': ('gini', 'entropy', 'log_loss'),\n",
       "                         'max_depth': range(1, 10),\n",
       "                         'n_estimators': range(60, 101, 10)},\n",
       "             refit='f1', scoring=['f1', 'roc_auc'])"
      ]
     },
     "execution_count": 72,
     "metadata": {},
     "output_type": "execute_result"
    }
   ],
   "source": [
    "param_grid = {'n_estimators' : range(60, 101, 10),\n",
    "              'criterion' : ('gini', 'entropy', 'log_loss'),\n",
    "              'max_depth' : range(1, 10),\n",
    "              'class_weight' : ('balanced', 'balanced_subsample', None)\n",
    "             }\n",
    "rf_clf = GridSearchCV(estimator=RandomForestClassifier(random_state=21, n_jobs=-1),\n",
    "                      param_grid=param_grid,\n",
    "                      cv=5,\n",
    "                      refit='f1',\n",
    "                      scoring=['f1', 'roc_auc'],\n",
    "                      n_jobs=-1)\n",
    "rf_clf.fit(X_downsampled_train, y_downsampled_train)\n",
    "#провожу обучение по решетке для случайного леса со стратифицированной кросс-валидацией по 5 фолдам "
   ]
  },
  {
   "cell_type": "code",
   "execution_count": 73,
   "metadata": {},
   "outputs": [
    {
     "data": {
      "text/html": [
       "<div>\n",
       "<style scoped>\n",
       "    .dataframe tbody tr th:only-of-type {\n",
       "        vertical-align: middle;\n",
       "    }\n",
       "\n",
       "    .dataframe tbody tr th {\n",
       "        vertical-align: top;\n",
       "    }\n",
       "\n",
       "    .dataframe thead th {\n",
       "        text-align: right;\n",
       "    }\n",
       "</style>\n",
       "<table border=\"1\" class=\"dataframe\">\n",
       "  <thead>\n",
       "    <tr style=\"text-align: right;\">\n",
       "      <th></th>\n",
       "      <th>params</th>\n",
       "      <th>mean_test_f1</th>\n",
       "      <th>mean_test_roc_auc</th>\n",
       "    </tr>\n",
       "  </thead>\n",
       "  <tbody>\n",
       "    <tr>\n",
       "      <th>312</th>\n",
       "      <td>{'class_weight': None, 'criterion': 'gini', 'm...</td>\n",
       "      <td>0.781405</td>\n",
       "      <td>0.860673</td>\n",
       "    </tr>\n",
       "    <tr>\n",
       "      <th>37</th>\n",
       "      <td>{'class_weight': 'balanced', 'criterion': 'gin...</td>\n",
       "      <td>0.780551</td>\n",
       "      <td>0.861774</td>\n",
       "    </tr>\n",
       "    <tr>\n",
       "      <th>41</th>\n",
       "      <td>{'class_weight': 'balanced', 'criterion': 'gin...</td>\n",
       "      <td>0.780122</td>\n",
       "      <td>0.858843</td>\n",
       "    </tr>\n",
       "    <tr>\n",
       "      <th>310</th>\n",
       "      <td>{'class_weight': None, 'criterion': 'gini', 'm...</td>\n",
       "      <td>0.780110</td>\n",
       "      <td>0.859190</td>\n",
       "    </tr>\n",
       "    <tr>\n",
       "      <th>39</th>\n",
       "      <td>{'class_weight': 'balanced', 'criterion': 'gin...</td>\n",
       "      <td>0.779976</td>\n",
       "      <td>0.860796</td>\n",
       "    </tr>\n",
       "    <tr>\n",
       "      <th>40</th>\n",
       "      <td>{'class_weight': 'balanced', 'criterion': 'gin...</td>\n",
       "      <td>0.779937</td>\n",
       "      <td>0.858966</td>\n",
       "    </tr>\n",
       "    <tr>\n",
       "      <th>313</th>\n",
       "      <td>{'class_weight': None, 'criterion': 'gini', 'm...</td>\n",
       "      <td>0.779754</td>\n",
       "      <td>0.860409</td>\n",
       "    </tr>\n",
       "    <tr>\n",
       "      <th>215</th>\n",
       "      <td>{'class_weight': 'balanced_subsample', 'criter...</td>\n",
       "      <td>0.779519</td>\n",
       "      <td>0.861995</td>\n",
       "    </tr>\n",
       "    <tr>\n",
       "      <th>311</th>\n",
       "      <td>{'class_weight': None, 'criterion': 'gini', 'm...</td>\n",
       "      <td>0.778823</td>\n",
       "      <td>0.859549</td>\n",
       "    </tr>\n",
       "    <tr>\n",
       "      <th>217</th>\n",
       "      <td>{'class_weight': 'balanced_subsample', 'criter...</td>\n",
       "      <td>0.778665</td>\n",
       "      <td>0.861260</td>\n",
       "    </tr>\n",
       "  </tbody>\n",
       "</table>\n",
       "</div>"
      ],
      "text/plain": [
       "                                                params  mean_test_f1  \\\n",
       "312  {'class_weight': None, 'criterion': 'gini', 'm...      0.781405   \n",
       "37   {'class_weight': 'balanced', 'criterion': 'gin...      0.780551   \n",
       "41   {'class_weight': 'balanced', 'criterion': 'gin...      0.780122   \n",
       "310  {'class_weight': None, 'criterion': 'gini', 'm...      0.780110   \n",
       "39   {'class_weight': 'balanced', 'criterion': 'gin...      0.779976   \n",
       "40   {'class_weight': 'balanced', 'criterion': 'gin...      0.779937   \n",
       "313  {'class_weight': None, 'criterion': 'gini', 'm...      0.779754   \n",
       "215  {'class_weight': 'balanced_subsample', 'criter...      0.779519   \n",
       "311  {'class_weight': None, 'criterion': 'gini', 'm...      0.778823   \n",
       "217  {'class_weight': 'balanced_subsample', 'criter...      0.778665   \n",
       "\n",
       "     mean_test_roc_auc  \n",
       "312           0.860673  \n",
       "37            0.861774  \n",
       "41            0.858843  \n",
       "310           0.859190  \n",
       "39            0.860796  \n",
       "40            0.858966  \n",
       "313           0.860409  \n",
       "215           0.861995  \n",
       "311           0.859549  \n",
       "217           0.861260  "
      ]
     },
     "execution_count": 73,
     "metadata": {},
     "output_type": "execute_result"
    }
   ],
   "source": [
    "results = pd.DataFrame(rf_clf.cv_results_)[['params', 'mean_test_f1', 'mean_test_roc_auc']].\\\n",
    "sort_values(by=['mean_test_f1', 'mean_test_roc_auc'], ascending=False)\n",
    "results.head(10)\n",
    "#вывожу 10 лучших результатов по метрике F1"
   ]
  },
  {
   "cell_type": "code",
   "execution_count": 74,
   "metadata": {},
   "outputs": [
    {
     "data": {
      "text/plain": [
       "array([{'class_weight': None, 'criterion': 'gini', 'max_depth': 9, 'n_estimators': 80}],\n",
       "      dtype=object)"
      ]
     },
     "execution_count": 74,
     "metadata": {},
     "output_type": "execute_result"
    }
   ],
   "source": [
    "results.head(1).params.values\n",
    "#вывожу лучшие параметры модели"
   ]
  },
  {
   "cell_type": "code",
   "execution_count": 75,
   "metadata": {},
   "outputs": [
    {
     "data": {
      "text/plain": [
       "GridSearchCV(cv=5, estimator=RandomForestClassifier(n_jobs=-1, random_state=21),\n",
       "             n_jobs=-1,\n",
       "             param_grid={'class_weight': ('balanced', 'balanced_subsample',\n",
       "                                          None),\n",
       "                         'criterion': ('gini', 'entropy', 'log_loss'),\n",
       "                         'max_depth': [9], 'n_estimators': range(75, 86)},\n",
       "             refit='f1', scoring=['f1', 'roc_auc'])"
      ]
     },
     "execution_count": 75,
     "metadata": {},
     "output_type": "execute_result"
    }
   ],
   "source": [
    "param_grid = {'n_estimators' : range(75, 86),\n",
    "              'criterion' : ('gini', 'entropy', 'log_loss'),\n",
    "              'max_depth' : [9],\n",
    "              'class_weight' : ('balanced', 'balanced_subsample', None)\n",
    "             }\n",
    "rf_clf = GridSearchCV(estimator=RandomForestClassifier(random_state=21, n_jobs=-1),\n",
    "                      param_grid=param_grid,\n",
    "                      cv=5,\n",
    "                      refit='f1',\n",
    "                      scoring=['f1', 'roc_auc'],\n",
    "                      n_jobs=-1)\n",
    "rf_clf.fit(X_downsampled_train, y_downsampled_train)\n",
    "#провожу обучение по решетке для случайного леса со стратифицированной кросс-валидацией по 5 фолдам "
   ]
  },
  {
   "cell_type": "code",
   "execution_count": 76,
   "metadata": {},
   "outputs": [
    {
     "data": {
      "text/html": [
       "<div>\n",
       "<style scoped>\n",
       "    .dataframe tbody tr th:only-of-type {\n",
       "        vertical-align: middle;\n",
       "    }\n",
       "\n",
       "    .dataframe tbody tr th {\n",
       "        vertical-align: top;\n",
       "    }\n",
       "\n",
       "    .dataframe thead th {\n",
       "        text-align: right;\n",
       "    }\n",
       "</style>\n",
       "<table border=\"1\" class=\"dataframe\">\n",
       "  <thead>\n",
       "    <tr style=\"text-align: right;\">\n",
       "      <th></th>\n",
       "      <th>params</th>\n",
       "      <th>mean_test_f1</th>\n",
       "      <th>mean_test_roc_auc</th>\n",
       "    </tr>\n",
       "  </thead>\n",
       "  <tbody>\n",
       "    <tr>\n",
       "      <th>68</th>\n",
       "      <td>{'class_weight': None, 'criterion': 'gini', 'm...</td>\n",
       "      <td>0.783936</td>\n",
       "      <td>0.859622</td>\n",
       "    </tr>\n",
       "    <tr>\n",
       "      <th>69</th>\n",
       "      <td>{'class_weight': None, 'criterion': 'gini', 'm...</td>\n",
       "      <td>0.783918</td>\n",
       "      <td>0.860214</td>\n",
       "    </tr>\n",
       "    <tr>\n",
       "      <th>70</th>\n",
       "      <td>{'class_weight': None, 'criterion': 'gini', 'm...</td>\n",
       "      <td>0.783063</td>\n",
       "      <td>0.860334</td>\n",
       "    </tr>\n",
       "    <tr>\n",
       "      <th>76</th>\n",
       "      <td>{'class_weight': None, 'criterion': 'gini', 'm...</td>\n",
       "      <td>0.782866</td>\n",
       "      <td>0.860641</td>\n",
       "    </tr>\n",
       "    <tr>\n",
       "      <th>75</th>\n",
       "      <td>{'class_weight': None, 'criterion': 'gini', 'm...</td>\n",
       "      <td>0.782703</td>\n",
       "      <td>0.860475</td>\n",
       "    </tr>\n",
       "    <tr>\n",
       "      <th>71</th>\n",
       "      <td>{'class_weight': None, 'criterion': 'gini', 'm...</td>\n",
       "      <td>0.781405</td>\n",
       "      <td>0.860673</td>\n",
       "    </tr>\n",
       "    <tr>\n",
       "      <th>67</th>\n",
       "      <td>{'class_weight': None, 'criterion': 'gini', 'm...</td>\n",
       "      <td>0.780840</td>\n",
       "      <td>0.859676</td>\n",
       "    </tr>\n",
       "    <tr>\n",
       "      <th>1</th>\n",
       "      <td>{'class_weight': 'balanced', 'criterion': 'gin...</td>\n",
       "      <td>0.780047</td>\n",
       "      <td>0.858196</td>\n",
       "    </tr>\n",
       "    <tr>\n",
       "      <th>2</th>\n",
       "      <td>{'class_weight': 'balanced', 'criterion': 'gin...</td>\n",
       "      <td>0.779638</td>\n",
       "      <td>0.858432</td>\n",
       "    </tr>\n",
       "    <tr>\n",
       "      <th>72</th>\n",
       "      <td>{'class_weight': None, 'criterion': 'gini', 'm...</td>\n",
       "      <td>0.779599</td>\n",
       "      <td>0.860308</td>\n",
       "    </tr>\n",
       "  </tbody>\n",
       "</table>\n",
       "</div>"
      ],
      "text/plain": [
       "                                               params  mean_test_f1  \\\n",
       "68  {'class_weight': None, 'criterion': 'gini', 'm...      0.783936   \n",
       "69  {'class_weight': None, 'criterion': 'gini', 'm...      0.783918   \n",
       "70  {'class_weight': None, 'criterion': 'gini', 'm...      0.783063   \n",
       "76  {'class_weight': None, 'criterion': 'gini', 'm...      0.782866   \n",
       "75  {'class_weight': None, 'criterion': 'gini', 'm...      0.782703   \n",
       "71  {'class_weight': None, 'criterion': 'gini', 'm...      0.781405   \n",
       "67  {'class_weight': None, 'criterion': 'gini', 'm...      0.780840   \n",
       "1   {'class_weight': 'balanced', 'criterion': 'gin...      0.780047   \n",
       "2   {'class_weight': 'balanced', 'criterion': 'gin...      0.779638   \n",
       "72  {'class_weight': None, 'criterion': 'gini', 'm...      0.779599   \n",
       "\n",
       "    mean_test_roc_auc  \n",
       "68           0.859622  \n",
       "69           0.860214  \n",
       "70           0.860334  \n",
       "76           0.860641  \n",
       "75           0.860475  \n",
       "71           0.860673  \n",
       "67           0.859676  \n",
       "1            0.858196  \n",
       "2            0.858432  \n",
       "72           0.860308  "
      ]
     },
     "execution_count": 76,
     "metadata": {},
     "output_type": "execute_result"
    }
   ],
   "source": [
    "results = pd.DataFrame(rf_clf.cv_results_)[['params', 'mean_test_f1', 'mean_test_roc_auc']].\\\n",
    "sort_values(by=['mean_test_f1', 'mean_test_roc_auc'], ascending=False)\n",
    "results.head(10)\n",
    "#вывожу 10 лучших результатов по метрике F1"
   ]
  },
  {
   "cell_type": "code",
   "execution_count": 77,
   "metadata": {},
   "outputs": [
    {
     "data": {
      "text/plain": [
       "array([{'class_weight': None, 'criterion': 'gini', 'max_depth': 9, 'n_estimators': 77}],\n",
       "      dtype=object)"
      ]
     },
     "execution_count": 77,
     "metadata": {},
     "output_type": "execute_result"
    }
   ],
   "source": [
    "results.head(1).params.values\n",
    "#вывожу лучшие параметры модели"
   ]
  },
  {
   "cell_type": "code",
   "execution_count": 78,
   "metadata": {},
   "outputs": [
    {
     "name": "stdout",
     "output_type": "stream",
     "text": [
      "Метрики для лучшей модели случайного леса на валидационной выборке:\n",
      "F1 = 0.5985401459854014, ROC-AUC = 0.7827841598101473\n"
     ]
    }
   ],
   "source": [
    "rf_clf.best_estimator_.fit(X_downsampled_train, y_downsampled_train)\n",
    "print('Метрики для лучшей модели случайного леса на валидационной выборке:')\n",
    "print(f'F1 = {f1_score(y_valid, rf_clf.best_estimator_.predict(X_valid))}, ROC-AUC = {roc_auc_score(y_valid, rf_clf.best_estimator_.predict(X_valid))}')"
   ]
  },
  {
   "cell_type": "markdown",
   "metadata": {},
   "source": [
    "Проведены обучения моделей случайного леса с различными параметрами.\n",
    "\n",
    "Лучшая модель на кросс-валидации: RandomForestClassifier(class_weight=None, criterion='gini',max_depth=9, n_estimators=77)\n",
    "\n",
    "F1 на валидационной выборке для лучшей модели равно 0.5985401459854014\n",
    "\n",
    "ROC-AUC на валидационной выборке для лучшей модели равно 0.7827841598101473"
   ]
  },
  {
   "cell_type": "markdown",
   "metadata": {},
   "source": [
    "Вывод: \n",
    "\n",
    "для обучающей выборке проведен downsampling, соотношение класса 1 и класса 0 стало примерно 1:1.\n",
    "\n",
    "Проведены обучения моделей логистической регрессии, деревьев решений, случайного леса с различными параметрами, самый лучший результат на кросс-валидации показал случайный лес (F1 = 0.5985, ROC-AUC = 0.7828)"
   ]
  },
  {
   "cell_type": "markdown",
   "metadata": {},
   "source": [
    "### Увеличение выборки"
   ]
  },
  {
   "cell_type": "code",
   "execution_count": 79,
   "metadata": {},
   "outputs": [],
   "source": [
    "def upsample(X, y, repeat, random_state):\n",
    "    X_0 = X[y == 0]\n",
    "    X_1 = X[y == 1]\n",
    "    y_0 = y[y == 0]\n",
    "    y_1 = y[y == 1]\n",
    "\n",
    "    X_upsampled = pd.concat([X_0] + [X_1] * repeat)\n",
    "    y_upsampled = pd.concat([y_0] + [y_1] * repeat)\n",
    "    \n",
    "    X_upsampled, y_upsampled = shuffle(X_upsampled, y_upsampled, random_state=random_state)\n",
    "    \n",
    "    return X_upsampled, y_upsampled\n",
    "#функция повторяет элементы класса 1 repeat раз, количество элементов класса 0 остается \n",
    "#без изменения"
   ]
  },
  {
   "cell_type": "code",
   "execution_count": 80,
   "metadata": {},
   "outputs": [
    {
     "data": {
      "text/plain": [
       "(5454, 11)"
      ]
     },
     "execution_count": 80,
     "metadata": {},
     "output_type": "execute_result"
    }
   ],
   "source": [
    "X_train.shape"
   ]
  },
  {
   "cell_type": "code",
   "execution_count": 81,
   "metadata": {},
   "outputs": [
    {
     "data": {
      "text/plain": [
       "(5454,)"
      ]
     },
     "execution_count": 81,
     "metadata": {},
     "output_type": "execute_result"
    }
   ],
   "source": [
    "y_train.shape"
   ]
  },
  {
   "cell_type": "code",
   "execution_count": 82,
   "metadata": {},
   "outputs": [
    {
     "data": {
      "text/plain": [
       "0    0.796113\n",
       "1    0.203887\n",
       "Name: Exited, dtype: float64"
      ]
     },
     "execution_count": 82,
     "metadata": {},
     "output_type": "execute_result"
    }
   ],
   "source": [
    "y_train.value_counts(normalize=True)"
   ]
  },
  {
   "cell_type": "code",
   "execution_count": 83,
   "metadata": {},
   "outputs": [],
   "source": [
    "X_upsampled_train, X_upsampled_valid, y_upsampled_train, y_upsampled_valid = train_test_split(X_train, y_train, test_size=0.2, random_state=21)\n",
    "#добавлю еще одну выборку, по которой буду проверять работу моделей в цикле "
   ]
  },
  {
   "cell_type": "code",
   "execution_count": 84,
   "metadata": {},
   "outputs": [],
   "source": [
    "X_upsampled_train, y_upsampled_train = upsample(X_upsampled_train, y_upsampled_train, repeat=4, random_state=21)\n",
    "#ставлю repeat=4, потому что соотношение классов 1 к 4"
   ]
  },
  {
   "cell_type": "code",
   "execution_count": 85,
   "metadata": {},
   "outputs": [
    {
     "data": {
      "text/plain": [
       "(7012, 11)"
      ]
     },
     "execution_count": 85,
     "metadata": {},
     "output_type": "execute_result"
    }
   ],
   "source": [
    "X_upsampled_train.shape"
   ]
  },
  {
   "cell_type": "code",
   "execution_count": 86,
   "metadata": {},
   "outputs": [
    {
     "data": {
      "text/plain": [
       "(7012,)"
      ]
     },
     "execution_count": 86,
     "metadata": {},
     "output_type": "execute_result"
    }
   ],
   "source": [
    "y_upsampled_train.shape"
   ]
  },
  {
   "cell_type": "code",
   "execution_count": 87,
   "metadata": {},
   "outputs": [
    {
     "data": {
      "text/plain": [
       "1    0.503708\n",
       "0    0.496292\n",
       "Name: Exited, dtype: float64"
      ]
     },
     "execution_count": 87,
     "metadata": {},
     "output_type": "execute_result"
    }
   ],
   "source": [
    "y_upsampled_train.value_counts(normalize=True)"
   ]
  },
  {
   "cell_type": "markdown",
   "metadata": {},
   "source": [
    "количества элементов класса 1 и класса 0 практически равны"
   ]
  },
  {
   "cell_type": "markdown",
   "metadata": {},
   "source": [
    "#### LogisticRegression"
   ]
  },
  {
   "cell_type": "code",
   "execution_count": 88,
   "metadata": {},
   "outputs": [],
   "source": [
    "solvers = {'l1' : ('liblinear', 'saga'),\n",
    "           'l2' : ('newton-cg', 'lbfgs', 'liblinear', 'sag', 'saga'), \n",
    "           'elasticnet' : ('saga',), \n",
    "           'none' : ('newton-cg', 'lbfgs', 'sag', 'saga')}\n",
    "best_C = None\n",
    "best_fit_intercept = None\n",
    "best_class_weight = None\n",
    "best_penalty = None\n",
    "best_solver = None\n",
    "best_f1 = 0\n",
    "best_roc_auc = 0\n",
    "for C in (0.001, 0.01, 0.1, 1, 10, 100, 1000):\n",
    "    for fit_intercept in (True, False):\n",
    "        for class_weight in ('balanced', None):\n",
    "            for penalty in ('l1', 'l2', 'elasticnet', 'none'):\n",
    "                for solver in solvers[penalty]:\n",
    "                    log_reg = LogisticRegression(random_state=21, \n",
    "                                                 n_jobs=-1, \n",
    "                                                 C=C, \n",
    "                                                 fit_intercept=fit_intercept, \n",
    "                                                 class_weight=class_weight, \n",
    "                                                 penalty=penalty, \n",
    "                                                 solver=solver, \n",
    "                                                 l1_ratio=0.5)\n",
    "                    log_reg.fit(X_upsampled_train, y_upsampled_train)\n",
    "                    f1 = f1_score(y_upsampled_valid, log_reg.predict(X_upsampled_valid))\n",
    "                    roc_auc = roc_auc_score(y_upsampled_valid, log_reg.predict(X_upsampled_valid))\n",
    "                    if (f1 > best_f1) or ((f1 == best_f1) and (roc_auc > best_roc_auc)):\n",
    "                        best_C = C\n",
    "                        best_fit_intercept = fit_intercept\n",
    "                        best_class_weight = class_weight\n",
    "                        best_penalty = penalty\n",
    "                        best_solver = solver\n",
    "                        best_f1 = f1\n",
    "                        best_roc_auc = roc_auc\n",
    "#провожу обучение в цикле для логистической регрессии"
   ]
  },
  {
   "cell_type": "code",
   "execution_count": 89,
   "metadata": {},
   "outputs": [
    {
     "name": "stdout",
     "output_type": "stream",
     "text": [
      "Best params:\n",
      "C = 0.001, fit_intercept = False, class_weight = balanced, penalty = l2, solver = newton-cg\n"
     ]
    }
   ],
   "source": [
    "print('Best params:')\n",
    "print(f'C = {best_C}, fit_intercept = {best_fit_intercept}, class_weight = {best_class_weight}, penalty = {best_penalty}, solver = {best_solver}')"
   ]
  },
  {
   "cell_type": "code",
   "execution_count": 90,
   "metadata": {},
   "outputs": [
    {
     "name": "stdout",
     "output_type": "stream",
     "text": [
      "Метрики для лучшей модели логистической регрессии на валидационной выборке:\n",
      "F1 = 0.5190525231719876, ROC-AUC = 0.71937385090819\n"
     ]
    }
   ],
   "source": [
    "log_reg = LogisticRegression(random_state=21, \n",
    "                             n_jobs=-1, \n",
    "                             C=best_C,\n",
    "                             fit_intercept=best_fit_intercept,\n",
    "                             class_weight=best_class_weight, \n",
    "                             penalty=best_penalty,\n",
    "                             solver=best_solver,\n",
    "                             l1_ratio=0.5)\n",
    "log_reg.fit(*upsample(X_train, y_train, 4, random_state=21))\n",
    "print('Метрики для лучшей модели логистической регрессии на валидационной выборке:')\n",
    "print(f'F1 = {f1_score(y_valid, log_reg.predict(X_valid))}, ROC-AUC = {roc_auc_score(y_valid, log_reg.predict(X_valid))}')"
   ]
  },
  {
   "cell_type": "markdown",
   "metadata": {},
   "source": [
    "Проведены обучения моделей логистической регрессии с различными параметрами.\n",
    "\n",
    "Лучшая модель: LogisticRegression(C=0.001, fit_intercept=False, class_weight='balanced', penalty='l2', solver='newton-cg')\n",
    "\n",
    "F1 на валидационной выборке для лучшей модели равно 0.5190525231719876\n",
    "\n",
    "ROC-AUC на валидационной выборке для лучшей модели равно 0.71937385090819"
   ]
  },
  {
   "cell_type": "markdown",
   "metadata": {},
   "source": [
    "#### DecisionTreeClassifier"
   ]
  },
  {
   "cell_type": "code",
   "execution_count": 91,
   "metadata": {},
   "outputs": [],
   "source": [
    "best_criterion = None\n",
    "best_max_depth = None\n",
    "best_class_weight = None\n",
    "best_max_features = None\n",
    "best_f1 = 0\n",
    "best_roc_auc = 0\n",
    "for criterion in ('gini', 'entropy'):\n",
    "    for max_depth in list(range(1, 20)) + list(range(20, 101, 5)):\n",
    "        for class_weight in ('balanced', None):\n",
    "            for max_features in ('auto', 'sqrt', 'log2', None):\n",
    "                dt_clf = DecisionTreeClassifier(random_state=21, \n",
    "                                                criterion=criterion, \n",
    "                                                max_depth=max_depth, \n",
    "                                                class_weight=class_weight, \n",
    "                                                max_features=max_features)\n",
    "                dt_clf.fit(X_upsampled_train, y_upsampled_train)\n",
    "                f1 = f1_score(y_upsampled_valid, dt_clf.predict(X_upsampled_valid))\n",
    "                roc_auc = roc_auc_score(y_upsampled_valid, dt_clf.predict(X_upsampled_valid))\n",
    "                if (f1 > best_f1) or ((f1 == best_f1) and (roc_auc > best_roc_auc)):\n",
    "                    best_criterion = criterion\n",
    "                    best_max_depth = max_depth\n",
    "                    best_class_weight = class_weight\n",
    "                    best_max_features = max_features\n",
    "                    best_f1 = f1\n",
    "                    best_roc_auc = roc_auc\n",
    "#провожу обучение в цикле для дерева решений"
   ]
  },
  {
   "cell_type": "code",
   "execution_count": 92,
   "metadata": {},
   "outputs": [
    {
     "name": "stdout",
     "output_type": "stream",
     "text": [
      "Best params:\n",
      "criterion = entropy, max_depth = 7, class_weight = balanced, max_features = None\n"
     ]
    }
   ],
   "source": [
    "print('Best params:')\n",
    "print(f'criterion = {best_criterion}, max_depth = {best_max_depth}, class_weight = {best_class_weight}, max_features = {best_max_features}')"
   ]
  },
  {
   "cell_type": "code",
   "execution_count": 93,
   "metadata": {},
   "outputs": [
    {
     "name": "stdout",
     "output_type": "stream",
     "text": [
      "Метрики для лучшей модели дерева решений на валидационной выборке:\n",
      "F1 = 0.5714285714285715, ROC-AUC = 0.7598041863731448\n"
     ]
    }
   ],
   "source": [
    "dt_clf = DecisionTreeClassifier(random_state=21, \n",
    "                                criterion=best_criterion, \n",
    "                                max_depth=best_max_depth, \n",
    "                                class_weight=best_class_weight, \n",
    "                                max_features=best_max_features)\n",
    "dt_clf.fit(*upsample(X_train, y_train, 4, random_state=21))\n",
    "print('Метрики для лучшей модели дерева решений на валидационной выборке:')\n",
    "print(f'F1 = {f1_score(y_valid, dt_clf.predict(X_valid))}, ROC-AUC = {roc_auc_score(y_valid, dt_clf.predict(X_valid))}')"
   ]
  },
  {
   "cell_type": "markdown",
   "metadata": {},
   "source": [
    "Проведены обучения моделей деревьев решений с различными параметрами.\n",
    "\n",
    "Лучшая модель на кросс-валидации: DecisionTreeClassifier(class_weight='balanced', criterion='entropy', max_depth=7, max_features=None)\n",
    "\n",
    "F1 на валидационной выборке для лучшей модели равно 0.5714285714285715\n",
    "\n",
    "ROC-AUC на валидационной выборке для лучшей модели равно 0.7598041863731448"
   ]
  },
  {
   "cell_type": "markdown",
   "metadata": {},
   "source": [
    "#### RandomForestClassifier"
   ]
  },
  {
   "cell_type": "code",
   "execution_count": 94,
   "metadata": {},
   "outputs": [],
   "source": [
    "def get_rf_best_params(X_train, y_train, X_test, y_test, list_max_depth, list_n_estimators):\n",
    "    best_n_estimators = None\n",
    "    best_criterion = None\n",
    "    best_max_depth = None\n",
    "    best_class_weight = None\n",
    "    best_f1 = 0\n",
    "    best_roc_auc = 0\n",
    "    for n_estimators in list_n_estimators:\n",
    "        for criterion in ('gini', 'entropy'):\n",
    "            for max_depth in list_max_depth:\n",
    "                for class_weight in ('balanced', None):\n",
    "                    rf_clf = RandomForestClassifier(random_state=21, \n",
    "                                                    n_estimators=n_estimators,\n",
    "                                                    criterion=criterion, \n",
    "                                                    max_depth=max_depth, \n",
    "                                                    class_weight=class_weight)\n",
    "                    rf_clf.fit(X_train, y_train)\n",
    "                    f1 = f1_score(y_test, rf_clf.predict(X_test))\n",
    "                    roc_auc = roc_auc_score(y_test, rf_clf.predict(X_test))\n",
    "                    if (f1 > best_f1) or ((f1 == best_f1) and (roc_auc > best_roc_auc)):\n",
    "                        best_n_estimators = n_estimators\n",
    "                        best_criterion = criterion\n",
    "                        best_max_depth = max_depth\n",
    "                        best_class_weight = class_weight\n",
    "                        best_f1 = f1\n",
    "                        best_roc_auc = roc_auc\n",
    "    return best_n_estimators, best_criterion, best_max_depth, best_class_weight\n",
    "#функция для подбора параметров в цикле для случайного леса"
   ]
  },
  {
   "cell_type": "code",
   "execution_count": 95,
   "metadata": {},
   "outputs": [],
   "source": [
    "best_params = get_rf_best_params(X_upsampled_train, y_upsampled_train, X_upsampled_valid, y_upsampled_valid, range(1, 10), range(10, 51, 10))"
   ]
  },
  {
   "cell_type": "code",
   "execution_count": 96,
   "metadata": {},
   "outputs": [
    {
     "name": "stdout",
     "output_type": "stream",
     "text": [
      "Best params:\n",
      "n_estimators = 50, criterion = gini, max_depth = 8, class_weight = balanced\n"
     ]
    }
   ],
   "source": [
    "print('Best params:')\n",
    "print('n_estimators = {}, criterion = {}, max_depth = {}, class_weight = {}'.format(*best_params))"
   ]
  },
  {
   "cell_type": "code",
   "execution_count": 97,
   "metadata": {},
   "outputs": [],
   "source": [
    "best_params = get_rf_best_params(X_upsampled_train, y_upsampled_train, X_upsampled_valid, y_upsampled_valid, range(1, 10), range(60, 101, 10))"
   ]
  },
  {
   "cell_type": "code",
   "execution_count": 98,
   "metadata": {},
   "outputs": [
    {
     "name": "stdout",
     "output_type": "stream",
     "text": [
      "Best params:\n",
      "n_estimators = 80, criterion = entropy, max_depth = 7, class_weight = None\n"
     ]
    }
   ],
   "source": [
    "print('Best params:')\n",
    "print('n_estimators = {}, criterion = {}, max_depth = {}, class_weight = {}'.format(*best_params))"
   ]
  },
  {
   "cell_type": "code",
   "execution_count": 99,
   "metadata": {},
   "outputs": [],
   "source": [
    "best_params = get_rf_best_params(X_upsampled_train, y_upsampled_train, X_upsampled_valid, y_upsampled_valid, (7,), range(75, 86))"
   ]
  },
  {
   "cell_type": "code",
   "execution_count": 100,
   "metadata": {},
   "outputs": [
    {
     "name": "stdout",
     "output_type": "stream",
     "text": [
      "Best params:\n",
      "n_estimators = 80, criterion = entropy, max_depth = 7, class_weight = None\n"
     ]
    }
   ],
   "source": [
    "print('Best params:')\n",
    "print('n_estimators = {}, criterion = {}, max_depth = {}, class_weight = {}'.format(*best_params))"
   ]
  },
  {
   "cell_type": "code",
   "execution_count": 101,
   "metadata": {},
   "outputs": [
    {
     "name": "stdout",
     "output_type": "stream",
     "text": [
      "Метрики для лучшей модели случайного леса на валидационной выборке:\n",
      "F1 = 0.6302895322939865, ROC-AUC = 0.7970892468291119\n"
     ]
    }
   ],
   "source": [
    "rf_clf = RandomForestClassifier(random_state=21, \n",
    "                                n_estimators=best_params[0], \n",
    "                                criterion=best_params[1], \n",
    "                                max_depth=best_params[2], \n",
    "                                class_weight=best_params[3])\n",
    "rf_clf.fit(*upsample(X_train, y_train, 4, random_state=21))\n",
    "print('Метрики для лучшей модели случайного леса на валидационной выборке:')\n",
    "print(f'F1 = {f1_score(y_valid, rf_clf.predict(X_valid))}, ROC-AUC = {roc_auc_score(y_valid, rf_clf.predict(X_valid))}')"
   ]
  },
  {
   "cell_type": "markdown",
   "metadata": {},
   "source": [
    "Проведены обучения моделей случайного леса с различными параметрами.\n",
    "\n",
    "Лучшая модель на кросс-валидации: RandomForestClassifier(class_weight=None, criterion='entropy', max_depth=7, n_estimators=80)\n",
    "\n",
    "F1 на валидационной выборке для лучшей модели равно 0.6302895322939865\n",
    "\n",
    "ROC-AUC на валидационной выборке для лучшей модели равно 0.7970892468291119"
   ]
  },
  {
   "cell_type": "markdown",
   "metadata": {},
   "source": [
    "Вывод: \n",
    "\n",
    "для обучающей выборке проведен upsampling, соотношение класса 1 и класса 0 стало примерно 1:1.\n",
    "\n",
    "Проведены обучения моделей логистической регрессии, деревьев решений, случайного леса с различными параметрами, самый лучший результат на валидационной выборке показал случайный лес (F1 = 0.6303, ROC-AUC = 0.7971)"
   ]
  },
  {
   "cell_type": "markdown",
   "metadata": {},
   "source": [
    "### Сравнение моделей, обученых на разных выборках"
   ]
  },
  {
   "cell_type": "markdown",
   "metadata": {},
   "source": [
    "Были проведены обучения на трех выборках первоначальной, downsampled, upsampled. Во всех случаях лучшие показатели ROC-AUC были получены на случайном лесе.\n",
    "\n",
    "Показатели на валидационной выборке следующие:\n",
    "\n",
    "unchanged: F1 = 0.6343, ROC-AUC = 0.7858\n",
    "\n",
    "downsampled: F1 = 0.5985, ROC-AUC = 0.7828\n",
    "\n",
    "upsampled: F1 = 0.6303, ROC-AUC = 0.7971\n",
    "\n",
    "Самая лучшая оценка получена для unchanged.\n",
    "\n",
    "Проанализирую изменения метрик лучшей модели  от порога"
   ]
  },
  {
   "cell_type": "markdown",
   "metadata": {},
   "source": [
    "### Изменение порога"
   ]
  },
  {
   "cell_type": "code",
   "execution_count": 102,
   "metadata": {},
   "outputs": [],
   "source": [
    "y_proba = best_model.predict_proba(X_valid)\n",
    "y_pred = y_proba[:,1] #сохраняю вероятностные предсказания для класса 1\n",
    "fpr, tpr, threshold = roc_curve(y_valid, y_pred) #сохраняю вектора FPR и TPR, построенные по разным значениям порогов\n",
    "roc_auc = auc(fpr, tpr) #площадь под кривой ROC"
   ]
  },
  {
   "cell_type": "code",
   "execution_count": 103,
   "metadata": {
    "scrolled": false
   },
   "outputs": [
    {
     "data": {
      "image/png": "[encoded data removed]",
      "text/plain": [
       "<Figure size 900x900 with 1 Axes>"
      ]
     },
     "metadata": {},
     "output_type": "display_data"
    }
   ],
   "source": [
    "plt.figure(figsize=(9, 9))\n",
    "plt.title('ROC-кривая')\n",
    "plt.plot(fpr, tpr, 'b', label = 'AUC = %0.2f' % roc_auc)\n",
    "plt.legend(loc = 'lower right')\n",
    "plt.plot([0, 1], [0, 1],'r--')\n",
    "plt.xlim([0, 1])\n",
    "plt.ylim([0, 1])\n",
    "plt.ylabel('True Positive Rate')\n",
    "plt.xlabel('False Positive Rate')\n",
    "plt.show()\n",
    "# вывод графика кривой ROC"
   ]
  },
  {
   "cell_type": "markdown",
   "metadata": {},
   "source": [
    "Кривая ROC довольно высоко поднята над линией среднего результата"
   ]
  },
  {
   "cell_type": "code",
   "execution_count": 104,
   "metadata": {},
   "outputs": [
    {
     "name": "stdout",
     "output_type": "stream",
     "text": [
      "Порог = 0.00 | F1 = 0.339, ROC-AUC = 0.500\n",
      "Порог = 0.10 | F1 = 0.376, ROC-AUC = 0.575\n",
      "Порог = 0.20 | F1 = 0.429, ROC-AUC = 0.657\n",
      "Порог = 0.30 | F1 = 0.500, ROC-AUC = 0.732\n",
      "Порог = 0.40 | F1 = 0.595, ROC-AUC = 0.790\n",
      "Порог = 0.50 | F1 = 0.628, ROC-AUC = 0.780\n",
      "Порог = 0.60 | F1 = 0.634, ROC-AUC = 0.758\n",
      "Порог = 0.70 | F1 = 0.577, ROC-AUC = 0.710\n",
      "Порог = 0.80 | F1 = 0.430, ROC-AUC = 0.637\n",
      "Порог = 0.90 | F1 = 0.172, ROC-AUC = 0.547\n",
      "Порог = 1.00 | F1 = 0.000, ROC-AUC = 0.500\n"
     ]
    }
   ],
   "source": [
    "for i in np.arange(0, 1.1, 0.1):\n",
    "    y_pred = y_proba[:,1] >= i\n",
    "    f1 = f1_score(y_valid, y_pred)\n",
    "    roc_auc = roc_auc_score(y_valid, y_pred)\n",
    "\n",
    "    print(\"Порог = {:.2f} | F1 = {:.3f}, ROC-AUC = {:.3f}\".format(i, f1, roc_auc))"
   ]
  },
  {
   "cell_type": "markdown",
   "metadata": {},
   "source": [
    "Максимальное значение F1 и ROC-AUC достигается при пороге 0.5, как и в стандартном случае."
   ]
  },
  {
   "cell_type": "markdown",
   "metadata": {},
   "source": [
    "## Тестирование модели"
   ]
  },
  {
   "cell_type": "code",
   "execution_count": 105,
   "metadata": {},
   "outputs": [
    {
     "data": {
      "text/plain": [
       "GridSearchCV(cv=5, estimator=RandomForestClassifier(n_jobs=-1, random_state=21),\n",
       "             n_jobs=-1,\n",
       "             param_grid={'class_weight': ('balanced', 'balanced_subsample',\n",
       "                                          None),\n",
       "                         'criterion': ('gini', 'entropy', 'log_loss'),\n",
       "                         'max_depth': [8], 'n_estimators': range(35, 46)},\n",
       "             refit='f1', scoring=['f1', 'roc_auc'])"
      ]
     },
     "execution_count": 105,
     "metadata": {},
     "output_type": "execute_result"
    }
   ],
   "source": [
    "best_model.fit(pd.concat([X_train, X_valid]), pd.concat([y_train, y_valid]))"
   ]
  },
  {
   "cell_type": "code",
   "execution_count": 106,
   "metadata": {},
   "outputs": [
    {
     "data": {
      "text/plain": [
       "0.6069295101553166"
      ]
     },
     "execution_count": 106,
     "metadata": {},
     "output_type": "execute_result"
    }
   ],
   "source": [
    "f1_score(y_test, best_model.predict(X_test))"
   ]
  },
  {
   "cell_type": "code",
   "execution_count": 107,
   "metadata": {},
   "outputs": [
    {
     "data": {
      "text/plain": [
       "0.7691136394096887"
      ]
     },
     "execution_count": 107,
     "metadata": {},
     "output_type": "execute_result"
    }
   ],
   "source": [
    "roc_auc_score(y_test, best_model.predict(X_test))"
   ]
  },
  {
   "cell_type": "code",
   "execution_count": 108,
   "metadata": {},
   "outputs": [
    {
     "data": {
      "text/plain": [
       "0.0"
      ]
     },
     "execution_count": 108,
     "metadata": {},
     "output_type": "execute_result"
    }
   ],
   "source": [
    "dummy_clf = DummyClassifier()\n",
    "dummy_clf.fit(pd.concat([X_train, X_valid]), pd.concat([y_train, y_valid]))\n",
    "f1_score(y_test, dummy_clf.predict(X_test))"
   ]
  },
  {
   "cell_type": "code",
   "execution_count": 109,
   "metadata": {},
   "outputs": [
    {
     "data": {
      "text/plain": [
       "0.5"
      ]
     },
     "execution_count": 109,
     "metadata": {},
     "output_type": "execute_result"
    }
   ],
   "source": [
    "roc_auc_score(y_test, dummy_clf.predict(X_test))"
   ]
  },
  {
   "cell_type": "markdown",
   "metadata": {},
   "source": [
    "###### Вывод:\n",
    "\n",
    "Метрика F1 на тестовых данных для лучшей модели составила 0.609\n",
    "\n",
    "Метрика ROC-AUC на тестовых данных для лучшей модели составила 0.747"
   ]
  },
  {
   "cell_type": "markdown",
   "metadata": {},
   "source": [
    "## Общий вывод"
   ]
  },
  {
   "cell_type": "markdown",
   "metadata": {},
   "source": [
    "Была проведена следующая предобработка данных: удалены лишнии столбцы, проверена корректность типов и значений колонок, удалены строки с пустыми значениями, датасет разделен на предсказывающие колонки и таргет, категориальные признаки преобразованы к числовым с помощью One hot encoding, выборка поделена на обучающую, валидационную и тестовую в соотношении 60:20:20 со стратификацией по таргету, числовые данные обучающего, валидационного и тестового датасетов стандартизированы с помощью StandartScaler, обученного на обучающей выборке.\n",
    "\n",
    "Во время исследования был определен дисбаланс классов, ушедших пользователей примерно в 4 раза меньше, чем оставшихся в данной выборке. Были исследованы метрики (F1, ROC-AUC) моделей логистической регрессии, дерева решений, случайного леса, обученных на данных без изменений с различными параметрами с помощью GridSearchCV. Лучшие показатели метрик на валидационной выборке показала модель случайного леса, F1 = 0.6343, ROC-AUC = 0.7858. В лучших моделях присутствовало значение параметра class_weight - 'balanced'. То есть классу 1 придавался больший вес, а классу 0 меньший, в соотношении обратном их частоте появления.\n",
    "\n",
    "Во время борьбы с дисбалансом было опробовано две стратегии: downsampling (Уменьшение выборки), upsampling (Увеличение выборки). Были исследованы метрики (F1, ROC-AUC) моделей логистической регрессии, дерева решений, случайного леса, обученных на уменьшенной и увеличенной выборках с различными параметрами. Лучшие показатели метрик для обеих стратегий на валидационной выборке показала модель случайного леса, (downsampling: F1 = 0.5985, ROC-AUC = 0.7828) и (upsampling: F1 = 0.6303, ROC-AUC = 0.7971). Лучшей моделью стал случайный лес обученный на неизмененной выборке.\n",
    "\n",
    "Было исследовано влияние порога предсказания на метрики F1 и ROC-AUC для лучшей модели на валидационной выборке. Кривая ROC довольно высоко поднята над линией среднего результата, а площадь по кривой (AUC) составила 0.87. Исследованы показатели метрик F1 и ROC-AUC от порога, самые максимальные значения и F1 и ROC-AUC достигаются при пороге 0.5.\n",
    "\n",
    "Лучшая модель обучена на совокупности обучающих и валидационных данных, на тесте получены результаты F1 = 0.6055, у наивного классификатора (0),  ROC-AUC = 0.7684, у наивного классификатора всего 0.5.\n"
   ]
  }
 ],
 "metadata": {
  "ExecuteTimeLog": [
   {
    "duration": 456,
    "start_time": "2022-11-30T12:05:48.214Z"
   },
   {
    "duration": 58,
    "start_time": "2022-11-30T12:06:33.018Z"
   },
   {
    "duration": 154,
    "start_time": "2022-11-30T12:06:35.902Z"
   },
   {
    "duration": 28,
    "start_time": "2022-11-30T12:06:38.277Z"
   },
   {
    "duration": 6,
    "start_time": "2022-11-30T12:07:49.461Z"
   },
   {
    "duration": 5,
    "start_time": "2022-11-30T12:08:38.231Z"
   },
   {
    "duration": 5,
    "start_time": "2022-11-30T12:09:00.175Z"
   },
   {
    "duration": 5,
    "start_time": "2022-11-30T12:20:14.234Z"
   },
   {
    "duration": 19,
    "start_time": "2022-11-30T12:20:32.896Z"
   },
   {
    "duration": 39,
    "start_time": "2022-11-30T12:20:47.121Z"
   },
   {
    "duration": 8,
    "start_time": "2022-11-30T12:23:30.195Z"
   },
   {
    "duration": 24,
    "start_time": "2022-11-30T12:24:44.913Z"
   },
   {
    "duration": 11,
    "start_time": "2022-11-30T12:27:15.138Z"
   },
   {
    "duration": 36,
    "start_time": "2022-11-30T12:27:28.610Z"
   },
   {
    "duration": 15,
    "start_time": "2022-11-30T12:27:31.002Z"
   },
   {
    "duration": 14,
    "start_time": "2022-11-30T12:27:33.794Z"
   },
   {
    "duration": 21,
    "start_time": "2022-11-30T12:27:38.858Z"
   },
   {
    "duration": 15,
    "start_time": "2022-11-30T12:27:46.514Z"
   },
   {
    "duration": 12,
    "start_time": "2022-11-30T12:28:14.258Z"
   },
   {
    "duration": 12,
    "start_time": "2022-11-30T12:28:52.386Z"
   },
   {
    "duration": 13,
    "start_time": "2022-11-30T12:29:41.195Z"
   },
   {
    "duration": 12,
    "start_time": "2022-11-30T12:29:44.562Z"
   },
   {
    "duration": 5,
    "start_time": "2022-11-30T12:31:16.634Z"
   },
   {
    "duration": 7,
    "start_time": "2022-11-30T12:34:45.925Z"
   },
   {
    "duration": 3,
    "start_time": "2022-11-30T12:34:51.597Z"
   },
   {
    "duration": 4,
    "start_time": "2022-11-30T12:35:32.020Z"
   },
   {
    "duration": 2,
    "start_time": "2022-11-30T12:35:37.180Z"
   },
   {
    "duration": 38,
    "start_time": "2022-11-30T12:35:39.132Z"
   },
   {
    "duration": 13,
    "start_time": "2022-11-30T12:35:41.064Z"
   },
   {
    "duration": 4,
    "start_time": "2022-11-30T12:35:43.524Z"
   },
   {
    "duration": 14,
    "start_time": "2022-11-30T12:35:45.645Z"
   },
   {
    "duration": 3,
    "start_time": "2022-11-30T12:35:48.060Z"
   },
   {
    "duration": 15,
    "start_time": "2022-11-30T12:35:56.436Z"
   },
   {
    "duration": 41,
    "start_time": "2022-11-30T12:36:01.580Z"
   },
   {
    "duration": 12,
    "start_time": "2022-11-30T12:36:03.709Z"
   },
   {
    "duration": 4,
    "start_time": "2022-11-30T12:36:06.308Z"
   },
   {
    "duration": 13,
    "start_time": "2022-11-30T12:36:08.757Z"
   },
   {
    "duration": 4,
    "start_time": "2022-11-30T12:36:11.198Z"
   },
   {
    "duration": 12,
    "start_time": "2022-11-30T12:36:14.037Z"
   },
   {
    "duration": 13,
    "start_time": "2022-11-30T12:36:24.556Z"
   },
   {
    "duration": 5,
    "start_time": "2022-11-30T12:36:28.917Z"
   },
   {
    "duration": 35,
    "start_time": "2022-11-30T12:36:32.420Z"
   },
   {
    "duration": 17,
    "start_time": "2022-11-30T12:37:14.828Z"
   },
   {
    "duration": 6,
    "start_time": "2022-11-30T12:43:13.311Z"
   },
   {
    "duration": 7,
    "start_time": "2022-11-30T12:43:36.415Z"
   },
   {
    "duration": 5,
    "start_time": "2022-11-30T12:44:59.239Z"
   },
   {
    "duration": 7,
    "start_time": "2022-11-30T12:45:12.668Z"
   },
   {
    "duration": 47,
    "start_time": "2022-11-30T12:45:48.269Z"
   },
   {
    "duration": 14,
    "start_time": "2022-11-30T12:45:50.510Z"
   },
   {
    "duration": 25,
    "start_time": "2022-11-30T12:46:33.872Z"
   },
   {
    "duration": 24,
    "start_time": "2022-11-30T12:47:16.878Z"
   },
   {
    "duration": 38,
    "start_time": "2022-11-30T12:51:22.760Z"
   },
   {
    "duration": 13,
    "start_time": "2022-11-30T12:51:24.863Z"
   },
   {
    "duration": 5,
    "start_time": "2022-11-30T12:51:27.496Z"
   },
   {
    "duration": 14,
    "start_time": "2022-11-30T12:51:30.216Z"
   },
   {
    "duration": 4,
    "start_time": "2022-11-30T12:51:32.791Z"
   },
   {
    "duration": 13,
    "start_time": "2022-11-30T12:51:35.161Z"
   },
   {
    "duration": 13,
    "start_time": "2022-11-30T12:51:37.567Z"
   },
   {
    "duration": 5,
    "start_time": "2022-11-30T12:51:40.280Z"
   },
   {
    "duration": 33,
    "start_time": "2022-11-30T12:51:42.768Z"
   },
   {
    "duration": 32,
    "start_time": "2022-11-30T12:53:07.273Z"
   },
   {
    "duration": 9,
    "start_time": "2022-11-30T12:53:10.274Z"
   },
   {
    "duration": 8,
    "start_time": "2022-11-30T12:55:41.616Z"
   },
   {
    "duration": 8,
    "start_time": "2022-11-30T12:59:50.427Z"
   },
   {
    "duration": 7,
    "start_time": "2022-11-30T13:00:07.698Z"
   },
   {
    "duration": 6,
    "start_time": "2022-11-30T13:00:25.851Z"
   },
   {
    "duration": 9,
    "start_time": "2022-11-30T13:00:45.780Z"
   },
   {
    "duration": 6,
    "start_time": "2022-11-30T13:00:47.900Z"
   },
   {
    "duration": 33,
    "start_time": "2022-11-30T13:18:49.429Z"
   },
   {
    "duration": 231,
    "start_time": "2022-11-30T13:29:16.798Z"
   },
   {
    "duration": 102,
    "start_time": "2022-11-30T13:29:56.359Z"
   },
   {
    "duration": 85,
    "start_time": "2022-11-30T13:30:17.704Z"
   },
   {
    "duration": 9,
    "start_time": "2022-11-30T13:49:04.066Z"
   },
   {
    "duration": 357,
    "start_time": "2022-12-01T06:48:04.678Z"
   },
   {
    "duration": 1995,
    "start_time": "2022-12-01T06:48:34.643Z"
   },
   {
    "duration": 3,
    "start_time": "2022-12-01T06:49:05.595Z"
   },
   {
    "duration": 184,
    "start_time": "2022-12-01T06:49:07.820Z"
   },
   {
    "duration": 26,
    "start_time": "2022-12-01T06:49:10.314Z"
   },
   {
    "duration": 4,
    "start_time": "2022-12-01T06:49:14.230Z"
   },
   {
    "duration": 12,
    "start_time": "2022-12-01T06:49:17.588Z"
   },
   {
    "duration": 4,
    "start_time": "2022-12-01T06:49:40.635Z"
   },
   {
    "duration": 12,
    "start_time": "2022-12-01T06:49:44.516Z"
   },
   {
    "duration": 12,
    "start_time": "2022-12-01T06:50:16.748Z"
   },
   {
    "duration": 5,
    "start_time": "2022-12-01T06:50:22.219Z"
   },
   {
    "duration": 34,
    "start_time": "2022-12-01T06:50:26.140Z"
   },
   {
    "duration": 2,
    "start_time": "2022-12-01T06:55:40.058Z"
   },
   {
    "duration": 38,
    "start_time": "2022-12-01T06:55:41.859Z"
   },
   {
    "duration": 18,
    "start_time": "2022-12-01T06:55:44.070Z"
   },
   {
    "duration": 4,
    "start_time": "2022-12-01T06:55:45.540Z"
   },
   {
    "duration": 13,
    "start_time": "2022-12-01T06:55:46.942Z"
   },
   {
    "duration": 5,
    "start_time": "2022-12-01T06:55:48.755Z"
   },
   {
    "duration": 21,
    "start_time": "2022-12-01T06:55:50.054Z"
   },
   {
    "duration": 16,
    "start_time": "2022-12-01T06:55:52.268Z"
   },
   {
    "duration": 5,
    "start_time": "2022-12-01T06:55:54.228Z"
   },
   {
    "duration": 47,
    "start_time": "2022-12-01T06:55:55.454Z"
   },
   {
    "duration": 2127,
    "start_time": "2022-12-01T06:56:17.109Z"
   },
   {
    "duration": 6,
    "start_time": "2022-12-01T06:57:48.446Z"
   },
   {
    "duration": 19,
    "start_time": "2022-12-01T06:58:02.277Z"
   },
   {
    "duration": 1678,
    "start_time": "2022-12-01T06:58:42.805Z"
   },
   {
    "duration": 10,
    "start_time": "2022-12-01T07:05:34.423Z"
   },
   {
    "duration": 10,
    "start_time": "2022-12-01T07:05:51.062Z"
   },
   {
    "duration": 10,
    "start_time": "2022-12-01T07:06:22.072Z"
   },
   {
    "duration": 19,
    "start_time": "2022-12-01T07:07:42.127Z"
   },
   {
    "duration": 6,
    "start_time": "2022-12-01T07:07:48.103Z"
   },
   {
    "duration": 8,
    "start_time": "2022-12-01T07:08:11.560Z"
   },
   {
    "duration": 9,
    "start_time": "2022-12-01T07:10:57.626Z"
   },
   {
    "duration": 9,
    "start_time": "2022-12-01T07:11:32.032Z"
   },
   {
    "duration": 11,
    "start_time": "2022-12-01T07:12:43.714Z"
   },
   {
    "duration": 26,
    "start_time": "2022-12-01T07:14:57.633Z"
   },
   {
    "duration": 34,
    "start_time": "2022-12-01T07:19:01.226Z"
   },
   {
    "duration": 3,
    "start_time": "2022-12-01T07:24:12.845Z"
   },
   {
    "duration": 37,
    "start_time": "2022-12-01T07:24:15.235Z"
   },
   {
    "duration": 14,
    "start_time": "2022-12-01T07:24:17.325Z"
   },
   {
    "duration": 4,
    "start_time": "2022-12-01T07:24:22.467Z"
   },
   {
    "duration": 14,
    "start_time": "2022-12-01T07:24:25.578Z"
   },
   {
    "duration": 5,
    "start_time": "2022-12-01T07:24:29.131Z"
   },
   {
    "duration": 13,
    "start_time": "2022-12-01T07:24:36.106Z"
   },
   {
    "duration": 5,
    "start_time": "2022-12-01T07:24:42.746Z"
   },
   {
    "duration": 50,
    "start_time": "2022-12-01T07:24:52.851Z"
   },
   {
    "duration": 10,
    "start_time": "2022-12-01T07:24:57.969Z"
   },
   {
    "duration": 26,
    "start_time": "2022-12-01T07:25:05.104Z"
   },
   {
    "duration": 3,
    "start_time": "2022-12-01T07:27:07.003Z"
   },
   {
    "duration": 42,
    "start_time": "2022-12-01T07:27:46.821Z"
   },
   {
    "duration": 21,
    "start_time": "2022-12-01T07:28:12.187Z"
   },
   {
    "duration": 4,
    "start_time": "2022-12-01T07:29:23.796Z"
   },
   {
    "duration": 19,
    "start_time": "2022-12-01T07:29:27.203Z"
   },
   {
    "duration": 22,
    "start_time": "2022-12-01T07:29:54.197Z"
   },
   {
    "duration": 4,
    "start_time": "2022-12-01T07:29:58.492Z"
   },
   {
    "duration": 25,
    "start_time": "2022-12-01T07:30:03.502Z"
   },
   {
    "duration": 5,
    "start_time": "2022-12-01T07:30:05.981Z"
   },
   {
    "duration": 3,
    "start_time": "2022-12-01T07:30:30.060Z"
   },
   {
    "duration": 37,
    "start_time": "2022-12-01T07:30:32.385Z"
   },
   {
    "duration": 19,
    "start_time": "2022-12-01T07:30:34.299Z"
   },
   {
    "duration": 4,
    "start_time": "2022-12-01T07:30:36.691Z"
   },
   {
    "duration": 14,
    "start_time": "2022-12-01T07:30:38.970Z"
   },
   {
    "duration": 36,
    "start_time": "2022-12-01T07:30:52.356Z"
   },
   {
    "duration": 13,
    "start_time": "2022-12-01T07:30:54.309Z"
   },
   {
    "duration": 4,
    "start_time": "2022-12-01T07:30:56.380Z"
   },
   {
    "duration": 15,
    "start_time": "2022-12-01T07:30:58.724Z"
   },
   {
    "duration": 4,
    "start_time": "2022-12-01T07:31:01.253Z"
   },
   {
    "duration": 12,
    "start_time": "2022-12-01T07:31:03.556Z"
   },
   {
    "duration": 5,
    "start_time": "2022-12-01T07:31:08.740Z"
   },
   {
    "duration": 34,
    "start_time": "2022-12-01T07:31:11.445Z"
   },
   {
    "duration": 10,
    "start_time": "2022-12-01T07:31:14.333Z"
   },
   {
    "duration": 25,
    "start_time": "2022-12-01T07:31:18.789Z"
   },
   {
    "duration": 9,
    "start_time": "2022-12-01T07:35:12.436Z"
   },
   {
    "duration": 4,
    "start_time": "2022-12-01T07:35:47.998Z"
   },
   {
    "duration": 4,
    "start_time": "2022-12-01T07:37:18.709Z"
   },
   {
    "duration": 4,
    "start_time": "2022-12-01T07:37:29.620Z"
   },
   {
    "duration": 8,
    "start_time": "2022-12-01T07:37:55.100Z"
   },
   {
    "duration": 4,
    "start_time": "2022-12-01T07:37:57.173Z"
   },
   {
    "duration": 4,
    "start_time": "2022-12-01T07:38:00.372Z"
   },
   {
    "duration": 11,
    "start_time": "2022-12-01T07:38:11.733Z"
   },
   {
    "duration": 14,
    "start_time": "2022-12-01T07:38:22.285Z"
   },
   {
    "duration": 6,
    "start_time": "2022-12-01T07:40:46.300Z"
   },
   {
    "duration": 7,
    "start_time": "2022-12-01T07:40:56.024Z"
   },
   {
    "duration": 14,
    "start_time": "2022-12-01T07:41:18.870Z"
   },
   {
    "duration": 6,
    "start_time": "2022-12-01T07:41:33.742Z"
   },
   {
    "duration": 8,
    "start_time": "2022-12-01T07:41:37.544Z"
   },
   {
    "duration": 10,
    "start_time": "2022-12-01T07:41:40.231Z"
   },
   {
    "duration": 6,
    "start_time": "2022-12-01T07:42:21.542Z"
   },
   {
    "duration": 2,
    "start_time": "2022-12-01T07:42:46.524Z"
   },
   {
    "duration": 43,
    "start_time": "2022-12-01T07:42:46.528Z"
   },
   {
    "duration": 13,
    "start_time": "2022-12-01T07:42:46.573Z"
   },
   {
    "duration": 7,
    "start_time": "2022-12-01T07:42:46.588Z"
   },
   {
    "duration": 19,
    "start_time": "2022-12-01T07:42:46.598Z"
   },
   {
    "duration": 11,
    "start_time": "2022-12-01T07:42:46.618Z"
   },
   {
    "duration": 17,
    "start_time": "2022-12-01T07:42:46.631Z"
   },
   {
    "duration": 4,
    "start_time": "2022-12-01T07:42:46.649Z"
   },
   {
    "duration": 40,
    "start_time": "2022-12-01T07:42:46.655Z"
   },
   {
    "duration": 10,
    "start_time": "2022-12-01T07:42:46.697Z"
   },
   {
    "duration": 36,
    "start_time": "2022-12-01T07:42:46.709Z"
   },
   {
    "duration": 14,
    "start_time": "2022-12-01T07:42:46.746Z"
   },
   {
    "duration": 5,
    "start_time": "2022-12-01T07:42:46.761Z"
   },
   {
    "duration": 18,
    "start_time": "2022-12-01T07:42:46.768Z"
   },
   {
    "duration": 11,
    "start_time": "2022-12-01T07:42:46.788Z"
   },
   {
    "duration": 11,
    "start_time": "2022-12-01T07:42:46.823Z"
   },
   {
    "duration": 8,
    "start_time": "2022-12-01T07:42:46.836Z"
   },
   {
    "duration": 7,
    "start_time": "2022-12-01T07:42:46.846Z"
   },
   {
    "duration": 3,
    "start_time": "2022-12-01T07:51:04.545Z"
   },
   {
    "duration": 3,
    "start_time": "2022-12-01T07:51:24.972Z"
   },
   {
    "duration": 8,
    "start_time": "2022-12-01T07:51:56.424Z"
   },
   {
    "duration": 24,
    "start_time": "2022-12-01T07:53:28.353Z"
   },
   {
    "duration": 3,
    "start_time": "2022-12-01T07:55:22.185Z"
   },
   {
    "duration": 4,
    "start_time": "2022-12-01T07:55:25.283Z"
   },
   {
    "duration": 8,
    "start_time": "2022-12-01T07:55:37.321Z"
   },
   {
    "duration": 10,
    "start_time": "2022-12-01T07:55:39.257Z"
   },
   {
    "duration": 11,
    "start_time": "2022-12-01T07:55:41.683Z"
   },
   {
    "duration": 6,
    "start_time": "2022-12-01T07:55:43.626Z"
   },
   {
    "duration": 6,
    "start_time": "2022-12-01T07:55:46.025Z"
   },
   {
    "duration": 4,
    "start_time": "2022-12-01T07:55:48.440Z"
   },
   {
    "duration": 9,
    "start_time": "2022-12-01T07:55:50.528Z"
   },
   {
    "duration": 26,
    "start_time": "2022-12-01T07:55:52.937Z"
   },
   {
    "duration": 23,
    "start_time": "2022-12-01T08:00:51.842Z"
   },
   {
    "duration": 2,
    "start_time": "2022-12-01T08:11:47.221Z"
   },
   {
    "duration": 3,
    "start_time": "2022-12-01T08:12:17.021Z"
   },
   {
    "duration": 3,
    "start_time": "2022-12-01T08:12:55.078Z"
   },
   {
    "duration": 3,
    "start_time": "2022-12-01T08:20:39.255Z"
   },
   {
    "duration": 28,
    "start_time": "2022-12-01T08:45:58.927Z"
   },
   {
    "duration": 10107,
    "start_time": "2022-12-01T08:46:22.504Z"
   },
   {
    "duration": 14,
    "start_time": "2022-12-01T08:49:00.225Z"
   },
   {
    "duration": 1268,
    "start_time": "2022-12-01T08:49:46.409Z"
   },
   {
    "duration": 19,
    "start_time": "2022-12-01T09:30:27.775Z"
   },
   {
    "duration": 17,
    "start_time": "2022-12-01T09:30:53.704Z"
   },
   {
    "duration": 6,
    "start_time": "2022-12-01T09:37:00.712Z"
   },
   {
    "duration": 8,
    "start_time": "2022-12-01T09:37:19.680Z"
   },
   {
    "duration": 9,
    "start_time": "2022-12-01T09:39:52.994Z"
   },
   {
    "duration": 7,
    "start_time": "2022-12-01T09:40:05.727Z"
   },
   {
    "duration": 8,
    "start_time": "2022-12-01T09:40:24.595Z"
   },
   {
    "duration": 6,
    "start_time": "2022-12-01T09:40:41.041Z"
   },
   {
    "duration": 3,
    "start_time": "2022-12-01T09:42:48.482Z"
   },
   {
    "duration": 3,
    "start_time": "2022-12-01T09:42:50.776Z"
   },
   {
    "duration": 37,
    "start_time": "2022-12-01T09:42:53.127Z"
   },
   {
    "duration": 13,
    "start_time": "2022-12-01T09:42:55.667Z"
   },
   {
    "duration": 4,
    "start_time": "2022-12-01T09:42:58.094Z"
   },
   {
    "duration": 13,
    "start_time": "2022-12-01T09:43:00.523Z"
   },
   {
    "duration": 4,
    "start_time": "2022-12-01T09:43:03.753Z"
   },
   {
    "duration": 12,
    "start_time": "2022-12-01T09:43:05.658Z"
   },
   {
    "duration": 5,
    "start_time": "2022-12-01T09:43:08.898Z"
   },
   {
    "duration": 8,
    "start_time": "2022-12-01T09:48:27.740Z"
   },
   {
    "duration": 7,
    "start_time": "2022-12-01T09:48:37.195Z"
   },
   {
    "duration": 8,
    "start_time": "2022-12-01T09:48:40.776Z"
   },
   {
    "duration": 15,
    "start_time": "2022-12-01T10:10:20.354Z"
   },
   {
    "duration": 54,
    "start_time": "2022-12-01T10:10:53.511Z"
   },
   {
    "duration": 436,
    "start_time": "2022-12-01T10:11:08.861Z"
   },
   {
    "duration": 352,
    "start_time": "2022-12-01T10:11:13.223Z"
   },
   {
    "duration": 4,
    "start_time": "2022-12-01T10:14:55.576Z"
   },
   {
    "duration": 350,
    "start_time": "2022-12-01T10:16:22.552Z"
   },
   {
    "duration": 499,
    "start_time": "2022-12-01T10:18:05.760Z"
   },
   {
    "duration": 369,
    "start_time": "2022-12-01T10:18:30.057Z"
   },
   {
    "duration": 359,
    "start_time": "2022-12-01T10:18:49.545Z"
   },
   {
    "duration": 394,
    "start_time": "2022-12-01T10:19:11.092Z"
   },
   {
    "duration": 351,
    "start_time": "2022-12-01T10:19:15.745Z"
   },
   {
    "duration": 374,
    "start_time": "2022-12-01T10:20:29.456Z"
   },
   {
    "duration": 408,
    "start_time": "2022-12-01T10:20:37.297Z"
   },
   {
    "duration": 465,
    "start_time": "2022-12-01T10:20:43.721Z"
   },
   {
    "duration": 428,
    "start_time": "2022-12-01T10:20:55.704Z"
   },
   {
    "duration": 382,
    "start_time": "2022-12-01T10:22:12.329Z"
   },
   {
    "duration": 4,
    "start_time": "2022-12-01T10:22:50.865Z"
   },
   {
    "duration": 2,
    "start_time": "2022-12-01T10:22:52.839Z"
   },
   {
    "duration": 37,
    "start_time": "2022-12-01T10:22:55.304Z"
   },
   {
    "duration": 13,
    "start_time": "2022-12-01T10:22:57.344Z"
   },
   {
    "duration": 5,
    "start_time": "2022-12-01T10:22:59.850Z"
   },
   {
    "duration": 14,
    "start_time": "2022-12-01T10:23:02.162Z"
   },
   {
    "duration": 4,
    "start_time": "2022-12-01T10:23:04.602Z"
   },
   {
    "duration": 13,
    "start_time": "2022-12-01T10:23:06.467Z"
   },
   {
    "duration": 5,
    "start_time": "2022-12-01T10:23:09.307Z"
   },
   {
    "duration": 402,
    "start_time": "2022-12-01T10:23:11.676Z"
   },
   {
    "duration": 8,
    "start_time": "2022-12-01T10:23:25.554Z"
   },
   {
    "duration": 9,
    "start_time": "2022-12-01T10:23:29.855Z"
   },
   {
    "duration": 7,
    "start_time": "2022-12-01T10:23:32.677Z"
   },
   {
    "duration": 4,
    "start_time": "2022-12-01T10:28:29.267Z"
   },
   {
    "duration": 5,
    "start_time": "2022-12-01T10:28:34.858Z"
   },
   {
    "duration": 5,
    "start_time": "2022-12-01T10:28:56.708Z"
   },
   {
    "duration": 3,
    "start_time": "2022-12-01T10:29:34.340Z"
   },
   {
    "duration": 4,
    "start_time": "2022-12-01T10:29:46.676Z"
   },
   {
    "duration": 4,
    "start_time": "2022-12-01T10:29:58.387Z"
   },
   {
    "duration": 12,
    "start_time": "2022-12-01T10:39:04.926Z"
   },
   {
    "duration": 4,
    "start_time": "2022-12-01T10:39:11.405Z"
   },
   {
    "duration": 2,
    "start_time": "2022-12-01T10:39:13.428Z"
   },
   {
    "duration": 39,
    "start_time": "2022-12-01T10:39:15.797Z"
   },
   {
    "duration": 14,
    "start_time": "2022-12-01T10:39:17.876Z"
   },
   {
    "duration": 4,
    "start_time": "2022-12-01T10:39:20.925Z"
   },
   {
    "duration": 13,
    "start_time": "2022-12-01T10:39:23.262Z"
   },
   {
    "duration": 4,
    "start_time": "2022-12-01T10:39:26.237Z"
   },
   {
    "duration": 12,
    "start_time": "2022-12-01T10:39:28.725Z"
   },
   {
    "duration": 5,
    "start_time": "2022-12-01T10:39:32.599Z"
   },
   {
    "duration": 390,
    "start_time": "2022-12-01T10:39:35.848Z"
   },
   {
    "duration": 8,
    "start_time": "2022-12-01T10:39:39.900Z"
   },
   {
    "duration": 8,
    "start_time": "2022-12-01T10:39:52.380Z"
   },
   {
    "duration": 7,
    "start_time": "2022-12-01T10:39:55.836Z"
   },
   {
    "duration": 4,
    "start_time": "2022-12-01T10:40:00.237Z"
   },
   {
    "duration": 8,
    "start_time": "2022-12-01T10:40:28.006Z"
   },
   {
    "duration": 35,
    "start_time": "2022-12-01T10:40:31.261Z"
   },
   {
    "duration": 11,
    "start_time": "2022-12-01T10:40:56.646Z"
   },
   {
    "duration": 37,
    "start_time": "2022-12-01T10:41:00.421Z"
   },
   {
    "duration": 9,
    "start_time": "2022-12-01T10:41:05.389Z"
   },
   {
    "duration": 26,
    "start_time": "2022-12-01T10:41:16.702Z"
   },
   {
    "duration": 4,
    "start_time": "2022-12-01T10:41:34.367Z"
   },
   {
    "duration": 13,
    "start_time": "2022-12-01T10:41:34.373Z"
   },
   {
    "duration": 39,
    "start_time": "2022-12-01T10:41:34.388Z"
   },
   {
    "duration": 13,
    "start_time": "2022-12-01T10:41:34.429Z"
   },
   {
    "duration": 7,
    "start_time": "2022-12-01T10:41:34.445Z"
   },
   {
    "duration": 21,
    "start_time": "2022-12-01T10:41:34.454Z"
   },
   {
    "duration": 8,
    "start_time": "2022-12-01T10:41:34.477Z"
   },
   {
    "duration": 16,
    "start_time": "2022-12-01T10:41:34.486Z"
   },
   {
    "duration": 21,
    "start_time": "2022-12-01T10:41:34.504Z"
   },
   {
    "duration": 395,
    "start_time": "2022-12-01T10:41:34.527Z"
   },
   {
    "duration": 8,
    "start_time": "2022-12-01T10:41:34.924Z"
   },
   {
    "duration": 14,
    "start_time": "2022-12-01T10:41:34.933Z"
   },
   {
    "duration": 8,
    "start_time": "2022-12-01T10:41:34.949Z"
   },
   {
    "duration": 5,
    "start_time": "2022-12-01T10:41:34.959Z"
   },
   {
    "duration": 8,
    "start_time": "2022-12-01T10:41:34.965Z"
   },
   {
    "duration": 12,
    "start_time": "2022-12-01T10:41:34.975Z"
   },
   {
    "duration": 65,
    "start_time": "2022-12-01T10:41:34.989Z"
   },
   {
    "duration": 9,
    "start_time": "2022-12-01T10:41:35.055Z"
   },
   {
    "duration": 19,
    "start_time": "2022-12-01T10:41:42.294Z"
   },
   {
    "duration": 14,
    "start_time": "2022-12-01T10:42:10.742Z"
   },
   {
    "duration": 6,
    "start_time": "2022-12-01T10:42:14.718Z"
   },
   {
    "duration": 8,
    "start_time": "2022-12-01T10:42:18.158Z"
   },
   {
    "duration": 11,
    "start_time": "2022-12-01T10:42:22.245Z"
   },
   {
    "duration": 11,
    "start_time": "2022-12-01T10:42:25.135Z"
   },
   {
    "duration": 6,
    "start_time": "2022-12-01T10:42:28.095Z"
   },
   {
    "duration": 6,
    "start_time": "2022-12-01T10:42:31.022Z"
   },
   {
    "duration": 3,
    "start_time": "2022-12-01T10:42:35.461Z"
   },
   {
    "duration": 8,
    "start_time": "2022-12-01T10:42:38.072Z"
   },
   {
    "duration": 24,
    "start_time": "2022-12-01T10:42:41.758Z"
   },
   {
    "duration": 18,
    "start_time": "2022-12-01T10:42:44.696Z"
   },
   {
    "duration": 6409,
    "start_time": "2022-12-01T10:47:22.320Z"
   },
   {
    "duration": 5,
    "start_time": "2022-12-01T10:47:44.911Z"
   },
   {
    "duration": 15,
    "start_time": "2022-12-01T10:47:49.055Z"
   },
   {
    "duration": 4,
    "start_time": "2022-12-01T10:48:46.334Z"
   },
   {
    "duration": 13,
    "start_time": "2022-12-01T10:49:14.616Z"
   },
   {
    "duration": 7487,
    "start_time": "2022-12-01T10:54:01.706Z"
   },
   {
    "duration": 4,
    "start_time": "2022-12-01T10:54:09.576Z"
   },
   {
    "duration": 4,
    "start_time": "2022-12-01T10:55:56.722Z"
   },
   {
    "duration": 4,
    "start_time": "2022-12-01T10:56:42.636Z"
   },
   {
    "duration": 20,
    "start_time": "2022-12-01T10:57:04.571Z"
   },
   {
    "duration": 4,
    "start_time": "2022-12-01T11:00:41.341Z"
   },
   {
    "duration": 4,
    "start_time": "2022-12-01T11:13:28.791Z"
   },
   {
    "duration": 4,
    "start_time": "2022-12-01T11:14:19.887Z"
   },
   {
    "duration": 21,
    "start_time": "2022-12-01T11:15:51.854Z"
   },
   {
    "duration": 13,
    "start_time": "2022-12-01T11:16:12.144Z"
   },
   {
    "duration": 8,
    "start_time": "2022-12-01T11:16:25.495Z"
   },
   {
    "duration": 4,
    "start_time": "2022-12-01T11:17:01.991Z"
   },
   {
    "duration": 4,
    "start_time": "2022-12-01T11:17:23.096Z"
   },
   {
    "duration": 9,
    "start_time": "2022-12-01T11:17:43.728Z"
   },
   {
    "duration": 4,
    "start_time": "2022-12-01T11:19:22.977Z"
   },
   {
    "duration": 67,
    "start_time": "2022-12-01T11:23:06.850Z"
   },
   {
    "duration": 70,
    "start_time": "2022-12-01T11:23:12.256Z"
   },
   {
    "duration": 4,
    "start_time": "2022-12-01T11:23:21.505Z"
   },
   {
    "duration": 10,
    "start_time": "2022-12-01T11:23:28.840Z"
   },
   {
    "duration": 10,
    "start_time": "2022-12-01T11:23:37.867Z"
   },
   {
    "duration": 9,
    "start_time": "2022-12-01T11:28:40.554Z"
   },
   {
    "duration": 56,
    "start_time": "2022-12-01T11:28:49.298Z"
   },
   {
    "duration": 6,
    "start_time": "2022-12-01T11:31:00.133Z"
   },
   {
    "duration": 23,
    "start_time": "2022-12-01T11:31:08.098Z"
   },
   {
    "duration": 23,
    "start_time": "2022-12-01T11:32:03.766Z"
   },
   {
    "duration": 23,
    "start_time": "2022-12-01T11:32:23.627Z"
   },
   {
    "duration": 23,
    "start_time": "2022-12-01T11:32:39.123Z"
   },
   {
    "duration": 19,
    "start_time": "2022-12-01T11:32:54.021Z"
   },
   {
    "duration": 17,
    "start_time": "2022-12-01T11:33:36.899Z"
   },
   {
    "duration": 1465,
    "start_time": "2022-12-01T11:34:46.766Z"
   },
   {
    "duration": 1403,
    "start_time": "2022-12-01T11:34:55.943Z"
   },
   {
    "duration": 161,
    "start_time": "2022-12-01T11:35:01.475Z"
   },
   {
    "duration": 4,
    "start_time": "2022-12-01T11:35:48.125Z"
   },
   {
    "duration": 11,
    "start_time": "2022-12-01T11:35:48.131Z"
   },
   {
    "duration": 39,
    "start_time": "2022-12-01T11:35:48.144Z"
   },
   {
    "duration": 14,
    "start_time": "2022-12-01T11:35:48.186Z"
   },
   {
    "duration": 6,
    "start_time": "2022-12-01T11:35:48.202Z"
   },
   {
    "duration": 22,
    "start_time": "2022-12-01T11:35:48.210Z"
   },
   {
    "duration": 5,
    "start_time": "2022-12-01T11:35:48.234Z"
   },
   {
    "duration": 12,
    "start_time": "2022-12-01T11:35:48.241Z"
   },
   {
    "duration": 5,
    "start_time": "2022-12-01T11:35:48.254Z"
   },
   {
    "duration": 444,
    "start_time": "2022-12-01T11:35:48.262Z"
   },
   {
    "duration": 7,
    "start_time": "2022-12-01T11:35:48.707Z"
   },
   {
    "duration": 8,
    "start_time": "2022-12-01T11:35:48.722Z"
   },
   {
    "duration": 7,
    "start_time": "2022-12-01T11:35:48.732Z"
   },
   {
    "duration": 4,
    "start_time": "2022-12-01T11:35:48.741Z"
   },
   {
    "duration": 9,
    "start_time": "2022-12-01T11:35:48.748Z"
   },
   {
    "duration": 11,
    "start_time": "2022-12-01T11:35:48.760Z"
   },
   {
    "duration": 74,
    "start_time": "2022-12-01T11:35:48.773Z"
   },
   {
    "duration": 10,
    "start_time": "2022-12-01T11:35:48.849Z"
   },
   {
    "duration": 22,
    "start_time": "2022-12-01T11:35:48.860Z"
   },
   {
    "duration": 12,
    "start_time": "2022-12-01T11:35:48.884Z"
   },
   {
    "duration": 28,
    "start_time": "2022-12-01T11:35:48.898Z"
   },
   {
    "duration": 9,
    "start_time": "2022-12-01T11:35:48.928Z"
   },
   {
    "duration": 11,
    "start_time": "2022-12-01T11:35:48.939Z"
   },
   {
    "duration": 15,
    "start_time": "2022-12-01T11:35:48.951Z"
   },
   {
    "duration": 7,
    "start_time": "2022-12-01T11:35:48.968Z"
   },
   {
    "duration": 7,
    "start_time": "2022-12-01T11:35:48.977Z"
   },
   {
    "duration": 36,
    "start_time": "2022-12-01T11:35:48.986Z"
   },
   {
    "duration": 12,
    "start_time": "2022-12-01T11:35:49.026Z"
   },
   {
    "duration": 30,
    "start_time": "2022-12-01T11:35:49.040Z"
   },
   {
    "duration": 20,
    "start_time": "2022-12-01T11:35:49.072Z"
   },
   {
    "duration": 15885,
    "start_time": "2022-12-01T11:50:23.699Z"
   },
   {
    "duration": 5,
    "start_time": "2022-12-01T11:50:49.575Z"
   },
   {
    "duration": 17,
    "start_time": "2022-12-01T11:51:03.269Z"
   },
   {
    "duration": 15,
    "start_time": "2022-12-01T11:53:10.367Z"
   },
   {
    "duration": 14,
    "start_time": "2022-12-01T11:53:23.727Z"
   },
   {
    "duration": 15499,
    "start_time": "2022-12-01T11:53:35.191Z"
   },
   {
    "duration": 19,
    "start_time": "2022-12-01T11:53:56.646Z"
   },
   {
    "duration": 15,
    "start_time": "2022-12-01T11:54:40.791Z"
   },
   {
    "duration": 6,
    "start_time": "2022-12-01T11:55:03.472Z"
   },
   {
    "duration": 5,
    "start_time": "2022-12-01T11:55:17.874Z"
   },
   {
    "duration": 19,
    "start_time": "2022-12-01T12:02:24.512Z"
   },
   {
    "duration": 16,
    "start_time": "2022-12-01T12:02:37.040Z"
   },
   {
    "duration": 16,
    "start_time": "2022-12-01T12:03:03.761Z"
   },
   {
    "duration": 5,
    "start_time": "2022-12-01T12:03:40.209Z"
   },
   {
    "duration": 193796,
    "start_time": "2022-12-01T12:07:38.844Z"
   },
   {
    "duration": 17,
    "start_time": "2022-12-01T12:11:27.506Z"
   },
   {
    "duration": 4,
    "start_time": "2022-12-01T12:11:35.691Z"
   },
   {
    "duration": 4,
    "start_time": "2022-12-01T12:14:24.389Z"
   },
   {
    "duration": 9,
    "start_time": "2022-12-01T12:14:40.491Z"
   },
   {
    "duration": 4,
    "start_time": "2022-12-01T12:15:05.268Z"
   },
   {
    "duration": 3,
    "start_time": "2022-12-01T12:15:12.044Z"
   },
   {
    "duration": 4,
    "start_time": "2022-12-01T12:15:20.972Z"
   },
   {
    "duration": 119180,
    "start_time": "2022-12-01T12:16:14.431Z"
   },
   {
    "duration": 20,
    "start_time": "2022-12-01T12:18:13.613Z"
   },
   {
    "duration": 10,
    "start_time": "2022-12-01T12:18:13.635Z"
   },
   {
    "duration": 33159,
    "start_time": "2022-12-01T12:19:04.779Z"
   },
   {
    "duration": 102,
    "start_time": "2022-12-01T12:19:38.023Z"
   },
   {
    "duration": 20,
    "start_time": "2022-12-01T12:19:38.127Z"
   },
   {
    "duration": 16,
    "start_time": "2022-12-01T12:37:34.939Z"
   },
   {
    "duration": 38900,
    "start_time": "2022-12-01T12:37:48.682Z"
   },
   {
    "duration": 5,
    "start_time": "2022-12-01T12:38:35.459Z"
   },
   {
    "duration": 432679,
    "start_time": "2022-12-01T12:51:17.831Z"
   },
   {
    "duration": 0,
    "start_time": "2022-12-01T12:58:30.512Z"
   },
   {
    "duration": 0,
    "start_time": "2022-12-01T12:58:30.513Z"
   },
   {
    "duration": 146565,
    "start_time": "2022-12-01T12:58:50.480Z"
   },
   {
    "duration": 16,
    "start_time": "2022-12-01T13:01:17.047Z"
   },
   {
    "duration": 4,
    "start_time": "2022-12-01T13:01:17.065Z"
   },
   {
    "duration": 5,
    "start_time": "2022-12-01T13:02:16.371Z"
   },
   {
    "duration": 5,
    "start_time": "2022-12-01T13:02:22.775Z"
   },
   {
    "duration": 4,
    "start_time": "2022-12-01T13:02:33.956Z"
   },
   {
    "duration": 577465,
    "start_time": "2022-12-01T13:07:52.073Z"
   },
   {
    "duration": 0,
    "start_time": "2022-12-01T13:17:29.540Z"
   },
   {
    "duration": 0,
    "start_time": "2022-12-01T13:17:29.542Z"
   },
   {
    "duration": 1735,
    "start_time": "2022-12-01T18:23:10.430Z"
   },
   {
    "duration": 3,
    "start_time": "2022-12-01T18:23:12.168Z"
   },
   {
    "duration": 368,
    "start_time": "2022-12-01T18:23:12.177Z"
   },
   {
    "duration": 16,
    "start_time": "2022-12-01T18:23:12.547Z"
   },
   {
    "duration": 5,
    "start_time": "2022-12-01T18:23:12.565Z"
   },
   {
    "duration": 18,
    "start_time": "2022-12-01T18:23:12.571Z"
   },
   {
    "duration": 17,
    "start_time": "2022-12-01T18:23:12.591Z"
   },
   {
    "duration": 19,
    "start_time": "2022-12-01T18:23:12.610Z"
   },
   {
    "duration": 5,
    "start_time": "2022-12-01T18:23:12.631Z"
   },
   {
    "duration": 477,
    "start_time": "2022-12-01T18:23:12.639Z"
   },
   {
    "duration": 8,
    "start_time": "2022-12-01T18:23:13.117Z"
   },
   {
    "duration": 7,
    "start_time": "2022-12-01T18:23:13.127Z"
   },
   {
    "duration": 10,
    "start_time": "2022-12-01T18:23:13.136Z"
   },
   {
    "duration": 10,
    "start_time": "2022-12-01T18:23:13.148Z"
   },
   {
    "duration": 14,
    "start_time": "2022-12-01T18:23:13.160Z"
   },
   {
    "duration": 10,
    "start_time": "2022-12-01T18:23:13.178Z"
   },
   {
    "duration": 34,
    "start_time": "2022-12-01T18:23:13.190Z"
   },
   {
    "duration": 9,
    "start_time": "2022-12-01T18:23:13.226Z"
   },
   {
    "duration": 43,
    "start_time": "2022-12-01T18:23:13.236Z"
   },
   {
    "duration": 13,
    "start_time": "2022-12-01T18:23:13.281Z"
   },
   {
    "duration": 6,
    "start_time": "2022-12-01T18:23:13.296Z"
   },
   {
    "duration": 10,
    "start_time": "2022-12-01T18:23:13.303Z"
   },
   {
    "duration": 9,
    "start_time": "2022-12-01T18:23:13.315Z"
   },
   {
    "duration": 16,
    "start_time": "2022-12-01T18:23:13.326Z"
   },
   {
    "duration": 36,
    "start_time": "2022-12-01T18:23:13.343Z"
   },
   {
    "duration": 5,
    "start_time": "2022-12-01T18:23:13.381Z"
   },
   {
    "duration": 6,
    "start_time": "2022-12-01T18:23:13.388Z"
   },
   {
    "duration": 12,
    "start_time": "2022-12-01T18:23:13.397Z"
   },
   {
    "duration": 21,
    "start_time": "2022-12-01T18:23:13.411Z"
   },
   {
    "duration": 18,
    "start_time": "2022-12-01T18:23:13.434Z"
   },
   {
    "duration": 48408,
    "start_time": "2022-12-01T18:23:13.478Z"
   },
   {
    "duration": 91,
    "start_time": "2022-12-01T18:24:01.887Z"
   },
   {
    "duration": 68,
    "start_time": "2022-12-01T18:24:01.980Z"
   },
   {
    "duration": 251,
    "start_time": "2022-12-01T18:24:02.049Z"
   },
   {
    "duration": 166583,
    "start_time": "2022-12-01T18:24:02.302Z"
   },
   {
    "duration": 192,
    "start_time": "2022-12-01T18:26:48.887Z"
   },
   {
    "duration": 15,
    "start_time": "2022-12-01T18:26:49.081Z"
   },
   {
    "duration": 308402,
    "start_time": "2022-12-01T18:26:49.098Z"
   },
   {
    "duration": 4,
    "start_time": "2022-12-01T18:31:57.502Z"
   },
   {
    "duration": 18,
    "start_time": "2022-12-01T18:31:57.508Z"
   },
   {
    "duration": 5,
    "start_time": "2022-12-01T18:31:57.528Z"
   },
   {
    "duration": 20251,
    "start_time": "2022-12-01T18:31:57.534Z"
   },
   {
    "duration": 191,
    "start_time": "2022-12-01T18:32:17.788Z"
   },
   {
    "duration": 9,
    "start_time": "2022-12-01T18:32:17.981Z"
   },
   {
    "duration": 63165,
    "start_time": "2022-12-01T18:32:17.992Z"
   },
   {
    "duration": 21,
    "start_time": "2022-12-01T18:33:21.159Z"
   },
   {
    "duration": 4,
    "start_time": "2022-12-01T18:33:21.181Z"
   },
   {
    "duration": 56,
    "start_time": "2022-12-02T05:15:21.525Z"
   },
   {
    "duration": 1668,
    "start_time": "2022-12-02T05:16:11.473Z"
   },
   {
    "duration": 3,
    "start_time": "2022-12-02T05:16:13.143Z"
   },
   {
    "duration": 179,
    "start_time": "2022-12-02T05:16:13.151Z"
   },
   {
    "duration": 18,
    "start_time": "2022-12-02T05:16:13.332Z"
   },
   {
    "duration": 8,
    "start_time": "2022-12-02T05:16:13.352Z"
   },
   {
    "duration": 21,
    "start_time": "2022-12-02T05:16:13.362Z"
   },
   {
    "duration": 14,
    "start_time": "2022-12-02T05:16:13.385Z"
   },
   {
    "duration": 22,
    "start_time": "2022-12-02T05:16:13.401Z"
   },
   {
    "duration": 6,
    "start_time": "2022-12-02T05:16:13.425Z"
   },
   {
    "duration": 477,
    "start_time": "2022-12-02T05:16:13.435Z"
   },
   {
    "duration": 10,
    "start_time": "2022-12-02T05:16:13.914Z"
   },
   {
    "duration": 8,
    "start_time": "2022-12-02T05:16:13.926Z"
   },
   {
    "duration": 7,
    "start_time": "2022-12-02T05:16:13.952Z"
   },
   {
    "duration": 12,
    "start_time": "2022-12-02T05:16:13.961Z"
   },
   {
    "duration": 13,
    "start_time": "2022-12-02T05:16:13.975Z"
   },
   {
    "duration": 15,
    "start_time": "2022-12-02T05:16:13.990Z"
   },
   {
    "duration": 61,
    "start_time": "2022-12-02T05:16:14.006Z"
   },
   {
    "duration": 10,
    "start_time": "2022-12-02T05:16:14.069Z"
   },
   {
    "duration": 27,
    "start_time": "2022-12-02T05:16:14.081Z"
   },
   {
    "duration": 14,
    "start_time": "2022-12-02T05:16:14.111Z"
   },
   {
    "duration": 39,
    "start_time": "2022-12-02T05:16:14.127Z"
   },
   {
    "duration": 13,
    "start_time": "2022-12-02T05:16:14.168Z"
   },
   {
    "duration": 17,
    "start_time": "2022-12-02T05:16:14.183Z"
   },
   {
    "duration": 18,
    "start_time": "2022-12-02T05:16:14.203Z"
   },
   {
    "duration": 10,
    "start_time": "2022-12-02T05:16:14.223Z"
   },
   {
    "duration": 18,
    "start_time": "2022-12-02T05:16:14.234Z"
   },
   {
    "duration": 2,
    "start_time": "2022-12-02T05:16:14.254Z"
   },
   {
    "duration": 11,
    "start_time": "2022-12-02T05:16:14.260Z"
   },
   {
    "duration": 24,
    "start_time": "2022-12-02T05:16:14.273Z"
   },
   {
    "duration": 52,
    "start_time": "2022-12-02T05:16:14.299Z"
   },
   {
    "duration": 55099,
    "start_time": "2022-12-02T05:16:14.353Z"
   },
   {
    "duration": 4,
    "start_time": "2022-12-02T05:17:09.454Z"
   },
   {
    "duration": 21,
    "start_time": "2022-12-02T05:17:09.459Z"
   },
   {
    "duration": 4,
    "start_time": "2022-12-02T05:17:09.482Z"
   },
   {
    "duration": 230966,
    "start_time": "2022-12-02T05:17:09.488Z"
   },
   {
    "duration": 101,
    "start_time": "2022-12-02T05:21:00.457Z"
   },
   {
    "duration": 13,
    "start_time": "2022-12-02T05:21:00.560Z"
   },
   {
    "duration": 331121,
    "start_time": "2022-12-02T05:21:00.574Z"
   },
   {
    "duration": 5,
    "start_time": "2022-12-02T05:26:31.697Z"
   },
   {
    "duration": 66,
    "start_time": "2022-12-02T05:26:31.704Z"
   },
   {
    "duration": 5,
    "start_time": "2022-12-02T05:26:31.772Z"
   },
   {
    "duration": 25380,
    "start_time": "2022-12-02T05:26:31.779Z"
   },
   {
    "duration": 190,
    "start_time": "2022-12-02T05:26:57.162Z"
   },
   {
    "duration": 10,
    "start_time": "2022-12-02T05:26:57.361Z"
   },
   {
    "duration": 82641,
    "start_time": "2022-12-02T05:26:57.373Z"
   },
   {
    "duration": 34,
    "start_time": "2022-12-02T05:28:20.016Z"
   },
   {
    "duration": 26,
    "start_time": "2022-12-02T05:28:20.053Z"
   },
   {
    "duration": 2106285,
    "start_time": "2022-12-02T05:28:20.081Z"
   },
   {
    "duration": 0,
    "start_time": "2022-12-02T06:03:26.368Z"
   },
   {
    "duration": 0,
    "start_time": "2022-12-02T06:03:26.369Z"
   },
   {
    "duration": 78813,
    "start_time": "2022-12-02T06:04:11.196Z"
   },
   {
    "duration": 17,
    "start_time": "2022-12-02T06:05:38.999Z"
   },
   {
    "duration": 4,
    "start_time": "2022-12-02T06:05:51.711Z"
   },
   {
    "duration": 130846,
    "start_time": "2022-12-02T06:07:33.848Z"
   },
   {
    "duration": 232352,
    "start_time": "2022-12-02T06:09:56.417Z"
   },
   {
    "duration": 15,
    "start_time": "2022-12-02T06:13:48.771Z"
   },
   {
    "duration": 4,
    "start_time": "2022-12-02T06:13:48.787Z"
   },
   {
    "duration": 606146,
    "start_time": "2022-12-02T06:14:44.505Z"
   },
   {
    "duration": 22,
    "start_time": "2022-12-02T06:24:50.653Z"
   },
   {
    "duration": 17,
    "start_time": "2022-12-02T06:24:50.677Z"
   },
   {
    "duration": 192236,
    "start_time": "2022-12-02T06:36:22.772Z"
   },
   {
    "duration": 22,
    "start_time": "2022-12-02T06:39:35.011Z"
   },
   {
    "duration": 27,
    "start_time": "2022-12-02T06:39:35.035Z"
   },
   {
    "duration": 100,
    "start_time": "2022-12-02T06:43:17.402Z"
   },
   {
    "duration": 671,
    "start_time": "2022-12-02T06:43:28.642Z"
   },
   {
    "duration": 4,
    "start_time": "2022-12-02T07:03:32.576Z"
   },
   {
    "duration": 9,
    "start_time": "2022-12-02T07:05:10.743Z"
   },
   {
    "duration": 235,
    "start_time": "2022-12-02T07:05:48.997Z"
   },
   {
    "duration": 180,
    "start_time": "2022-12-02T07:05:57.777Z"
   },
   {
    "duration": 166,
    "start_time": "2022-12-02T07:06:14.132Z"
   },
   {
    "duration": 125,
    "start_time": "2022-12-02T07:06:24.302Z"
   },
   {
    "duration": 176,
    "start_time": "2022-12-02T07:07:32.967Z"
   },
   {
    "duration": 6,
    "start_time": "2022-12-02T07:32:15.637Z"
   },
   {
    "duration": 5,
    "start_time": "2022-12-02T07:35:28.242Z"
   },
   {
    "duration": 4,
    "start_time": "2022-12-02T07:35:53.822Z"
   },
   {
    "duration": 7,
    "start_time": "2022-12-02T07:36:22.917Z"
   },
   {
    "duration": 53,
    "start_time": "2022-12-02T07:37:20.666Z"
   },
   {
    "duration": 6,
    "start_time": "2022-12-02T07:37:54.777Z"
   },
   {
    "duration": 16,
    "start_time": "2022-12-02T07:38:07.942Z"
   },
   {
    "duration": 25,
    "start_time": "2022-12-02T07:38:20.465Z"
   },
   {
    "duration": 9,
    "start_time": "2022-12-02T07:38:28.574Z"
   },
   {
    "duration": 4,
    "start_time": "2022-12-02T07:38:48.143Z"
   },
   {
    "duration": 11,
    "start_time": "2022-12-02T07:39:06.548Z"
   },
   {
    "duration": 5687,
    "start_time": "2022-12-02T07:43:26.044Z"
   },
   {
    "duration": 25,
    "start_time": "2022-12-02T07:44:18.093Z"
   },
   {
    "duration": 6,
    "start_time": "2022-12-02T07:45:17.223Z"
   },
   {
    "duration": 314291,
    "start_time": "2022-12-02T07:47:09.700Z"
   },
   {
    "duration": 67,
    "start_time": "2022-12-02T07:52:24.007Z"
   },
   {
    "duration": 52,
    "start_time": "2022-12-02T07:52:24.083Z"
   },
   {
    "duration": 35159,
    "start_time": "2022-12-02T07:53:33.033Z"
   },
   {
    "duration": 23,
    "start_time": "2022-12-02T07:54:08.202Z"
   },
   {
    "duration": 37,
    "start_time": "2022-12-02T07:54:08.227Z"
   },
   {
    "duration": 6190,
    "start_time": "2022-12-02T07:55:36.628Z"
   },
   {
    "duration": 51354,
    "start_time": "2022-12-02T07:55:58.928Z"
   },
   {
    "duration": 113,
    "start_time": "2022-12-02T07:56:50.294Z"
   },
   {
    "duration": 11,
    "start_time": "2022-12-02T07:56:50.415Z"
   },
   {
    "duration": 53062,
    "start_time": "2022-12-02T08:00:25.488Z"
   },
   {
    "duration": 36,
    "start_time": "2022-12-02T08:01:18.558Z"
   },
   {
    "duration": 20,
    "start_time": "2022-12-02T08:01:18.600Z"
   },
   {
    "duration": 1656,
    "start_time": "2022-12-02T08:26:39.719Z"
   },
   {
    "duration": 5,
    "start_time": "2022-12-02T08:26:41.385Z"
   },
   {
    "duration": 224,
    "start_time": "2022-12-02T08:26:41.392Z"
   },
   {
    "duration": 22,
    "start_time": "2022-12-02T08:26:41.618Z"
   },
   {
    "duration": 47,
    "start_time": "2022-12-02T08:26:41.643Z"
   },
   {
    "duration": 28,
    "start_time": "2022-12-02T08:26:41.692Z"
   },
   {
    "duration": 21,
    "start_time": "2022-12-02T08:26:41.722Z"
   },
   {
    "duration": 30,
    "start_time": "2022-12-02T08:26:41.745Z"
   },
   {
    "duration": 20,
    "start_time": "2022-12-02T08:26:41.777Z"
   },
   {
    "duration": 442,
    "start_time": "2022-12-02T08:26:41.799Z"
   },
   {
    "duration": 18,
    "start_time": "2022-12-02T08:26:42.243Z"
   },
   {
    "duration": 40,
    "start_time": "2022-12-02T08:26:42.265Z"
   },
   {
    "duration": 8,
    "start_time": "2022-12-02T08:26:42.307Z"
   },
   {
    "duration": 4,
    "start_time": "2022-12-02T08:26:42.318Z"
   },
   {
    "duration": 12,
    "start_time": "2022-12-02T08:26:42.324Z"
   },
   {
    "duration": 19,
    "start_time": "2022-12-02T08:26:42.338Z"
   },
   {
    "duration": 77,
    "start_time": "2022-12-02T08:26:42.359Z"
   },
   {
    "duration": 10,
    "start_time": "2022-12-02T08:26:42.438Z"
   },
   {
    "duration": 65,
    "start_time": "2022-12-02T08:26:42.453Z"
   },
   {
    "duration": 14,
    "start_time": "2022-12-02T08:26:42.520Z"
   },
   {
    "duration": 7,
    "start_time": "2022-12-02T08:26:42.536Z"
   },
   {
    "duration": 45,
    "start_time": "2022-12-02T08:26:42.545Z"
   },
   {
    "duration": 25,
    "start_time": "2022-12-02T08:26:42.592Z"
   },
   {
    "duration": 17,
    "start_time": "2022-12-02T08:26:42.619Z"
   },
   {
    "duration": 10,
    "start_time": "2022-12-02T08:26:42.637Z"
   },
   {
    "duration": 39,
    "start_time": "2022-12-02T08:26:42.649Z"
   },
   {
    "duration": 14,
    "start_time": "2022-12-02T08:26:42.690Z"
   },
   {
    "duration": 18,
    "start_time": "2022-12-02T08:26:42.706Z"
   },
   {
    "duration": 23,
    "start_time": "2022-12-02T08:26:42.726Z"
   },
   {
    "duration": 40,
    "start_time": "2022-12-02T08:26:42.754Z"
   },
   {
    "duration": 6,
    "start_time": "2022-12-02T08:26:42.796Z"
   },
   {
    "duration": 174,
    "start_time": "2022-12-02T08:26:42.803Z"
   },
   {
    "duration": 49198,
    "start_time": "2022-12-02T08:26:42.979Z"
   },
   {
    "duration": 97,
    "start_time": "2022-12-02T08:27:32.179Z"
   },
   {
    "duration": 26,
    "start_time": "2022-12-02T08:27:32.279Z"
   },
   {
    "duration": 463945,
    "start_time": "2022-12-02T08:27:32.306Z"
   },
   {
    "duration": 104,
    "start_time": "2022-12-02T08:35:16.253Z"
   },
   {
    "duration": 41,
    "start_time": "2022-12-02T08:35:16.363Z"
   },
   {
    "duration": 318322,
    "start_time": "2022-12-02T08:35:16.407Z"
   },
   {
    "duration": 26,
    "start_time": "2022-12-02T08:40:34.732Z"
   },
   {
    "duration": 41,
    "start_time": "2022-12-02T08:40:34.763Z"
   },
   {
    "duration": 64673,
    "start_time": "2022-12-02T08:40:34.806Z"
   },
   {
    "duration": 93,
    "start_time": "2022-12-02T08:41:39.483Z"
   },
   {
    "duration": 156,
    "start_time": "2022-12-02T08:41:39.587Z"
   },
   {
    "duration": 92663,
    "start_time": "2022-12-02T08:41:39.745Z"
   },
   {
    "duration": 26,
    "start_time": "2022-12-02T08:43:12.410Z"
   },
   {
    "duration": 32,
    "start_time": "2022-12-02T08:43:12.438Z"
   },
   {
    "duration": 279771,
    "start_time": "2022-12-02T08:43:12.472Z"
   },
   {
    "duration": 23,
    "start_time": "2022-12-02T08:47:52.245Z"
   },
   {
    "duration": 39,
    "start_time": "2022-12-02T08:47:52.269Z"
   },
   {
    "duration": 716262,
    "start_time": "2022-12-02T08:47:52.310Z"
   },
   {
    "duration": 22,
    "start_time": "2022-12-02T08:59:48.585Z"
   },
   {
    "duration": 12,
    "start_time": "2022-12-02T08:59:48.609Z"
   },
   {
    "duration": 216486,
    "start_time": "2022-12-02T08:59:48.624Z"
   },
   {
    "duration": 17,
    "start_time": "2022-12-02T09:03:25.112Z"
   },
   {
    "duration": 32,
    "start_time": "2022-12-02T09:03:25.131Z"
   },
   {
    "duration": 34,
    "start_time": "2022-12-02T09:03:25.174Z"
   },
   {
    "duration": 10,
    "start_time": "2022-12-02T09:03:25.210Z"
   },
   {
    "duration": 8,
    "start_time": "2022-12-02T09:03:25.222Z"
   },
   {
    "duration": 10,
    "start_time": "2022-12-02T09:03:25.232Z"
   },
   {
    "duration": 21,
    "start_time": "2022-12-02T09:03:25.245Z"
   },
   {
    "duration": 48,
    "start_time": "2022-12-02T09:03:25.269Z"
   },
   {
    "duration": 9,
    "start_time": "2022-12-02T09:03:25.319Z"
   },
   {
    "duration": 8,
    "start_time": "2022-12-02T09:03:25.330Z"
   },
   {
    "duration": 5892,
    "start_time": "2022-12-02T09:03:25.339Z"
   },
   {
    "duration": 44,
    "start_time": "2022-12-02T09:03:31.232Z"
   },
   {
    "duration": 38,
    "start_time": "2022-12-02T09:03:31.282Z"
   },
   {
    "duration": 274350,
    "start_time": "2022-12-02T09:03:31.322Z"
   },
   {
    "duration": 177,
    "start_time": "2022-12-02T09:08:05.679Z"
   },
   {
    "duration": 43,
    "start_time": "2022-12-02T09:08:05.859Z"
   },
   {
    "duration": 39035,
    "start_time": "2022-12-02T09:08:05.903Z"
   },
   {
    "duration": 40,
    "start_time": "2022-12-02T09:08:44.940Z"
   },
   {
    "duration": 9,
    "start_time": "2022-12-02T09:08:44.982Z"
   },
   {
    "duration": 47671,
    "start_time": "2022-12-02T09:08:44.995Z"
   },
   {
    "duration": 107,
    "start_time": "2022-12-02T09:09:32.691Z"
   },
   {
    "duration": 6,
    "start_time": "2022-12-02T09:09:32.801Z"
   },
   {
    "duration": 58192,
    "start_time": "2022-12-02T09:09:32.809Z"
   },
   {
    "duration": 22,
    "start_time": "2022-12-02T09:10:31.003Z"
   },
   {
    "duration": 64,
    "start_time": "2022-12-02T09:10:31.028Z"
   },
   {
    "duration": 188430,
    "start_time": "2022-12-02T09:11:36.949Z"
   },
   {
    "duration": 30,
    "start_time": "2022-12-02T09:14:45.382Z"
   },
   {
    "duration": 9,
    "start_time": "2022-12-02T09:14:45.414Z"
   },
   {
    "duration": 110980,
    "start_time": "2022-12-02T09:23:25.204Z"
   },
   {
    "duration": 28,
    "start_time": "2022-12-02T09:25:16.187Z"
   },
   {
    "duration": 82,
    "start_time": "2022-12-02T09:25:16.218Z"
   },
   {
    "duration": 204,
    "start_time": "2022-12-02T09:27:17.812Z"
   },
   {
    "duration": 201,
    "start_time": "2022-12-02T09:27:25.578Z"
   },
   {
    "duration": 58,
    "start_time": "2022-12-02T09:28:43.967Z"
   },
   {
    "duration": 5,
    "start_time": "2022-12-02T10:16:00.029Z"
   },
   {
    "duration": 32,
    "start_time": "2022-12-02T10:16:00.037Z"
   },
   {
    "duration": 127,
    "start_time": "2022-12-02T10:16:00.071Z"
   },
   {
    "duration": 28,
    "start_time": "2022-12-02T10:16:00.202Z"
   },
   {
    "duration": 69,
    "start_time": "2022-12-02T10:16:00.233Z"
   },
   {
    "duration": 61,
    "start_time": "2022-12-02T10:16:00.304Z"
   },
   {
    "duration": 57,
    "start_time": "2022-12-02T10:16:00.372Z"
   },
   {
    "duration": 35,
    "start_time": "2022-12-02T10:16:00.430Z"
   },
   {
    "duration": 62,
    "start_time": "2022-12-02T10:16:00.472Z"
   },
   {
    "duration": 525,
    "start_time": "2022-12-02T10:16:00.536Z"
   },
   {
    "duration": 15,
    "start_time": "2022-12-02T10:16:01.063Z"
   },
   {
    "duration": 51,
    "start_time": "2022-12-02T10:16:01.079Z"
   },
   {
    "duration": 16,
    "start_time": "2022-12-02T10:16:01.132Z"
   },
   {
    "duration": 70,
    "start_time": "2022-12-02T10:16:01.159Z"
   },
   {
    "duration": 30,
    "start_time": "2022-12-02T10:16:01.231Z"
   },
   {
    "duration": 66,
    "start_time": "2022-12-02T10:16:01.267Z"
   },
   {
    "duration": 88,
    "start_time": "2022-12-02T10:16:01.335Z"
   },
   {
    "duration": 11,
    "start_time": "2022-12-02T10:16:01.425Z"
   },
   {
    "duration": 92,
    "start_time": "2022-12-02T10:16:01.438Z"
   },
   {
    "duration": 41,
    "start_time": "2022-12-02T10:16:01.532Z"
   },
   {
    "duration": 69,
    "start_time": "2022-12-02T10:16:01.580Z"
   },
   {
    "duration": 48,
    "start_time": "2022-12-02T10:16:15.080Z"
   },
   {
    "duration": 20,
    "start_time": "2022-12-02T10:17:29.690Z"
   },
   {
    "duration": 13,
    "start_time": "2022-12-02T10:17:35.536Z"
   },
   {
    "duration": 12,
    "start_time": "2022-12-02T10:17:51.107Z"
   },
   {
    "duration": 19,
    "start_time": "2022-12-02T10:17:53.817Z"
   },
   {
    "duration": 15,
    "start_time": "2022-12-02T10:18:03.249Z"
   },
   {
    "duration": 8,
    "start_time": "2022-12-02T10:18:17.433Z"
   },
   {
    "duration": 8,
    "start_time": "2022-12-02T10:18:20.072Z"
   },
   {
    "duration": 4,
    "start_time": "2022-12-02T10:18:27.791Z"
   },
   {
    "duration": 9,
    "start_time": "2022-12-02T10:18:42.928Z"
   },
   {
    "duration": 29,
    "start_time": "2022-12-02T10:18:46.814Z"
   },
   {
    "duration": 37,
    "start_time": "2022-12-02T10:19:17.685Z"
   },
   {
    "duration": 30,
    "start_time": "2022-12-02T10:19:21.511Z"
   },
   {
    "duration": 13,
    "start_time": "2022-12-02T10:20:40.802Z"
   },
   {
    "duration": 156,
    "start_time": "2022-12-02T10:20:43.010Z"
   },
   {
    "duration": 46857,
    "start_time": "2022-12-02T10:20:53.737Z"
   },
   {
    "duration": 63,
    "start_time": "2022-12-02T10:21:40.618Z"
   },
   {
    "duration": 54,
    "start_time": "2022-12-02T10:21:40.689Z"
   },
   {
    "duration": 366814,
    "start_time": "2022-12-02T10:21:40.749Z"
   },
   {
    "duration": 99,
    "start_time": "2022-12-02T10:27:47.578Z"
   },
   {
    "duration": 41,
    "start_time": "2022-12-02T10:27:47.684Z"
   },
   {
    "duration": 306098,
    "start_time": "2022-12-02T10:27:47.727Z"
   },
   {
    "duration": 23,
    "start_time": "2022-12-02T10:32:53.831Z"
   },
   {
    "duration": 16,
    "start_time": "2022-12-02T10:32:53.860Z"
   },
   {
    "duration": 47396,
    "start_time": "2022-12-02T10:32:53.882Z"
   },
   {
    "duration": 63,
    "start_time": "2022-12-02T10:33:41.351Z"
   },
   {
    "duration": 29,
    "start_time": "2022-12-02T10:33:41.416Z"
   },
   {
    "duration": 78,
    "start_time": "2022-12-02T10:34:12.119Z"
   },
   {
    "duration": 72644,
    "start_time": "2022-12-02T10:36:20.124Z"
   },
   {
    "duration": 21,
    "start_time": "2022-12-02T10:37:32.770Z"
   },
   {
    "duration": 38,
    "start_time": "2022-12-02T10:37:32.792Z"
   },
   {
    "duration": 88,
    "start_time": "2022-12-02T10:40:31.239Z"
   },
   {
    "duration": 239827,
    "start_time": "2022-12-02T10:41:27.416Z"
   },
   {
    "duration": 47,
    "start_time": "2022-12-02T10:45:27.246Z"
   },
   {
    "duration": 24,
    "start_time": "2022-12-02T10:45:27.298Z"
   },
   {
    "duration": 102327,
    "start_time": "2022-12-02T10:48:36.271Z"
   },
   {
    "duration": 21,
    "start_time": "2022-12-02T10:50:18.614Z"
   },
   {
    "duration": 5,
    "start_time": "2022-12-02T10:50:18.638Z"
   },
   {
    "duration": 358,
    "start_time": "2022-12-02T10:51:26.347Z"
   },
   {
    "duration": 365,
    "start_time": "2022-12-02T10:52:13.978Z"
   },
   {
    "duration": 51,
    "start_time": "2022-12-02T10:55:32.524Z"
   },
   {
    "duration": 12,
    "start_time": "2022-12-02T10:56:25.097Z"
   },
   {
    "duration": 13,
    "start_time": "2022-12-02T10:56:31.383Z"
   },
   {
    "duration": 4,
    "start_time": "2022-12-02T10:56:33.740Z"
   },
   {
    "duration": 15,
    "start_time": "2022-12-02T10:56:40.455Z"
   },
   {
    "duration": 17,
    "start_time": "2022-12-02T10:56:48.108Z"
   },
   {
    "duration": 18,
    "start_time": "2022-12-02T10:56:50.887Z"
   },
   {
    "duration": 4,
    "start_time": "2022-12-02T10:56:54.935Z"
   },
   {
    "duration": 8,
    "start_time": "2022-12-02T10:56:59.620Z"
   },
   {
    "duration": 4897,
    "start_time": "2022-12-02T10:57:19.915Z"
   },
   {
    "duration": 17,
    "start_time": "2022-12-02T10:57:24.816Z"
   },
   {
    "duration": 15,
    "start_time": "2022-12-02T10:57:25.394Z"
   },
   {
    "duration": 215233,
    "start_time": "2022-12-02T10:57:42.492Z"
   },
   {
    "duration": 93,
    "start_time": "2022-12-02T11:01:17.734Z"
   },
   {
    "duration": 16,
    "start_time": "2022-12-02T11:01:17.867Z"
   },
   {
    "duration": 38037,
    "start_time": "2022-12-02T11:01:17.889Z"
   },
   {
    "duration": 34,
    "start_time": "2022-12-02T11:01:55.933Z"
   },
   {
    "duration": 58,
    "start_time": "2022-12-02T11:01:55.969Z"
   },
   {
    "duration": 34604,
    "start_time": "2022-12-02T11:01:56.031Z"
   },
   {
    "duration": 58,
    "start_time": "2022-12-02T11:02:30.650Z"
   },
   {
    "duration": 25,
    "start_time": "2022-12-02T11:02:30.743Z"
   },
   {
    "duration": 67,
    "start_time": "2022-12-02T11:04:59.000Z"
   },
   {
    "duration": 58019,
    "start_time": "2022-12-02T11:07:26.540Z"
   },
   {
    "duration": 30,
    "start_time": "2022-12-02T11:08:24.560Z"
   },
   {
    "duration": 88,
    "start_time": "2022-12-02T11:08:24.599Z"
   },
   {
    "duration": 35,
    "start_time": "2022-12-02T11:10:01.429Z"
   },
   {
    "duration": 193704,
    "start_time": "2022-12-02T11:12:16.882Z"
   },
   {
    "duration": 33,
    "start_time": "2022-12-02T11:15:30.588Z"
   },
   {
    "duration": 103,
    "start_time": "2022-12-02T11:15:30.627Z"
   },
   {
    "duration": 479361,
    "start_time": "2022-12-02T11:16:53.316Z"
   },
   {
    "duration": 30,
    "start_time": "2022-12-02T11:24:52.679Z"
   },
   {
    "duration": 7,
    "start_time": "2022-12-02T11:24:52.711Z"
   },
   {
    "duration": 125547,
    "start_time": "2022-12-02T11:26:32.388Z"
   },
   {
    "duration": 29,
    "start_time": "2022-12-02T11:28:37.940Z"
   },
   {
    "duration": 53,
    "start_time": "2022-12-02T11:28:37.980Z"
   },
   {
    "duration": 421,
    "start_time": "2022-12-02T11:30:32.478Z"
   },
   {
    "duration": 6,
    "start_time": "2022-12-02T12:14:31.605Z"
   },
   {
    "duration": 7,
    "start_time": "2022-12-02T12:14:47.363Z"
   },
   {
    "duration": 5,
    "start_time": "2022-12-02T12:14:55.700Z"
   },
   {
    "duration": 8,
    "start_time": "2022-12-02T12:15:04.539Z"
   },
   {
    "duration": 23,
    "start_time": "2022-12-02T12:16:08.070Z"
   },
   {
    "duration": 5,
    "start_time": "2022-12-02T12:16:19.270Z"
   },
   {
    "duration": 17,
    "start_time": "2022-12-02T12:16:31.889Z"
   },
   {
    "duration": 5,
    "start_time": "2022-12-02T12:16:55.838Z"
   },
   {
    "duration": 14,
    "start_time": "2022-12-02T12:17:15.211Z"
   },
   {
    "duration": 65372,
    "start_time": "2022-12-02T12:19:52.751Z"
   },
   {
    "duration": 46,
    "start_time": "2022-12-02T12:20:58.125Z"
   },
   {
    "duration": 16,
    "start_time": "2022-12-02T12:20:58.182Z"
   },
   {
    "duration": 426535,
    "start_time": "2022-12-02T12:21:18.919Z"
   },
   {
    "duration": 115,
    "start_time": "2022-12-02T12:28:25.457Z"
   },
   {
    "duration": 31,
    "start_time": "2022-12-02T12:28:25.574Z"
   },
   {
    "duration": 348739,
    "start_time": "2022-12-02T12:28:25.607Z"
   },
   {
    "duration": 43,
    "start_time": "2022-12-02T12:34:14.348Z"
   },
   {
    "duration": 16,
    "start_time": "2022-12-02T12:34:14.397Z"
   },
   {
    "duration": 59437,
    "start_time": "2022-12-02T12:34:14.416Z"
   },
   {
    "duration": 142,
    "start_time": "2022-12-02T12:35:13.855Z"
   },
   {
    "duration": 13,
    "start_time": "2022-12-02T12:35:13.998Z"
   },
   {
    "duration": 153,
    "start_time": "2022-12-02T12:42:54.328Z"
   },
   {
    "duration": 113488,
    "start_time": "2022-12-02T12:44:38.869Z"
   },
   {
    "duration": 25,
    "start_time": "2022-12-02T12:46:32.360Z"
   },
   {
    "duration": 53,
    "start_time": "2022-12-02T12:46:32.388Z"
   },
   {
    "duration": 108,
    "start_time": "2022-12-02T12:49:48.677Z"
   },
   {
    "duration": 147,
    "start_time": "2022-12-02T12:56:25.943Z"
   },
   {
    "duration": 342544,
    "start_time": "2022-12-02T12:59:51.600Z"
   },
   {
    "duration": 38,
    "start_time": "2022-12-02T13:05:34.147Z"
   },
   {
    "duration": 192,
    "start_time": "2022-12-02T13:05:34.187Z"
   },
   {
    "duration": 156460,
    "start_time": "2022-12-02T13:16:14.468Z"
   },
   {
    "duration": 25,
    "start_time": "2022-12-02T13:18:50.931Z"
   },
   {
    "duration": 159,
    "start_time": "2022-12-02T13:18:50.963Z"
   },
   {
    "duration": 422,
    "start_time": "2022-12-02T13:19:47.408Z"
   },
   {
    "duration": 3,
    "start_time": "2022-12-02T13:39:14.381Z"
   },
   {
    "duration": 610,
    "start_time": "2022-12-02T13:41:33.373Z"
   },
   {
    "duration": 8,
    "start_time": "2022-12-02T13:45:29.108Z"
   },
   {
    "duration": 6,
    "start_time": "2022-12-02T13:49:01.653Z"
   },
   {
    "duration": 38,
    "start_time": "2022-12-02T13:49:13.683Z"
   },
   {
    "duration": 50,
    "start_time": "2022-12-02T13:49:19.349Z"
   },
   {
    "duration": 32,
    "start_time": "2022-12-02T13:50:04.733Z"
   },
   {
    "duration": 185,
    "start_time": "2022-12-02T13:50:08.695Z"
   },
   {
    "duration": 278,
    "start_time": "2022-12-02T13:51:24.311Z"
   },
   {
    "duration": 232,
    "start_time": "2022-12-02T13:51:32.350Z"
   },
   {
    "duration": 205,
    "start_time": "2022-12-02T13:52:39.383Z"
   },
   {
    "duration": 198,
    "start_time": "2022-12-02T13:53:21.680Z"
   },
   {
    "duration": 239,
    "start_time": "2022-12-02T13:53:36.972Z"
   },
   {
    "duration": 25,
    "start_time": "2022-12-02T16:33:50.114Z"
   },
   {
    "duration": 210,
    "start_time": "2022-12-02T16:33:52.187Z"
   },
   {
    "duration": 1554,
    "start_time": "2022-12-02T16:35:26.408Z"
   },
   {
    "duration": 379,
    "start_time": "2022-12-02T16:37:07.165Z"
   },
   {
    "duration": 48,
    "start_time": "2022-12-02T16:37:50.476Z"
   },
   {
    "duration": 380,
    "start_time": "2022-12-02T16:38:10.618Z"
   },
   {
    "duration": 34,
    "start_time": "2022-12-02T16:38:37.604Z"
   },
   {
    "duration": 53,
    "start_time": "2022-12-02T16:41:04.616Z"
   },
   {
    "duration": 5,
    "start_time": "2022-12-02T16:46:53.099Z"
   },
   {
    "duration": 415,
    "start_time": "2022-12-02T16:51:21.537Z"
   },
   {
    "duration": 63,
    "start_time": "2022-12-02T16:52:11.346Z"
   },
   {
    "duration": 28,
    "start_time": "2022-12-02T16:52:22.684Z"
   },
   {
    "duration": 25,
    "start_time": "2022-12-02T16:53:37.515Z"
   },
   {
    "duration": 7,
    "start_time": "2022-12-02T16:54:23.003Z"
   },
   {
    "duration": 7,
    "start_time": "2022-12-02T16:55:09.916Z"
   },
   {
    "duration": 15,
    "start_time": "2022-12-02T16:55:42.174Z"
   },
   {
    "duration": 8,
    "start_time": "2022-12-02T16:56:01.422Z"
   },
   {
    "duration": 399,
    "start_time": "2022-12-02T16:59:35.580Z"
   },
   {
    "duration": 32,
    "start_time": "2022-12-02T16:59:38.234Z"
   },
   {
    "duration": 35,
    "start_time": "2022-12-02T16:59:41.190Z"
   },
   {
    "duration": 16,
    "start_time": "2022-12-02T16:59:43.780Z"
   },
   {
    "duration": 9,
    "start_time": "2022-12-02T16:59:46.311Z"
   },
   {
    "duration": 97,
    "start_time": "2022-12-02T17:08:36.588Z"
   },
   {
    "duration": 412,
    "start_time": "2022-12-02T17:08:52.277Z"
   },
   {
    "duration": 26,
    "start_time": "2022-12-02T17:08:57.370Z"
   },
   {
    "duration": 24,
    "start_time": "2022-12-02T17:09:05.607Z"
   },
   {
    "duration": 10,
    "start_time": "2022-12-02T17:09:08.348Z"
   },
   {
    "duration": 10,
    "start_time": "2022-12-02T17:09:10.297Z"
   },
   {
    "duration": 1758,
    "start_time": "2022-12-02T17:09:53.990Z"
   },
   {
    "duration": 10,
    "start_time": "2022-12-02T17:09:55.751Z"
   },
   {
    "duration": 244,
    "start_time": "2022-12-02T17:09:55.763Z"
   },
   {
    "duration": 19,
    "start_time": "2022-12-02T17:09:56.015Z"
   },
   {
    "duration": 5,
    "start_time": "2022-12-02T17:09:56.039Z"
   },
   {
    "duration": 45,
    "start_time": "2022-12-02T17:09:56.045Z"
   },
   {
    "duration": 11,
    "start_time": "2022-12-02T17:09:56.099Z"
   },
   {
    "duration": 18,
    "start_time": "2022-12-02T17:09:56.112Z"
   },
   {
    "duration": 7,
    "start_time": "2022-12-02T17:09:56.132Z"
   },
   {
    "duration": 498,
    "start_time": "2022-12-02T17:09:56.140Z"
   },
   {
    "duration": 24,
    "start_time": "2022-12-02T17:09:56.640Z"
   },
   {
    "duration": 37,
    "start_time": "2022-12-02T17:09:56.666Z"
   },
   {
    "duration": 23,
    "start_time": "2022-12-02T17:09:56.705Z"
   },
   {
    "duration": 6,
    "start_time": "2022-12-02T17:09:56.732Z"
   },
   {
    "duration": 25,
    "start_time": "2022-12-02T17:09:56.740Z"
   },
   {
    "duration": 45,
    "start_time": "2022-12-02T17:09:56.767Z"
   },
   {
    "duration": 57,
    "start_time": "2022-12-02T17:09:56.814Z"
   },
   {
    "duration": 23,
    "start_time": "2022-12-02T17:09:56.878Z"
   },
   {
    "duration": 23,
    "start_time": "2022-12-02T17:09:56.904Z"
   },
   {
    "duration": 19,
    "start_time": "2022-12-02T17:09:56.930Z"
   },
   {
    "duration": 6,
    "start_time": "2022-12-02T17:09:56.951Z"
   },
   {
    "duration": 14,
    "start_time": "2022-12-02T17:09:56.958Z"
   },
   {
    "duration": 44,
    "start_time": "2022-12-02T17:09:56.974Z"
   },
   {
    "duration": 20,
    "start_time": "2022-12-02T17:09:57.020Z"
   },
   {
    "duration": 39,
    "start_time": "2022-12-02T17:09:57.042Z"
   },
   {
    "duration": 30,
    "start_time": "2022-12-02T17:09:57.083Z"
   },
   {
    "duration": 11,
    "start_time": "2022-12-02T17:09:57.116Z"
   },
   {
    "duration": 8,
    "start_time": "2022-12-02T17:09:57.129Z"
   },
   {
    "duration": 6,
    "start_time": "2022-12-02T17:09:57.139Z"
   },
   {
    "duration": 27,
    "start_time": "2022-12-02T17:09:57.147Z"
   },
   {
    "duration": 55,
    "start_time": "2022-12-02T17:09:57.175Z"
   },
   {
    "duration": 24,
    "start_time": "2022-12-02T17:09:57.232Z"
   },
   {
    "duration": 32,
    "start_time": "2022-12-02T17:09:57.258Z"
   },
   {
    "duration": 17,
    "start_time": "2022-12-02T17:09:57.292Z"
   },
   {
    "duration": 171,
    "start_time": "2022-12-02T17:09:57.312Z"
   },
   {
    "duration": 48267,
    "start_time": "2022-12-02T17:09:57.490Z"
   },
   {
    "duration": 92,
    "start_time": "2022-12-02T17:10:45.765Z"
   },
   {
    "duration": 23,
    "start_time": "2022-12-02T17:10:45.863Z"
   },
   {
    "duration": 395479,
    "start_time": "2022-12-02T17:10:45.892Z"
   },
   {
    "duration": 93,
    "start_time": "2022-12-02T17:17:21.375Z"
   },
   {
    "duration": 14,
    "start_time": "2022-12-02T17:17:21.478Z"
   },
   {
    "duration": 299038,
    "start_time": "2022-12-02T17:17:21.494Z"
   },
   {
    "duration": 39,
    "start_time": "2022-12-02T17:22:20.534Z"
   },
   {
    "duration": 56,
    "start_time": "2022-12-02T17:22:20.579Z"
   },
   {
    "duration": 37040,
    "start_time": "2022-12-02T17:22:20.637Z"
   },
   {
    "duration": 193,
    "start_time": "2022-12-02T17:22:57.684Z"
   },
   {
    "duration": 13,
    "start_time": "2022-12-02T17:22:57.882Z"
   },
   {
    "duration": 262,
    "start_time": "2022-12-02T17:22:57.897Z"
   },
   {
    "duration": 71666,
    "start_time": "2022-12-02T17:22:58.168Z"
   },
   {
    "duration": 32,
    "start_time": "2022-12-02T17:24:09.836Z"
   },
   {
    "duration": 48,
    "start_time": "2022-12-02T17:24:09.872Z"
   },
   {
    "duration": 117,
    "start_time": "2022-12-02T17:24:09.923Z"
   },
   {
    "duration": 243980,
    "start_time": "2022-12-02T17:24:10.043Z"
   },
   {
    "duration": 33,
    "start_time": "2022-12-02T17:28:14.024Z"
   },
   {
    "duration": 12,
    "start_time": "2022-12-02T17:28:14.060Z"
   },
   {
    "duration": 86536,
    "start_time": "2022-12-02T17:28:14.075Z"
   },
   {
    "duration": 25,
    "start_time": "2022-12-02T17:29:40.613Z"
   },
   {
    "duration": 7,
    "start_time": "2022-12-02T17:29:40.657Z"
   },
   {
    "duration": 374,
    "start_time": "2022-12-02T17:29:40.666Z"
   },
   {
    "duration": 6,
    "start_time": "2022-12-02T17:29:41.042Z"
   },
   {
    "duration": 50,
    "start_time": "2022-12-02T17:29:41.051Z"
   },
   {
    "duration": 7,
    "start_time": "2022-12-02T17:29:41.102Z"
   },
   {
    "duration": 13,
    "start_time": "2022-12-02T17:29:41.110Z"
   },
   {
    "duration": 14,
    "start_time": "2022-12-02T17:29:41.125Z"
   },
   {
    "duration": 5,
    "start_time": "2022-12-02T17:29:41.140Z"
   },
   {
    "duration": 51,
    "start_time": "2022-12-02T17:29:41.147Z"
   },
   {
    "duration": 10,
    "start_time": "2022-12-02T17:29:41.200Z"
   },
   {
    "duration": 4901,
    "start_time": "2022-12-02T17:29:41.212Z"
   },
   {
    "duration": 22,
    "start_time": "2022-12-02T17:29:46.116Z"
   },
   {
    "duration": 40,
    "start_time": "2022-12-02T17:29:46.140Z"
   },
   {
    "duration": 117111,
    "start_time": "2022-12-02T17:29:46.182Z"
   },
   {
    "duration": 155,
    "start_time": "2022-12-02T17:31:43.304Z"
   },
   {
    "duration": 37,
    "start_time": "2022-12-02T17:31:43.472Z"
   },
   {
    "duration": 36486,
    "start_time": "2022-12-02T17:31:43.512Z"
   },
   {
    "duration": 29,
    "start_time": "2022-12-02T17:32:20.002Z"
   },
   {
    "duration": 13,
    "start_time": "2022-12-02T17:32:20.032Z"
   },
   {
    "duration": 23035,
    "start_time": "2022-12-02T17:32:20.048Z"
   },
   {
    "duration": 89,
    "start_time": "2022-12-02T17:32:43.092Z"
   },
   {
    "duration": 23,
    "start_time": "2022-12-02T17:32:43.192Z"
   },
   {
    "duration": 69,
    "start_time": "2022-12-02T17:32:43.216Z"
   },
   {
    "duration": 54489,
    "start_time": "2022-12-02T17:32:43.289Z"
   },
   {
    "duration": 32,
    "start_time": "2022-12-02T17:33:37.780Z"
   },
   {
    "duration": 11,
    "start_time": "2022-12-02T17:33:37.814Z"
   },
   {
    "duration": 31,
    "start_time": "2022-12-02T17:33:37.827Z"
   },
   {
    "duration": 160417,
    "start_time": "2022-12-02T17:33:37.860Z"
   },
   {
    "duration": 16,
    "start_time": "2022-12-02T17:36:18.285Z"
   },
   {
    "duration": 5,
    "start_time": "2022-12-02T17:36:18.304Z"
   },
   {
    "duration": 352429,
    "start_time": "2022-12-02T17:36:18.311Z"
   },
   {
    "duration": 36,
    "start_time": "2022-12-02T17:42:10.742Z"
   },
   {
    "duration": 17,
    "start_time": "2022-12-02T17:42:10.780Z"
   },
   {
    "duration": 101707,
    "start_time": "2022-12-02T17:42:10.799Z"
   },
   {
    "duration": 18,
    "start_time": "2022-12-02T17:43:52.507Z"
   },
   {
    "duration": 5,
    "start_time": "2022-12-02T17:43:52.526Z"
   },
   {
    "duration": 324,
    "start_time": "2022-12-02T17:43:52.551Z"
   },
   {
    "duration": 4,
    "start_time": "2022-12-02T17:43:52.877Z"
   },
   {
    "duration": 8,
    "start_time": "2022-12-02T17:43:52.883Z"
   },
   {
    "duration": 12,
    "start_time": "2022-12-02T17:43:52.893Z"
   },
   {
    "duration": 12,
    "start_time": "2022-12-02T17:43:52.907Z"
   },
   {
    "duration": 32,
    "start_time": "2022-12-02T17:43:52.921Z"
   },
   {
    "duration": 11,
    "start_time": "2022-12-02T17:43:52.960Z"
   },
   {
    "duration": 17,
    "start_time": "2022-12-02T17:43:52.974Z"
   },
   {
    "duration": 13,
    "start_time": "2022-12-02T17:43:52.993Z"
   },
   {
    "duration": 55826,
    "start_time": "2022-12-02T17:43:53.008Z"
   },
   {
    "duration": 42,
    "start_time": "2022-12-02T17:44:48.837Z"
   },
   {
    "duration": 5,
    "start_time": "2022-12-02T17:44:48.881Z"
   },
   {
    "duration": 332364,
    "start_time": "2022-12-02T17:44:48.888Z"
   },
   {
    "duration": 104,
    "start_time": "2022-12-02T17:50:21.255Z"
   },
   {
    "duration": 15,
    "start_time": "2022-12-02T17:50:21.364Z"
   },
   {
    "duration": 365519,
    "start_time": "2022-12-02T17:50:21.381Z"
   },
   {
    "duration": 22,
    "start_time": "2022-12-02T17:56:26.902Z"
   },
   {
    "duration": 32,
    "start_time": "2022-12-02T17:56:26.926Z"
   },
   {
    "duration": 53415,
    "start_time": "2022-12-02T17:56:26.961Z"
   },
   {
    "duration": 99,
    "start_time": "2022-12-02T17:57:20.463Z"
   },
   {
    "duration": 19,
    "start_time": "2022-12-02T17:57:20.568Z"
   },
   {
    "duration": 678,
    "start_time": "2022-12-02T17:57:20.589Z"
   },
   {
    "duration": 85324,
    "start_time": "2022-12-02T17:57:21.272Z"
   },
   {
    "duration": 23,
    "start_time": "2022-12-02T17:58:46.597Z"
   },
   {
    "duration": 6,
    "start_time": "2022-12-02T17:58:46.622Z"
   },
   {
    "duration": 97,
    "start_time": "2022-12-02T17:58:46.630Z"
   },
   {
    "duration": 297966,
    "start_time": "2022-12-02T17:58:46.729Z"
   },
   {
    "duration": 18,
    "start_time": "2022-12-02T18:03:44.698Z"
   },
   {
    "duration": 4,
    "start_time": "2022-12-02T18:03:44.723Z"
   },
   {
    "duration": 127847,
    "start_time": "2022-12-02T18:03:44.752Z"
   },
   {
    "duration": 17,
    "start_time": "2022-12-02T18:05:52.602Z"
   },
   {
    "duration": 18,
    "start_time": "2022-12-02T18:05:52.621Z"
   },
   {
    "duration": 382,
    "start_time": "2022-12-02T18:05:52.641Z"
   },
   {
    "duration": 312,
    "start_time": "2022-12-02T18:05:53.025Z"
   },
   {
    "duration": 45,
    "start_time": "2022-12-02T18:05:53.339Z"
   },
   {
    "duration": 206,
    "start_time": "2022-12-02T18:05:53.386Z"
   },
   {
    "duration": 38,
    "start_time": "2022-12-02T18:05:53.594Z"
   },
   {
    "duration": 423,
    "start_time": "2022-12-02T18:05:53.634Z"
   },
   {
    "duration": 35,
    "start_time": "2022-12-02T18:05:54.058Z"
   },
   {
    "duration": 34,
    "start_time": "2022-12-02T18:05:54.096Z"
   },
   {
    "duration": 171,
    "start_time": "2022-12-02T18:05:54.132Z"
   },
   {
    "duration": 0,
    "start_time": "2022-12-02T18:05:54.305Z"
   },
   {
    "duration": 12,
    "start_time": "2022-12-02T18:11:05.022Z"
   },
   {
    "duration": 8,
    "start_time": "2022-12-02T18:11:09.494Z"
   },
   {
    "duration": 1608,
    "start_time": "2022-12-02T18:42:40.642Z"
   },
   {
    "duration": 3,
    "start_time": "2022-12-02T18:42:42.252Z"
   },
   {
    "duration": 94,
    "start_time": "2022-12-02T18:42:42.257Z"
   },
   {
    "duration": 20,
    "start_time": "2022-12-02T18:42:42.353Z"
   },
   {
    "duration": 4,
    "start_time": "2022-12-02T18:42:42.375Z"
   },
   {
    "duration": 15,
    "start_time": "2022-12-02T18:42:42.381Z"
   },
   {
    "duration": 6,
    "start_time": "2022-12-02T18:42:42.398Z"
   },
   {
    "duration": 18,
    "start_time": "2022-12-02T18:42:42.406Z"
   },
   {
    "duration": 5,
    "start_time": "2022-12-02T18:42:42.426Z"
   },
   {
    "duration": 428,
    "start_time": "2022-12-02T18:42:42.433Z"
   },
   {
    "duration": 9,
    "start_time": "2022-12-02T18:42:42.863Z"
   },
   {
    "duration": 7,
    "start_time": "2022-12-02T18:42:42.873Z"
   },
   {
    "duration": 7,
    "start_time": "2022-12-02T18:42:42.881Z"
   },
   {
    "duration": 23,
    "start_time": "2022-12-02T18:42:42.889Z"
   },
   {
    "duration": 8,
    "start_time": "2022-12-02T18:42:42.914Z"
   },
   {
    "duration": 11,
    "start_time": "2022-12-02T18:42:42.924Z"
   },
   {
    "duration": 35,
    "start_time": "2022-12-02T18:42:42.937Z"
   },
   {
    "duration": 9,
    "start_time": "2022-12-02T18:42:42.974Z"
   },
   {
    "duration": 19,
    "start_time": "2022-12-02T18:42:43.013Z"
   },
   {
    "duration": 13,
    "start_time": "2022-12-02T18:42:43.034Z"
   },
   {
    "duration": 6,
    "start_time": "2022-12-02T18:42:43.048Z"
   },
   {
    "duration": 13,
    "start_time": "2022-12-02T18:42:43.055Z"
   },
   {
    "duration": 10,
    "start_time": "2022-12-02T18:42:43.069Z"
   },
   {
    "duration": 40,
    "start_time": "2022-12-02T18:42:43.081Z"
   },
   {
    "duration": 13,
    "start_time": "2022-12-02T18:42:43.123Z"
   },
   {
    "duration": 7,
    "start_time": "2022-12-02T18:42:43.137Z"
   },
   {
    "duration": 17,
    "start_time": "2022-12-02T18:42:43.146Z"
   },
   {
    "duration": 9,
    "start_time": "2022-12-02T18:42:43.167Z"
   },
   {
    "duration": 16,
    "start_time": "2022-12-02T18:42:43.178Z"
   },
   {
    "duration": 17,
    "start_time": "2022-12-02T18:42:43.196Z"
   },
   {
    "duration": 24,
    "start_time": "2022-12-02T18:42:43.215Z"
   },
   {
    "duration": 19,
    "start_time": "2022-12-02T18:42:43.240Z"
   },
   {
    "duration": 20,
    "start_time": "2022-12-02T18:42:43.261Z"
   },
   {
    "duration": 32,
    "start_time": "2022-12-02T18:42:43.282Z"
   },
   {
    "duration": 134,
    "start_time": "2022-12-02T18:42:43.316Z"
   },
   {
    "duration": 48166,
    "start_time": "2022-12-02T18:42:43.451Z"
   },
   {
    "duration": 102,
    "start_time": "2022-12-02T18:43:31.619Z"
   },
   {
    "duration": 15,
    "start_time": "2022-12-02T18:43:31.724Z"
   },
   {
    "duration": 165271,
    "start_time": "2022-12-02T18:43:31.741Z"
   },
   {
    "duration": 105,
    "start_time": "2022-12-02T18:46:17.015Z"
   },
   {
    "duration": 4,
    "start_time": "2022-12-02T18:46:17.123Z"
   },
   {
    "duration": 314311,
    "start_time": "2022-12-02T18:46:17.129Z"
   },
   {
    "duration": 17,
    "start_time": "2022-12-02T18:51:31.442Z"
   },
   {
    "duration": 9,
    "start_time": "2022-12-02T18:51:31.461Z"
   },
   {
    "duration": 22441,
    "start_time": "2022-12-02T18:51:31.472Z"
   },
   {
    "duration": 102,
    "start_time": "2022-12-02T18:51:53.915Z"
   },
   {
    "duration": 6,
    "start_time": "2022-12-02T18:51:54.020Z"
   },
   {
    "duration": 88,
    "start_time": "2022-12-02T18:51:54.027Z"
   },
   {
    "duration": 60743,
    "start_time": "2022-12-02T18:51:54.117Z"
   },
   {
    "duration": 20,
    "start_time": "2022-12-02T18:52:54.862Z"
   },
   {
    "duration": 5,
    "start_time": "2022-12-02T18:52:54.885Z"
   },
   {
    "duration": 37,
    "start_time": "2022-12-02T18:52:54.913Z"
   },
   {
    "duration": 192866,
    "start_time": "2022-12-02T18:52:54.952Z"
   },
   {
    "duration": 20,
    "start_time": "2022-12-02T18:56:07.820Z"
   },
   {
    "duration": 4,
    "start_time": "2022-12-02T18:56:07.842Z"
   },
   {
    "duration": 72228,
    "start_time": "2022-12-02T18:56:07.847Z"
   },
   {
    "duration": 17,
    "start_time": "2022-12-02T18:57:20.077Z"
   },
   {
    "duration": 19,
    "start_time": "2022-12-02T18:57:20.096Z"
   },
   {
    "duration": 280,
    "start_time": "2022-12-02T18:57:20.116Z"
   },
   {
    "duration": 5,
    "start_time": "2022-12-02T18:57:20.397Z"
   },
   {
    "duration": 6,
    "start_time": "2022-12-02T18:57:20.411Z"
   },
   {
    "duration": 6,
    "start_time": "2022-12-02T18:57:20.419Z"
   },
   {
    "duration": 16,
    "start_time": "2022-12-02T18:57:20.427Z"
   },
   {
    "duration": 23,
    "start_time": "2022-12-02T18:57:20.445Z"
   },
   {
    "duration": 5,
    "start_time": "2022-12-02T18:57:20.469Z"
   },
   {
    "duration": 7,
    "start_time": "2022-12-02T18:57:20.476Z"
   },
   {
    "duration": 26,
    "start_time": "2022-12-02T18:57:20.485Z"
   },
   {
    "duration": 3757,
    "start_time": "2022-12-02T18:57:20.514Z"
   },
   {
    "duration": 19,
    "start_time": "2022-12-02T18:57:24.273Z"
   },
   {
    "duration": 20,
    "start_time": "2022-12-02T18:57:24.293Z"
   },
   {
    "duration": 60706,
    "start_time": "2022-12-02T18:57:24.315Z"
   },
   {
    "duration": 100,
    "start_time": "2022-12-02T18:58:25.023Z"
   },
   {
    "duration": 94,
    "start_time": "2022-12-02T18:58:25.125Z"
   },
   {
    "duration": 24915,
    "start_time": "2022-12-02T18:58:25.221Z"
   },
   {
    "duration": 25,
    "start_time": "2022-12-02T18:58:50.139Z"
   },
   {
    "duration": 6,
    "start_time": "2022-12-02T18:58:50.167Z"
   },
   {
    "duration": 9036,
    "start_time": "2022-12-02T18:58:50.175Z"
   },
   {
    "duration": 105,
    "start_time": "2022-12-02T18:58:59.214Z"
   },
   {
    "duration": 5,
    "start_time": "2022-12-02T18:58:59.321Z"
   },
   {
    "duration": 94,
    "start_time": "2022-12-02T18:58:59.328Z"
   },
   {
    "duration": 40661,
    "start_time": "2022-12-02T18:58:59.425Z"
   },
   {
    "duration": 27,
    "start_time": "2022-12-02T18:59:40.092Z"
   },
   {
    "duration": 4,
    "start_time": "2022-12-02T18:59:40.120Z"
   },
   {
    "duration": 20,
    "start_time": "2022-12-02T18:59:40.126Z"
   },
   {
    "duration": 125257,
    "start_time": "2022-12-02T18:59:40.148Z"
   },
   {
    "duration": 18,
    "start_time": "2022-12-02T19:01:45.411Z"
   },
   {
    "duration": 5,
    "start_time": "2022-12-02T19:01:45.431Z"
   },
   {
    "duration": 302461,
    "start_time": "2022-12-02T19:01:45.438Z"
   },
   {
    "duration": 22,
    "start_time": "2022-12-02T19:06:47.900Z"
   },
   {
    "duration": 23,
    "start_time": "2022-12-02T19:06:47.924Z"
   },
   {
    "duration": 87151,
    "start_time": "2022-12-02T19:06:47.949Z"
   },
   {
    "duration": 22,
    "start_time": "2022-12-02T19:08:15.102Z"
   },
   {
    "duration": 5,
    "start_time": "2022-12-02T19:08:15.126Z"
   },
   {
    "duration": 295,
    "start_time": "2022-12-02T19:08:15.133Z"
   },
   {
    "duration": 5,
    "start_time": "2022-12-02T19:08:15.430Z"
   },
   {
    "duration": 7,
    "start_time": "2022-12-02T19:08:15.436Z"
   },
   {
    "duration": 5,
    "start_time": "2022-12-02T19:08:15.444Z"
   },
   {
    "duration": 7,
    "start_time": "2022-12-02T19:08:15.451Z"
   },
   {
    "duration": 13,
    "start_time": "2022-12-02T19:08:15.460Z"
   },
   {
    "duration": 4,
    "start_time": "2022-12-02T19:08:15.475Z"
   },
   {
    "duration": 5,
    "start_time": "2022-12-02T19:08:15.511Z"
   },
   {
    "duration": 10,
    "start_time": "2022-12-02T19:08:15.518Z"
   },
   {
    "duration": 54812,
    "start_time": "2022-12-02T19:08:15.530Z"
   },
   {
    "duration": 16,
    "start_time": "2022-12-02T19:09:10.344Z"
   },
   {
    "duration": 11,
    "start_time": "2022-12-02T19:09:10.362Z"
   },
   {
    "duration": 202145,
    "start_time": "2022-12-02T19:09:10.375Z"
   },
   {
    "duration": 105,
    "start_time": "2022-12-02T19:12:32.612Z"
   },
   {
    "duration": 4,
    "start_time": "2022-12-02T19:12:32.719Z"
   },
   {
    "duration": 311423,
    "start_time": "2022-12-02T19:12:32.725Z"
   },
   {
    "duration": 17,
    "start_time": "2022-12-02T19:17:44.150Z"
   },
   {
    "duration": 4,
    "start_time": "2022-12-02T19:17:44.169Z"
   },
   {
    "duration": 25843,
    "start_time": "2022-12-02T19:17:44.175Z"
   },
   {
    "duration": 100,
    "start_time": "2022-12-02T19:18:10.022Z"
   },
   {
    "duration": 7,
    "start_time": "2022-12-02T19:18:10.124Z"
   },
   {
    "duration": 283,
    "start_time": "2022-12-02T19:18:10.132Z"
   },
   {
    "duration": 70773,
    "start_time": "2022-12-02T19:18:10.417Z"
   },
   {
    "duration": 23,
    "start_time": "2022-12-02T19:19:21.192Z"
   },
   {
    "duration": 4,
    "start_time": "2022-12-02T19:19:21.217Z"
   },
   {
    "duration": 53,
    "start_time": "2022-12-02T19:19:21.223Z"
   },
   {
    "duration": 234697,
    "start_time": "2022-12-02T19:19:21.278Z"
   },
   {
    "duration": 15,
    "start_time": "2022-12-02T19:23:15.977Z"
   },
   {
    "duration": 4,
    "start_time": "2022-12-02T19:23:15.994Z"
   },
   {
    "duration": 99314,
    "start_time": "2022-12-02T19:23:16.012Z"
   },
   {
    "duration": 16,
    "start_time": "2022-12-02T19:24:55.328Z"
   },
   {
    "duration": 16,
    "start_time": "2022-12-02T19:24:55.346Z"
   },
   {
    "duration": 289,
    "start_time": "2022-12-02T19:24:55.364Z"
   },
   {
    "duration": 249,
    "start_time": "2022-12-02T19:24:55.655Z"
   },
   {
    "duration": 22,
    "start_time": "2022-12-02T19:24:55.906Z"
   },
   {
    "duration": 167,
    "start_time": "2022-12-02T19:24:55.929Z"
   },
   {
    "duration": 38,
    "start_time": "2022-12-02T19:24:56.098Z"
   },
   {
    "duration": 330,
    "start_time": "2022-12-02T19:24:56.137Z"
   },
   {
    "duration": 23,
    "start_time": "2022-12-02T19:24:56.469Z"
   },
   {
    "duration": 33,
    "start_time": "2022-12-02T19:24:56.494Z"
   },
   {
    "duration": 12,
    "start_time": "2022-12-02T19:24:56.529Z"
   },
   {
    "duration": 7,
    "start_time": "2022-12-02T19:24:56.543Z"
   },
   {
    "duration": 787,
    "start_time": "2022-12-03T12:15:29.719Z"
   },
   {
    "duration": 3,
    "start_time": "2022-12-03T12:15:30.508Z"
   },
   {
    "duration": 199,
    "start_time": "2022-12-03T12:15:30.512Z"
   },
   {
    "duration": 17,
    "start_time": "2022-12-03T12:15:30.713Z"
   },
   {
    "duration": 44,
    "start_time": "2022-12-03T12:15:30.733Z"
   },
   {
    "duration": 46,
    "start_time": "2022-12-03T12:15:30.779Z"
   },
   {
    "duration": 27,
    "start_time": "2022-12-03T12:15:30.827Z"
   },
   {
    "duration": 42,
    "start_time": "2022-12-03T12:15:30.855Z"
   },
   {
    "duration": 26,
    "start_time": "2022-12-03T12:15:30.899Z"
   },
   {
    "duration": 510,
    "start_time": "2022-12-03T12:15:30.927Z"
   },
   {
    "duration": 9,
    "start_time": "2022-12-03T12:15:31.438Z"
   },
   {
    "duration": 35,
    "start_time": "2022-12-03T12:15:31.449Z"
   },
   {
    "duration": 20,
    "start_time": "2022-12-03T12:15:31.486Z"
   },
   {
    "duration": 22,
    "start_time": "2022-12-03T12:15:31.508Z"
   },
   {
    "duration": 40,
    "start_time": "2022-12-03T12:15:31.532Z"
   },
   {
    "duration": 23,
    "start_time": "2022-12-03T12:15:31.574Z"
   },
   {
    "duration": 61,
    "start_time": "2022-12-03T12:15:31.599Z"
   },
   {
    "duration": 10,
    "start_time": "2022-12-03T12:15:31.662Z"
   },
   {
    "duration": 20,
    "start_time": "2022-12-03T12:15:44.618Z"
   },
   {
    "duration": 7,
    "start_time": "2022-12-03T12:21:29.883Z"
   },
   {
    "duration": 8,
    "start_time": "2022-12-03T12:22:10.062Z"
   },
   {
    "duration": 104,
    "start_time": "2022-12-03T12:22:53.538Z"
   },
   {
    "duration": 7,
    "start_time": "2022-12-03T12:23:24.020Z"
   },
   {
    "duration": 13,
    "start_time": "2022-12-03T12:23:26.227Z"
   },
   {
    "duration": 7,
    "start_time": "2022-12-03T12:24:00.864Z"
   },
   {
    "duration": 13,
    "start_time": "2022-12-03T12:24:03.179Z"
   },
   {
    "duration": 4,
    "start_time": "2022-12-03T12:24:20.555Z"
   },
   {
    "duration": 10,
    "start_time": "2022-12-03T12:24:53.876Z"
   },
   {
    "duration": 9,
    "start_time": "2022-12-03T12:25:23.500Z"
   },
   {
    "duration": 9,
    "start_time": "2022-12-03T12:25:58.891Z"
   },
   {
    "duration": 6,
    "start_time": "2022-12-03T12:27:06.088Z"
   },
   {
    "duration": 10,
    "start_time": "2022-12-03T12:27:08.764Z"
   },
   {
    "duration": 10,
    "start_time": "2022-12-03T12:27:12.973Z"
   },
   {
    "duration": 4,
    "start_time": "2022-12-03T12:27:38.053Z"
   },
   {
    "duration": 11,
    "start_time": "2022-12-03T12:31:54.437Z"
   },
   {
    "duration": 4,
    "start_time": "2022-12-03T12:32:02.230Z"
   },
   {
    "duration": 6,
    "start_time": "2022-12-03T12:32:20.374Z"
   },
   {
    "duration": 19,
    "start_time": "2022-12-03T12:32:48.877Z"
   },
   {
    "duration": 31,
    "start_time": "2022-12-03T12:34:08.102Z"
   },
   {
    "duration": 5,
    "start_time": "2022-12-03T12:35:32.666Z"
   },
   {
    "duration": 10,
    "start_time": "2022-12-03T12:35:32.672Z"
   },
   {
    "duration": 41,
    "start_time": "2022-12-03T12:35:32.684Z"
   },
   {
    "duration": 14,
    "start_time": "2022-12-03T12:35:32.726Z"
   },
   {
    "duration": 9,
    "start_time": "2022-12-03T12:35:32.742Z"
   },
   {
    "duration": 19,
    "start_time": "2022-12-03T12:35:32.752Z"
   },
   {
    "duration": 10,
    "start_time": "2022-12-03T12:35:32.773Z"
   },
   {
    "duration": 15,
    "start_time": "2022-12-03T12:35:32.785Z"
   },
   {
    "duration": 7,
    "start_time": "2022-12-03T12:35:32.803Z"
   },
   {
    "duration": 437,
    "start_time": "2022-12-03T12:35:32.812Z"
   },
   {
    "duration": 7,
    "start_time": "2022-12-03T12:35:33.251Z"
   },
   {
    "duration": 20,
    "start_time": "2022-12-03T12:35:33.260Z"
   },
   {
    "duration": 6,
    "start_time": "2022-12-03T12:35:33.282Z"
   },
   {
    "duration": 5,
    "start_time": "2022-12-03T12:35:33.290Z"
   },
   {
    "duration": 15,
    "start_time": "2022-12-03T12:35:33.297Z"
   },
   {
    "duration": 13,
    "start_time": "2022-12-03T12:35:33.313Z"
   },
   {
    "duration": 62,
    "start_time": "2022-12-03T12:35:33.328Z"
   },
   {
    "duration": 10,
    "start_time": "2022-12-03T12:35:33.392Z"
   },
   {
    "duration": 16,
    "start_time": "2022-12-03T12:35:33.403Z"
   },
   {
    "duration": 23,
    "start_time": "2022-12-03T12:45:14.137Z"
   },
   {
    "duration": 15,
    "start_time": "2022-12-03T12:46:47.431Z"
   },
   {
    "duration": 4,
    "start_time": "2022-12-03T12:47:46.430Z"
   },
   {
    "duration": 31,
    "start_time": "2022-12-03T13:02:48.787Z"
   },
   {
    "duration": 17,
    "start_time": "2022-12-03T13:03:40.754Z"
   },
   {
    "duration": 17,
    "start_time": "2022-12-03T13:04:00.763Z"
   },
   {
    "duration": 24,
    "start_time": "2022-12-03T13:04:17.460Z"
   },
   {
    "duration": 4,
    "start_time": "2022-12-03T13:05:54.696Z"
   },
   {
    "duration": 9,
    "start_time": "2022-12-03T13:05:54.702Z"
   },
   {
    "duration": 39,
    "start_time": "2022-12-03T13:05:54.712Z"
   },
   {
    "duration": 13,
    "start_time": "2022-12-03T13:05:54.752Z"
   },
   {
    "duration": 6,
    "start_time": "2022-12-03T13:05:54.767Z"
   },
   {
    "duration": 13,
    "start_time": "2022-12-03T13:05:54.774Z"
   },
   {
    "duration": 7,
    "start_time": "2022-12-03T13:05:54.789Z"
   },
   {
    "duration": 16,
    "start_time": "2022-12-03T13:05:54.797Z"
   },
   {
    "duration": 4,
    "start_time": "2022-12-03T13:05:54.815Z"
   },
   {
    "duration": 434,
    "start_time": "2022-12-03T13:05:54.821Z"
   },
   {
    "duration": 7,
    "start_time": "2022-12-03T13:05:55.257Z"
   },
   {
    "duration": 13,
    "start_time": "2022-12-03T13:05:55.266Z"
   },
   {
    "duration": 6,
    "start_time": "2022-12-03T13:05:55.281Z"
   },
   {
    "duration": 6,
    "start_time": "2022-12-03T13:05:55.289Z"
   },
   {
    "duration": 13,
    "start_time": "2022-12-03T13:05:55.296Z"
   },
   {
    "duration": 11,
    "start_time": "2022-12-03T13:05:55.311Z"
   },
   {
    "duration": 66,
    "start_time": "2022-12-03T13:05:55.324Z"
   },
   {
    "duration": 9,
    "start_time": "2022-12-03T13:05:55.391Z"
   },
   {
    "duration": 9,
    "start_time": "2022-12-03T13:05:55.402Z"
   },
   {
    "duration": 10,
    "start_time": "2022-12-03T13:05:55.412Z"
   },
   {
    "duration": 22,
    "start_time": "2022-12-03T13:05:55.424Z"
   },
   {
    "duration": 74,
    "start_time": "2022-12-03T13:06:49.460Z"
   },
   {
    "duration": 23,
    "start_time": "2022-12-03T13:10:19.651Z"
   },
   {
    "duration": 7,
    "start_time": "2022-12-03T13:10:23.595Z"
   },
   {
    "duration": 11,
    "start_time": "2022-12-03T13:10:28.898Z"
   },
   {
    "duration": 13,
    "start_time": "2022-12-03T13:10:31.949Z"
   },
   {
    "duration": 13,
    "start_time": "2022-12-03T13:10:34.892Z"
   },
   {
    "duration": 12,
    "start_time": "2022-12-03T13:10:41.188Z"
   },
   {
    "duration": 6,
    "start_time": "2022-12-03T13:10:43.356Z"
   },
   {
    "duration": 7,
    "start_time": "2022-12-03T13:10:44.563Z"
   },
   {
    "duration": 5,
    "start_time": "2022-12-03T13:10:46.270Z"
   },
   {
    "duration": 3,
    "start_time": "2022-12-03T13:10:47.908Z"
   },
   {
    "duration": 8,
    "start_time": "2022-12-03T13:10:49.516Z"
   },
   {
    "duration": 22,
    "start_time": "2022-12-03T13:10:51.780Z"
   },
   {
    "duration": 25,
    "start_time": "2022-12-03T13:10:53.716Z"
   },
   {
    "duration": 19,
    "start_time": "2022-12-03T13:10:56.438Z"
   },
   {
    "duration": 6,
    "start_time": "2022-12-03T13:11:03.619Z"
   },
   {
    "duration": 123,
    "start_time": "2022-12-03T13:11:04.949Z"
   },
   {
    "duration": 18,
    "start_time": "2022-12-03T13:26:14.195Z"
   },
   {
    "duration": 5,
    "start_time": "2022-12-03T13:26:20.201Z"
   },
   {
    "duration": 9045,
    "start_time": "2022-12-03T13:38:37.891Z"
   },
   {
    "duration": 50,
    "start_time": "2022-12-03T13:39:22.020Z"
   },
   {
    "duration": 4,
    "start_time": "2022-12-03T13:39:35.165Z"
   },
   {
    "duration": 3,
    "start_time": "2022-12-03T13:44:04.621Z"
   },
   {
    "duration": 14,
    "start_time": "2022-12-03T13:44:04.626Z"
   },
   {
    "duration": 36,
    "start_time": "2022-12-03T13:44:04.664Z"
   },
   {
    "duration": 12,
    "start_time": "2022-12-03T13:44:04.702Z"
   },
   {
    "duration": 7,
    "start_time": "2022-12-03T13:44:04.716Z"
   },
   {
    "duration": 14,
    "start_time": "2022-12-03T13:44:04.725Z"
   },
   {
    "duration": 7,
    "start_time": "2022-12-03T13:44:04.741Z"
   },
   {
    "duration": 14,
    "start_time": "2022-12-03T13:44:04.750Z"
   },
   {
    "duration": 4,
    "start_time": "2022-12-03T13:44:04.779Z"
   },
   {
    "duration": 422,
    "start_time": "2022-12-03T13:44:04.784Z"
   },
   {
    "duration": 9,
    "start_time": "2022-12-03T13:44:05.208Z"
   },
   {
    "duration": 11,
    "start_time": "2022-12-03T13:44:05.218Z"
   },
   {
    "duration": 6,
    "start_time": "2022-12-03T13:44:05.231Z"
   },
   {
    "duration": 14,
    "start_time": "2022-12-03T13:44:05.239Z"
   },
   {
    "duration": 37,
    "start_time": "2022-12-03T13:44:05.255Z"
   },
   {
    "duration": 35,
    "start_time": "2022-12-03T13:44:05.295Z"
   },
   {
    "duration": 67,
    "start_time": "2022-12-03T13:44:05.332Z"
   },
   {
    "duration": 9,
    "start_time": "2022-12-03T13:44:05.401Z"
   },
   {
    "duration": 41,
    "start_time": "2022-12-03T13:44:05.412Z"
   },
   {
    "duration": 42,
    "start_time": "2022-12-03T13:44:05.455Z"
   },
   {
    "duration": 52,
    "start_time": "2022-12-03T13:44:05.498Z"
   },
   {
    "duration": 17,
    "start_time": "2022-12-03T13:44:05.551Z"
   },
   {
    "duration": 14,
    "start_time": "2022-12-03T13:44:05.569Z"
   },
   {
    "duration": 54,
    "start_time": "2022-12-03T13:44:05.584Z"
   },
   {
    "duration": 38,
    "start_time": "2022-12-03T13:44:05.639Z"
   },
   {
    "duration": 44,
    "start_time": "2022-12-03T13:44:05.679Z"
   },
   {
    "duration": 30,
    "start_time": "2022-12-03T13:44:05.726Z"
   },
   {
    "duration": 42,
    "start_time": "2022-12-03T13:44:05.758Z"
   },
   {
    "duration": 26,
    "start_time": "2022-12-03T13:44:05.801Z"
   },
   {
    "duration": 27,
    "start_time": "2022-12-03T13:44:05.829Z"
   },
   {
    "duration": 32,
    "start_time": "2022-12-03T13:44:05.858Z"
   },
   {
    "duration": 38,
    "start_time": "2022-12-03T13:44:05.892Z"
   },
   {
    "duration": 59,
    "start_time": "2022-12-03T13:44:05.932Z"
   },
   {
    "duration": 38,
    "start_time": "2022-12-03T13:44:05.993Z"
   },
   {
    "duration": 28,
    "start_time": "2022-12-03T13:44:06.033Z"
   },
   {
    "duration": 25,
    "start_time": "2022-12-03T13:44:06.062Z"
   },
   {
    "duration": 154,
    "start_time": "2022-12-03T13:44:06.088Z"
   },
   {
    "duration": 79,
    "start_time": "2022-12-03T13:45:21.174Z"
   },
   {
    "duration": 119250,
    "start_time": "2022-12-03T13:45:28.335Z"
   },
   {
    "duration": 113702,
    "start_time": "2022-12-03T13:49:28.712Z"
   },
   {
    "duration": 608939,
    "start_time": "2022-12-03T13:51:24.840Z"
   },
   {
    "duration": 367410,
    "start_time": "2022-12-03T14:01:49.788Z"
   },
   {
    "duration": 4,
    "start_time": "2022-12-03T14:13:31.275Z"
   },
   {
    "duration": 17,
    "start_time": "2022-12-03T14:14:38.656Z"
   },
   {
    "duration": 5,
    "start_time": "2022-12-03T14:14:47.636Z"
   },
   {
    "duration": 50,
    "start_time": "2022-12-03T14:19:02.236Z"
   },
   {
    "duration": 54812,
    "start_time": "2022-12-03T14:23:58.135Z"
   },
   {
    "duration": 18,
    "start_time": "2022-12-03T14:24:52.949Z"
   },
   {
    "duration": 8,
    "start_time": "2022-12-03T14:24:52.978Z"
   },
   {
    "duration": 27,
    "start_time": "2022-12-03T14:25:36.152Z"
   },
   {
    "duration": 170115,
    "start_time": "2022-12-03T14:27:34.205Z"
   },
   {
    "duration": 15,
    "start_time": "2022-12-03T14:30:24.322Z"
   },
   {
    "duration": 5,
    "start_time": "2022-12-03T14:30:24.338Z"
   },
   {
    "duration": 68389,
    "start_time": "2022-12-03T14:34:38.551Z"
   },
   {
    "duration": 16,
    "start_time": "2022-12-03T14:35:46.942Z"
   },
   {
    "duration": 19,
    "start_time": "2022-12-03T14:35:46.960Z"
   },
   {
    "duration": 10,
    "start_time": "2022-12-03T14:35:55.791Z"
   },
   {
    "duration": 194,
    "start_time": "2022-12-03T14:36:03.360Z"
   },
   {
    "duration": 255,
    "start_time": "2022-12-03T14:36:10.849Z"
   },
   {
    "duration": 4,
    "start_time": "2022-12-03T14:36:49.777Z"
   },
   {
    "duration": 5,
    "start_time": "2022-12-03T14:37:28.920Z"
   },
   {
    "duration": 4,
    "start_time": "2022-12-03T14:37:31.024Z"
   },
   {
    "duration": 6,
    "start_time": "2022-12-03T14:37:32.569Z"
   },
   {
    "duration": 11,
    "start_time": "2022-12-03T14:37:34.361Z"
   },
   {
    "duration": 3,
    "start_time": "2022-12-03T14:37:35.945Z"
   },
   {
    "duration": 5,
    "start_time": "2022-12-03T14:37:37.183Z"
   },
   {
    "duration": 8,
    "start_time": "2022-12-03T14:37:38.439Z"
   },
   {
    "duration": 123310,
    "start_time": "2022-12-03T14:39:25.657Z"
   },
   {
    "duration": 23,
    "start_time": "2022-12-03T14:41:28.969Z"
   },
   {
    "duration": 14,
    "start_time": "2022-12-03T14:41:28.993Z"
   },
   {
    "duration": 21,
    "start_time": "2022-12-03T14:43:42.964Z"
   },
   {
    "duration": 37728,
    "start_time": "2022-12-03T14:45:42.155Z"
   },
   {
    "duration": 15,
    "start_time": "2022-12-03T14:46:19.885Z"
   },
   {
    "duration": 4,
    "start_time": "2022-12-03T14:46:19.902Z"
   },
   {
    "duration": 18,
    "start_time": "2022-12-03T14:46:57.100Z"
   },
   {
    "duration": 117246,
    "start_time": "2022-12-03T14:47:07.539Z"
   },
   {
    "duration": 18,
    "start_time": "2022-12-03T14:49:04.787Z"
   },
   {
    "duration": 5,
    "start_time": "2022-12-03T14:49:04.807Z"
   },
   {
    "duration": 279463,
    "start_time": "2022-12-03T14:49:04.815Z"
   },
   {
    "duration": 15,
    "start_time": "2022-12-03T14:53:44.280Z"
   },
   {
    "duration": 4,
    "start_time": "2022-12-03T14:53:44.296Z"
   },
   {
    "duration": 82784,
    "start_time": "2022-12-03T14:53:44.302Z"
   },
   {
    "duration": 15,
    "start_time": "2022-12-03T14:55:07.087Z"
   },
   {
    "duration": 4,
    "start_time": "2022-12-03T14:55:07.104Z"
   },
   {
    "duration": 257,
    "start_time": "2022-12-03T14:56:37.301Z"
   },
   {
    "duration": 3,
    "start_time": "2022-12-03T14:56:49.941Z"
   },
   {
    "duration": 4,
    "start_time": "2022-12-03T14:56:59.876Z"
   },
   {
    "duration": 4,
    "start_time": "2022-12-03T14:57:03.669Z"
   },
   {
    "duration": 6,
    "start_time": "2022-12-03T14:57:05.949Z"
   },
   {
    "duration": 6,
    "start_time": "2022-12-03T15:02:52.231Z"
   },
   {
    "duration": 10,
    "start_time": "2022-12-03T15:02:55.135Z"
   },
   {
    "duration": 5,
    "start_time": "2022-12-03T15:02:58.198Z"
   },
   {
    "duration": 5,
    "start_time": "2022-12-03T15:03:01.006Z"
   },
   {
    "duration": 7,
    "start_time": "2022-12-03T15:03:04.439Z"
   },
   {
    "duration": 1395,
    "start_time": "2022-12-03T15:25:28.685Z"
   },
   {
    "duration": 76500,
    "start_time": "2022-12-03T15:26:23.603Z"
   },
   {
    "duration": 4,
    "start_time": "2022-12-03T15:27:54.037Z"
   },
   {
    "duration": 3,
    "start_time": "2022-12-03T15:28:01.877Z"
   },
   {
    "duration": 4,
    "start_time": "2022-12-03T15:28:08.803Z"
   },
   {
    "duration": 4,
    "start_time": "2022-12-03T15:29:48.133Z"
   },
   {
    "duration": 4,
    "start_time": "2022-12-03T15:30:02.078Z"
   },
   {
    "duration": 286,
    "start_time": "2022-12-03T15:33:11.099Z"
   },
   {
    "duration": 3,
    "start_time": "2022-12-03T15:39:33.344Z"
   },
   {
    "duration": 3,
    "start_time": "2022-12-03T15:40:05.823Z"
   },
   {
    "duration": 4,
    "start_time": "2022-12-03T15:43:08.909Z"
   },
   {
    "duration": 7,
    "start_time": "2022-12-03T15:43:08.915Z"
   },
   {
    "duration": 53,
    "start_time": "2022-12-03T15:43:08.923Z"
   },
   {
    "duration": 21,
    "start_time": "2022-12-03T15:43:08.978Z"
   },
   {
    "duration": 14,
    "start_time": "2022-12-03T15:43:09.003Z"
   },
   {
    "duration": 22,
    "start_time": "2022-12-03T15:43:09.019Z"
   },
   {
    "duration": 4,
    "start_time": "2022-12-03T15:43:09.043Z"
   },
   {
    "duration": 17,
    "start_time": "2022-12-03T15:43:09.079Z"
   },
   {
    "duration": 5,
    "start_time": "2022-12-03T15:43:09.099Z"
   },
   {
    "duration": 366,
    "start_time": "2022-12-03T15:43:09.106Z"
   },
   {
    "duration": 9,
    "start_time": "2022-12-03T15:43:09.474Z"
   },
   {
    "duration": 9,
    "start_time": "2022-12-03T15:43:09.485Z"
   },
   {
    "duration": 6,
    "start_time": "2022-12-03T15:43:09.496Z"
   },
   {
    "duration": 4,
    "start_time": "2022-12-03T15:43:09.506Z"
   },
   {
    "duration": 10,
    "start_time": "2022-12-03T15:43:09.512Z"
   },
   {
    "duration": 14,
    "start_time": "2022-12-03T15:43:09.524Z"
   },
   {
    "duration": 73,
    "start_time": "2022-12-03T15:43:09.540Z"
   },
   {
    "duration": 11,
    "start_time": "2022-12-03T15:43:09.615Z"
   },
   {
    "duration": 13,
    "start_time": "2022-12-03T15:43:09.628Z"
   },
   {
    "duration": 10,
    "start_time": "2022-12-03T15:43:09.643Z"
   },
   {
    "duration": 38,
    "start_time": "2022-12-03T15:43:09.654Z"
   },
   {
    "duration": 14,
    "start_time": "2022-12-03T15:43:09.694Z"
   },
   {
    "duration": 6,
    "start_time": "2022-12-03T15:43:09.710Z"
   },
   {
    "duration": 14,
    "start_time": "2022-12-03T15:43:09.717Z"
   },
   {
    "duration": 15,
    "start_time": "2022-12-03T15:43:09.733Z"
   },
   {
    "duration": 37,
    "start_time": "2022-12-03T15:43:09.750Z"
   },
   {
    "duration": 15,
    "start_time": "2022-12-03T15:43:09.789Z"
   },
   {
    "duration": 26,
    "start_time": "2022-12-03T15:43:09.805Z"
   },
   {
    "duration": 11,
    "start_time": "2022-12-03T15:43:09.833Z"
   },
   {
    "duration": 14,
    "start_time": "2022-12-03T15:43:09.845Z"
   },
   {
    "duration": 11,
    "start_time": "2022-12-03T15:43:09.861Z"
   },
   {
    "duration": 23,
    "start_time": "2022-12-03T15:43:09.873Z"
   },
   {
    "duration": 33,
    "start_time": "2022-12-03T15:43:09.898Z"
   },
   {
    "duration": 19,
    "start_time": "2022-12-03T15:43:09.933Z"
   },
   {
    "duration": 23,
    "start_time": "2022-12-03T15:43:09.954Z"
   },
   {
    "duration": 5,
    "start_time": "2022-12-03T15:43:09.978Z"
   },
   {
    "duration": 159,
    "start_time": "2022-12-03T15:43:09.984Z"
   },
   {
    "duration": 341750,
    "start_time": "2022-12-03T15:43:10.144Z"
   },
   {
    "duration": 17,
    "start_time": "2022-12-03T15:48:51.896Z"
   },
   {
    "duration": 5,
    "start_time": "2022-12-03T15:48:51.914Z"
   },
   {
    "duration": 58,
    "start_time": "2022-12-03T15:48:51.924Z"
   },
   {
    "duration": 52646,
    "start_time": "2022-12-03T15:48:51.984Z"
   },
   {
    "duration": 15,
    "start_time": "2022-12-03T15:49:44.631Z"
   },
   {
    "duration": 4,
    "start_time": "2022-12-03T15:49:44.648Z"
   },
   {
    "duration": 40,
    "start_time": "2022-12-03T15:49:44.654Z"
   },
   {
    "duration": 169170,
    "start_time": "2022-12-03T15:49:44.696Z"
   },
   {
    "duration": 28,
    "start_time": "2022-12-03T15:52:33.868Z"
   },
   {
    "duration": 28,
    "start_time": "2022-12-03T15:52:33.898Z"
   },
   {
    "duration": 66099,
    "start_time": "2022-12-03T15:52:33.928Z"
   },
   {
    "duration": 15,
    "start_time": "2022-12-03T15:53:40.029Z"
   },
   {
    "duration": 4,
    "start_time": "2022-12-03T15:53:40.046Z"
   },
   {
    "duration": 244,
    "start_time": "2022-12-03T15:53:40.051Z"
   },
   {
    "duration": 4,
    "start_time": "2022-12-03T15:53:40.297Z"
   },
   {
    "duration": 8,
    "start_time": "2022-12-03T15:53:40.302Z"
   },
   {
    "duration": 8,
    "start_time": "2022-12-03T15:53:40.312Z"
   },
   {
    "duration": 8,
    "start_time": "2022-12-03T15:53:40.321Z"
   },
   {
    "duration": 18,
    "start_time": "2022-12-03T15:53:40.330Z"
   },
   {
    "duration": 4,
    "start_time": "2022-12-03T15:53:40.349Z"
   },
   {
    "duration": 7,
    "start_time": "2022-12-03T15:53:40.354Z"
   },
   {
    "duration": 17,
    "start_time": "2022-12-03T15:53:40.363Z"
   },
   {
    "duration": 136773,
    "start_time": "2022-12-03T15:53:40.382Z"
   },
   {
    "duration": 24,
    "start_time": "2022-12-03T15:55:57.157Z"
   },
   {
    "duration": 14,
    "start_time": "2022-12-03T15:55:57.182Z"
   },
   {
    "duration": 89,
    "start_time": "2022-12-03T15:55:57.198Z"
   },
   {
    "duration": 38040,
    "start_time": "2022-12-03T15:55:57.288Z"
   },
   {
    "duration": 22,
    "start_time": "2022-12-03T15:56:35.331Z"
   },
   {
    "duration": 4,
    "start_time": "2022-12-03T15:56:35.355Z"
   },
   {
    "duration": 23,
    "start_time": "2022-12-03T15:56:35.377Z"
   },
   {
    "duration": 113376,
    "start_time": "2022-12-03T15:56:35.401Z"
   },
   {
    "duration": 15,
    "start_time": "2022-12-03T15:58:28.779Z"
   },
   {
    "duration": 4,
    "start_time": "2022-12-03T15:58:28.795Z"
   },
   {
    "duration": 273427,
    "start_time": "2022-12-03T15:58:28.801Z"
   },
   {
    "duration": 16,
    "start_time": "2022-12-03T16:03:02.229Z"
   },
   {
    "duration": 10,
    "start_time": "2022-12-03T16:03:02.247Z"
   },
   {
    "duration": 82069,
    "start_time": "2022-12-03T16:03:02.258Z"
   },
   {
    "duration": 20,
    "start_time": "2022-12-03T16:04:24.328Z"
   },
   {
    "duration": 6,
    "start_time": "2022-12-03T16:04:24.350Z"
   },
   {
    "duration": 254,
    "start_time": "2022-12-03T16:04:24.378Z"
   },
   {
    "duration": 4,
    "start_time": "2022-12-03T16:04:24.633Z"
   },
   {
    "duration": 8,
    "start_time": "2022-12-03T16:04:24.640Z"
   },
   {
    "duration": 5,
    "start_time": "2022-12-03T16:04:24.649Z"
   },
   {
    "duration": 24,
    "start_time": "2022-12-03T16:04:24.656Z"
   },
   {
    "duration": 6,
    "start_time": "2022-12-03T16:04:24.682Z"
   },
   {
    "duration": 12,
    "start_time": "2022-12-03T16:04:24.689Z"
   },
   {
    "duration": 3,
    "start_time": "2022-12-03T16:04:24.703Z"
   },
   {
    "duration": 5,
    "start_time": "2022-12-03T16:04:24.708Z"
   },
   {
    "duration": 10,
    "start_time": "2022-12-03T16:04:24.714Z"
   },
   {
    "duration": 84564,
    "start_time": "2022-12-03T16:04:24.726Z"
   },
   {
    "duration": 87,
    "start_time": "2022-12-03T16:05:49.292Z"
   },
   {
    "duration": 400,
    "start_time": "2022-12-03T16:05:49.381Z"
   },
   {
    "duration": 10427,
    "start_time": "2022-12-03T16:08:48.954Z"
   },
   {
    "duration": 10097,
    "start_time": "2022-12-03T16:09:37.717Z"
   },
   {
    "duration": 4,
    "start_time": "2022-12-03T16:10:05.100Z"
   },
   {
    "duration": 3,
    "start_time": "2022-12-03T16:11:49.631Z"
   },
   {
    "duration": 42,
    "start_time": "2022-12-03T16:14:37.359Z"
   },
   {
    "duration": 6,
    "start_time": "2022-12-03T16:30:24.266Z"
   },
   {
    "duration": 21162,
    "start_time": "2022-12-03T16:32:45.826Z"
   },
   {
    "duration": 4,
    "start_time": "2022-12-03T16:33:43.513Z"
   },
   {
    "duration": 9,
    "start_time": "2022-12-03T16:35:26.274Z"
   },
   {
    "duration": 21600,
    "start_time": "2022-12-03T16:35:29.538Z"
   },
   {
    "duration": 6,
    "start_time": "2022-12-03T16:36:37.715Z"
   },
   {
    "duration": 15428,
    "start_time": "2022-12-03T16:36:40.361Z"
   },
   {
    "duration": 6,
    "start_time": "2022-12-03T16:37:08.059Z"
   },
   {
    "duration": 23601,
    "start_time": "2022-12-03T16:37:11.659Z"
   },
   {
    "duration": 4,
    "start_time": "2022-12-03T16:39:08.059Z"
   },
   {
    "duration": 3,
    "start_time": "2022-12-03T16:39:16.347Z"
   },
   {
    "duration": 59737,
    "start_time": "2022-12-03T16:39:57.441Z"
   },
   {
    "duration": 3,
    "start_time": "2022-12-03T16:40:57.180Z"
   },
   {
    "duration": 18022,
    "start_time": "2022-12-03T16:41:41.579Z"
   },
   {
    "duration": 4,
    "start_time": "2022-12-03T16:41:59.604Z"
   },
   {
    "duration": 70,
    "start_time": "2022-12-03T16:44:21.773Z"
   },
   {
    "duration": 540,
    "start_time": "2022-12-03T16:44:45.222Z"
   },
   {
    "duration": 518,
    "start_time": "2022-12-03T16:46:09.310Z"
   },
   {
    "duration": 5,
    "start_time": "2022-12-03T16:58:32.192Z"
   },
   {
    "duration": 5,
    "start_time": "2022-12-03T16:59:18.204Z"
   },
   {
    "duration": 3,
    "start_time": "2022-12-03T16:59:39.530Z"
   },
   {
    "duration": 4,
    "start_time": "2022-12-03T17:00:20.224Z"
   },
   {
    "duration": 6,
    "start_time": "2022-12-03T17:01:06.861Z"
   },
   {
    "duration": 549,
    "start_time": "2022-12-03T17:03:33.114Z"
   },
   {
    "duration": 516,
    "start_time": "2022-12-03T17:03:53.370Z"
   },
   {
    "duration": 34,
    "start_time": "2022-12-03T17:04:03.649Z"
   },
   {
    "duration": 153,
    "start_time": "2022-12-03T17:04:07.826Z"
   },
   {
    "duration": 32,
    "start_time": "2022-12-03T17:04:21.996Z"
   },
   {
    "duration": 19,
    "start_time": "2022-12-03T17:10:40.588Z"
   },
   {
    "duration": 606,
    "start_time": "2022-12-03T17:11:06.715Z"
   },
   {
    "duration": 37,
    "start_time": "2022-12-03T17:11:10.604Z"
   },
   {
    "duration": 43,
    "start_time": "2022-12-03T17:11:14.030Z"
   },
   {
    "duration": 9,
    "start_time": "2022-12-03T17:11:18.461Z"
   },
   {
    "duration": 458,
    "start_time": "2022-12-03T17:12:27.901Z"
   },
   {
    "duration": 31,
    "start_time": "2022-12-03T17:12:31.004Z"
   },
   {
    "duration": 33,
    "start_time": "2022-12-03T17:12:33.602Z"
   },
   {
    "duration": 7,
    "start_time": "2022-12-03T17:13:12.228Z"
   },
   {
    "duration": 6,
    "start_time": "2022-12-03T17:13:27.141Z"
   },
   {
    "duration": 6,
    "start_time": "2022-12-03T17:14:31.837Z"
   },
   {
    "duration": 7,
    "start_time": "2022-12-03T17:14:54.223Z"
   },
   {
    "duration": 3,
    "start_time": "2022-12-03T17:15:37.349Z"
   },
   {
    "duration": 5,
    "start_time": "2022-12-03T17:15:45.332Z"
   },
   {
    "duration": 8,
    "start_time": "2022-12-03T17:16:31.572Z"
   },
   {
    "duration": 38,
    "start_time": "2022-12-03T17:17:25.219Z"
   },
   {
    "duration": 32,
    "start_time": "2022-12-03T17:17:54.245Z"
   },
   {
    "duration": 31,
    "start_time": "2022-12-03T17:18:00.301Z"
   },
   {
    "duration": 34,
    "start_time": "2022-12-03T17:18:04.389Z"
   },
   {
    "duration": 31,
    "start_time": "2022-12-03T17:18:08.815Z"
   },
   {
    "duration": 42,
    "start_time": "2022-12-03T17:18:14.917Z"
   },
   {
    "duration": 12,
    "start_time": "2022-12-03T17:19:00.169Z"
   },
   {
    "duration": 585,
    "start_time": "2022-12-03T17:19:10.013Z"
   },
   {
    "duration": 35,
    "start_time": "2022-12-03T17:19:15.333Z"
   },
   {
    "duration": 32,
    "start_time": "2022-12-03T17:19:20.303Z"
   },
   {
    "duration": 35,
    "start_time": "2022-12-03T17:19:23.869Z"
   },
   {
    "duration": 43,
    "start_time": "2022-12-03T17:19:39.237Z"
   },
   {
    "duration": 34,
    "start_time": "2022-12-03T17:20:05.493Z"
   },
   {
    "duration": 29,
    "start_time": "2022-12-03T17:20:09.355Z"
   },
   {
    "duration": 31,
    "start_time": "2022-12-03T17:20:26.053Z"
   },
   {
    "duration": 6,
    "start_time": "2022-12-03T17:20:30.365Z"
   },
   {
    "duration": 7,
    "start_time": "2022-12-03T17:20:33.829Z"
   },
   {
    "duration": 95,
    "start_time": "2022-12-03T17:26:13.311Z"
   },
   {
    "duration": 1311,
    "start_time": "2022-12-03T17:26:34.621Z"
   },
   {
    "duration": 3,
    "start_time": "2022-12-03T17:26:35.935Z"
   },
   {
    "duration": 57,
    "start_time": "2022-12-03T17:26:35.940Z"
   },
   {
    "duration": 18,
    "start_time": "2022-12-03T17:26:35.999Z"
   },
   {
    "duration": 4,
    "start_time": "2022-12-03T17:26:36.019Z"
   },
   {
    "duration": 19,
    "start_time": "2022-12-03T17:26:36.025Z"
   },
   {
    "duration": 6,
    "start_time": "2022-12-03T17:26:36.046Z"
   },
   {
    "duration": 40,
    "start_time": "2022-12-03T17:26:36.053Z"
   },
   {
    "duration": 4,
    "start_time": "2022-12-03T17:26:36.096Z"
   },
   {
    "duration": 420,
    "start_time": "2022-12-03T17:26:36.102Z"
   },
   {
    "duration": 12,
    "start_time": "2022-12-03T17:26:36.524Z"
   },
   {
    "duration": 9,
    "start_time": "2022-12-03T17:26:36.537Z"
   },
   {
    "duration": 31,
    "start_time": "2022-12-03T17:26:36.548Z"
   },
   {
    "duration": 5,
    "start_time": "2022-12-03T17:26:36.583Z"
   },
   {
    "duration": 12,
    "start_time": "2022-12-03T17:26:36.590Z"
   },
   {
    "duration": 14,
    "start_time": "2022-12-03T17:26:36.603Z"
   },
   {
    "duration": 68,
    "start_time": "2022-12-03T17:26:36.619Z"
   },
   {
    "duration": 10,
    "start_time": "2022-12-03T17:26:36.689Z"
   },
   {
    "duration": 10,
    "start_time": "2022-12-03T17:26:36.701Z"
   },
   {
    "duration": 9,
    "start_time": "2022-12-03T17:26:36.713Z"
   },
   {
    "duration": 26,
    "start_time": "2022-12-03T17:26:36.724Z"
   },
   {
    "duration": 35,
    "start_time": "2022-12-03T17:26:36.751Z"
   },
   {
    "duration": 6,
    "start_time": "2022-12-03T17:26:36.787Z"
   },
   {
    "duration": 19,
    "start_time": "2022-12-03T17:26:36.795Z"
   },
   {
    "duration": 19,
    "start_time": "2022-12-03T17:26:36.816Z"
   },
   {
    "duration": 44,
    "start_time": "2022-12-03T17:26:36.837Z"
   },
   {
    "duration": 19,
    "start_time": "2022-12-03T17:26:36.883Z"
   },
   {
    "duration": 13,
    "start_time": "2022-12-03T17:26:36.905Z"
   },
   {
    "duration": 11,
    "start_time": "2022-12-03T17:26:36.920Z"
   },
   {
    "duration": 11,
    "start_time": "2022-12-03T17:26:36.933Z"
   },
   {
    "duration": 7,
    "start_time": "2022-12-03T17:26:36.946Z"
   },
   {
    "duration": 25,
    "start_time": "2022-12-03T17:26:36.955Z"
   },
   {
    "duration": 31,
    "start_time": "2022-12-03T17:26:36.982Z"
   },
   {
    "duration": 19,
    "start_time": "2022-12-03T17:26:37.014Z"
   },
   {
    "duration": 31,
    "start_time": "2022-12-03T17:26:37.034Z"
   },
   {
    "duration": 15,
    "start_time": "2022-12-03T17:26:37.066Z"
   },
   {
    "duration": 144,
    "start_time": "2022-12-03T17:26:37.083Z"
   },
   {
    "duration": 330262,
    "start_time": "2022-12-03T17:26:37.230Z"
   },
   {
    "duration": 16,
    "start_time": "2022-12-03T17:32:07.493Z"
   },
   {
    "duration": 7,
    "start_time": "2022-12-03T17:32:07.510Z"
   },
   {
    "duration": 59,
    "start_time": "2022-12-03T17:32:07.522Z"
   },
   {
    "duration": 76731,
    "start_time": "2022-12-03T17:32:07.582Z"
   },
   {
    "duration": 16,
    "start_time": "2022-12-03T17:33:24.315Z"
   },
   {
    "duration": 5,
    "start_time": "2022-12-03T17:33:24.333Z"
   },
   {
    "duration": 50,
    "start_time": "2022-12-03T17:33:24.340Z"
   },
   {
    "duration": 252434,
    "start_time": "2022-12-03T17:33:24.392Z"
   },
   {
    "duration": 17,
    "start_time": "2022-12-03T17:37:36.828Z"
   },
   {
    "duration": 14,
    "start_time": "2022-12-03T17:37:36.847Z"
   },
   {
    "duration": 103079,
    "start_time": "2022-12-03T17:37:36.863Z"
   },
   {
    "duration": 16,
    "start_time": "2022-12-03T17:39:19.943Z"
   },
   {
    "duration": 4,
    "start_time": "2022-12-03T17:39:19.960Z"
   },
   {
    "duration": 303,
    "start_time": "2022-12-03T17:39:19.979Z"
   },
   {
    "duration": 6,
    "start_time": "2022-12-03T17:39:20.289Z"
   },
   {
    "duration": 13,
    "start_time": "2022-12-03T17:39:20.296Z"
   },
   {
    "duration": 7,
    "start_time": "2022-12-03T17:39:20.311Z"
   },
   {
    "duration": 10,
    "start_time": "2022-12-03T17:39:20.320Z"
   },
   {
    "duration": 11,
    "start_time": "2022-12-03T17:39:20.331Z"
   },
   {
    "duration": 7,
    "start_time": "2022-12-03T17:39:20.343Z"
   },
   {
    "duration": 7,
    "start_time": "2022-12-03T17:39:20.351Z"
   },
   {
    "duration": 21,
    "start_time": "2022-12-03T17:39:20.359Z"
   },
   {
    "duration": 230733,
    "start_time": "2022-12-03T17:39:20.382Z"
   },
   {
    "duration": 18,
    "start_time": "2022-12-03T17:43:11.117Z"
   },
   {
    "duration": 6,
    "start_time": "2022-12-03T17:43:11.136Z"
   },
   {
    "duration": 59,
    "start_time": "2022-12-03T17:43:11.144Z"
   },
   {
    "duration": 53707,
    "start_time": "2022-12-03T17:43:11.205Z"
   },
   {
    "duration": 17,
    "start_time": "2022-12-03T17:44:04.914Z"
   },
   {
    "duration": 6,
    "start_time": "2022-12-03T17:44:04.933Z"
   },
   {
    "duration": 38,
    "start_time": "2022-12-03T17:44:04.941Z"
   },
   {
    "duration": 171415,
    "start_time": "2022-12-03T17:44:04.981Z"
   },
   {
    "duration": 16,
    "start_time": "2022-12-03T17:46:56.397Z"
   },
   {
    "duration": 4,
    "start_time": "2022-12-03T17:46:56.415Z"
   },
   {
    "duration": 422346,
    "start_time": "2022-12-03T17:46:56.420Z"
   },
   {
    "duration": 29,
    "start_time": "2022-12-03T17:53:58.768Z"
   },
   {
    "duration": 11,
    "start_time": "2022-12-03T17:53:58.799Z"
   },
   {
    "duration": 129812,
    "start_time": "2022-12-03T17:53:58.813Z"
   },
   {
    "duration": 17,
    "start_time": "2022-12-03T17:56:08.627Z"
   },
   {
    "duration": 5,
    "start_time": "2022-12-03T17:56:08.647Z"
   },
   {
    "duration": 283,
    "start_time": "2022-12-03T17:56:08.655Z"
   },
   {
    "duration": 5,
    "start_time": "2022-12-03T17:56:08.940Z"
   },
   {
    "duration": 16,
    "start_time": "2022-12-03T17:56:08.947Z"
   },
   {
    "duration": 14,
    "start_time": "2022-12-03T17:56:08.965Z"
   },
   {
    "duration": 8,
    "start_time": "2022-12-03T17:56:08.981Z"
   },
   {
    "duration": 15,
    "start_time": "2022-12-03T17:56:08.991Z"
   },
   {
    "duration": 13,
    "start_time": "2022-12-03T17:56:09.007Z"
   },
   {
    "duration": 4,
    "start_time": "2022-12-03T17:56:09.022Z"
   },
   {
    "duration": 6,
    "start_time": "2022-12-03T17:56:09.027Z"
   },
   {
    "duration": 13,
    "start_time": "2022-12-03T17:56:09.035Z"
   },
   {
    "duration": 112762,
    "start_time": "2022-12-03T17:56:09.051Z"
   },
   {
    "duration": 10,
    "start_time": "2022-12-03T17:58:01.885Z"
   },
   {
    "duration": 407,
    "start_time": "2022-12-03T17:58:01.897Z"
   },
   {
    "duration": 11571,
    "start_time": "2022-12-03T17:58:02.381Z"
   },
   {
    "duration": 5,
    "start_time": "2022-12-03T17:58:13.955Z"
   },
   {
    "duration": 65,
    "start_time": "2022-12-03T17:58:13.963Z"
   },
   {
    "duration": 9,
    "start_time": "2022-12-03T17:58:14.030Z"
   },
   {
    "duration": 26002,
    "start_time": "2022-12-03T17:58:14.042Z"
   },
   {
    "duration": 4,
    "start_time": "2022-12-03T17:58:40.046Z"
   },
   {
    "duration": 64881,
    "start_time": "2022-12-03T17:58:40.051Z"
   },
   {
    "duration": 4,
    "start_time": "2022-12-03T17:59:44.934Z"
   },
   {
    "duration": 19419,
    "start_time": "2022-12-03T17:59:44.940Z"
   },
   {
    "duration": 4,
    "start_time": "2022-12-03T18:00:04.361Z"
   },
   {
    "duration": 591,
    "start_time": "2022-12-03T18:00:04.367Z"
   },
   {
    "duration": 527,
    "start_time": "2022-12-03T18:00:04.965Z"
   },
   {
    "duration": 44,
    "start_time": "2022-12-03T18:00:05.494Z"
   },
   {
    "duration": 184,
    "start_time": "2022-12-03T18:00:05.540Z"
   },
   {
    "duration": 52,
    "start_time": "2022-12-03T18:00:05.726Z"
   },
   {
    "duration": 654,
    "start_time": "2022-12-03T18:00:05.780Z"
   },
   {
    "duration": 33,
    "start_time": "2022-12-03T18:00:06.436Z"
   },
   {
    "duration": 38,
    "start_time": "2022-12-03T18:00:06.470Z"
   },
   {
    "duration": 6,
    "start_time": "2022-12-03T18:00:06.509Z"
   },
   {
    "duration": 27,
    "start_time": "2022-12-03T18:00:06.516Z"
   },
   {
    "duration": 1164,
    "start_time": "2022-12-03T18:12:05.525Z"
   },
   {
    "duration": 2,
    "start_time": "2022-12-03T18:12:06.691Z"
   },
   {
    "duration": 45,
    "start_time": "2022-12-03T18:12:06.694Z"
   },
   {
    "duration": 16,
    "start_time": "2022-12-03T18:12:06.740Z"
   },
   {
    "duration": 3,
    "start_time": "2022-12-03T18:12:06.758Z"
   },
   {
    "duration": 15,
    "start_time": "2022-12-03T18:12:06.762Z"
   },
   {
    "duration": 5,
    "start_time": "2022-12-03T18:12:06.779Z"
   },
   {
    "duration": 13,
    "start_time": "2022-12-03T18:12:06.786Z"
   },
   {
    "duration": 5,
    "start_time": "2022-12-03T18:12:06.800Z"
   },
   {
    "duration": 386,
    "start_time": "2022-12-03T18:12:06.806Z"
   },
   {
    "duration": 8,
    "start_time": "2022-12-03T18:12:07.194Z"
   },
   {
    "duration": 9,
    "start_time": "2022-12-03T18:12:07.204Z"
   },
   {
    "duration": 9,
    "start_time": "2022-12-03T18:12:07.215Z"
   },
   {
    "duration": 4,
    "start_time": "2022-12-03T18:12:07.227Z"
   },
   {
    "duration": 9,
    "start_time": "2022-12-03T18:12:07.233Z"
   },
   {
    "duration": 39,
    "start_time": "2022-12-03T18:12:07.243Z"
   },
   {
    "duration": 36,
    "start_time": "2022-12-03T18:12:07.284Z"
   },
   {
    "duration": 9,
    "start_time": "2022-12-03T18:12:07.321Z"
   },
   {
    "duration": 10,
    "start_time": "2022-12-03T18:12:07.332Z"
   },
   {
    "duration": 5,
    "start_time": "2022-12-03T18:12:07.344Z"
   },
   {
    "duration": 45,
    "start_time": "2022-12-03T18:12:07.351Z"
   },
   {
    "duration": 15,
    "start_time": "2022-12-03T18:12:07.397Z"
   },
   {
    "duration": 6,
    "start_time": "2022-12-03T18:12:07.413Z"
   },
   {
    "duration": 12,
    "start_time": "2022-12-03T18:12:07.420Z"
   },
   {
    "duration": 17,
    "start_time": "2022-12-03T18:12:07.434Z"
   },
   {
    "duration": 13,
    "start_time": "2022-12-03T18:12:07.479Z"
   },
   {
    "duration": 13,
    "start_time": "2022-12-03T18:12:07.494Z"
   },
   {
    "duration": 9,
    "start_time": "2022-12-03T18:12:07.509Z"
   },
   {
    "duration": 8,
    "start_time": "2022-12-03T18:12:07.519Z"
   },
   {
    "duration": 9,
    "start_time": "2022-12-03T18:12:07.528Z"
   },
   {
    "duration": 8,
    "start_time": "2022-12-03T18:12:07.538Z"
   },
   {
    "duration": 13,
    "start_time": "2022-12-03T18:12:07.547Z"
   },
   {
    "duration": 23,
    "start_time": "2022-12-03T18:12:07.578Z"
   },
   {
    "duration": 19,
    "start_time": "2022-12-03T18:12:07.603Z"
   },
   {
    "duration": 25,
    "start_time": "2022-12-03T18:12:07.623Z"
   },
   {
    "duration": 6,
    "start_time": "2022-12-03T18:12:07.649Z"
   },
   {
    "duration": 133,
    "start_time": "2022-12-03T18:12:07.678Z"
   },
   {
    "duration": 351395,
    "start_time": "2022-12-03T18:12:07.812Z"
   },
   {
    "duration": 16,
    "start_time": "2022-12-03T18:17:59.209Z"
   },
   {
    "duration": 6,
    "start_time": "2022-12-03T18:17:59.227Z"
   },
   {
    "duration": 44,
    "start_time": "2022-12-03T18:17:59.237Z"
   },
   {
    "duration": 78286,
    "start_time": "2022-12-03T18:17:59.283Z"
   },
   {
    "duration": 21,
    "start_time": "2022-12-03T18:19:17.571Z"
   },
   {
    "duration": 5,
    "start_time": "2022-12-03T18:19:17.594Z"
   },
   {
    "duration": 28,
    "start_time": "2022-12-03T18:19:17.601Z"
   },
   {
    "duration": 260178,
    "start_time": "2022-12-03T18:19:17.631Z"
   },
   {
    "duration": 15,
    "start_time": "2022-12-03T18:23:37.810Z"
   },
   {
    "duration": 4,
    "start_time": "2022-12-03T18:23:37.827Z"
   },
   {
    "duration": 102499,
    "start_time": "2022-12-03T18:23:37.833Z"
   },
   {
    "duration": 14,
    "start_time": "2022-12-03T18:25:20.334Z"
   },
   {
    "duration": 22,
    "start_time": "2022-12-03T18:25:20.350Z"
   },
   {
    "duration": 279,
    "start_time": "2022-12-03T18:25:20.374Z"
   },
   {
    "duration": 3,
    "start_time": "2022-12-03T18:25:20.655Z"
   },
   {
    "duration": 4,
    "start_time": "2022-12-03T18:29:48.165Z"
   },
   {
    "duration": 5,
    "start_time": "2022-12-03T18:29:51.541Z"
   },
   {
    "duration": 3,
    "start_time": "2022-12-03T18:29:53.581Z"
   },
   {
    "duration": 5,
    "start_time": "2022-12-03T18:29:55.333Z"
   },
   {
    "duration": 9,
    "start_time": "2022-12-03T18:29:56.717Z"
   },
   {
    "duration": 4,
    "start_time": "2022-12-03T18:29:58.004Z"
   },
   {
    "duration": 4,
    "start_time": "2022-12-03T18:29:59.212Z"
   },
   {
    "duration": 7,
    "start_time": "2022-12-03T18:30:00.867Z"
   },
   {
    "duration": 112355,
    "start_time": "2022-12-03T18:30:04.604Z"
   },
   {
    "duration": 23,
    "start_time": "2022-12-03T18:31:56.961Z"
   },
   {
    "duration": 4,
    "start_time": "2022-12-03T18:31:56.986Z"
   },
   {
    "duration": 29,
    "start_time": "2022-12-03T18:31:56.992Z"
   },
   {
    "duration": 48730,
    "start_time": "2022-12-03T18:31:57.079Z"
   },
   {
    "duration": 16,
    "start_time": "2022-12-03T18:32:45.811Z"
   },
   {
    "duration": 5,
    "start_time": "2022-12-03T18:32:45.829Z"
   },
   {
    "duration": 43,
    "start_time": "2022-12-03T18:32:45.835Z"
   },
   {
    "duration": 161200,
    "start_time": "2022-12-03T18:32:45.880Z"
   },
   {
    "duration": 16,
    "start_time": "2022-12-03T18:35:27.083Z"
   },
   {
    "duration": 5,
    "start_time": "2022-12-03T18:35:27.100Z"
   },
   {
    "duration": 399800,
    "start_time": "2022-12-03T18:35:27.107Z"
   },
   {
    "duration": 16,
    "start_time": "2022-12-03T18:42:06.909Z"
   },
   {
    "duration": 7,
    "start_time": "2022-12-03T18:42:06.927Z"
   },
   {
    "duration": 117913,
    "start_time": "2022-12-03T18:42:06.936Z"
   },
   {
    "duration": 13,
    "start_time": "2022-12-03T18:44:04.851Z"
   },
   {
    "duration": 15,
    "start_time": "2022-12-03T18:44:04.865Z"
   },
   {
    "duration": 261,
    "start_time": "2022-12-03T18:44:04.882Z"
   },
   {
    "duration": 4,
    "start_time": "2022-12-03T18:44:05.144Z"
   },
   {
    "duration": 11,
    "start_time": "2022-12-03T18:44:05.149Z"
   },
   {
    "duration": 5,
    "start_time": "2022-12-03T18:44:05.161Z"
   },
   {
    "duration": 6,
    "start_time": "2022-12-03T18:44:05.177Z"
   },
   {
    "duration": 7,
    "start_time": "2022-12-03T18:44:05.184Z"
   },
   {
    "duration": 14,
    "start_time": "2022-12-03T18:44:05.193Z"
   },
   {
    "duration": 5,
    "start_time": "2022-12-03T18:44:05.209Z"
   },
   {
    "duration": 12,
    "start_time": "2022-12-03T18:44:05.216Z"
   },
   {
    "duration": 7,
    "start_time": "2022-12-03T18:44:05.230Z"
   },
   {
    "duration": 73138,
    "start_time": "2022-12-03T18:44:05.240Z"
   },
   {
    "duration": 7,
    "start_time": "2022-12-03T18:45:18.381Z"
   },
   {
    "duration": 494,
    "start_time": "2022-12-03T18:45:18.391Z"
   },
   {
    "duration": 10643,
    "start_time": "2022-12-03T18:45:18.887Z"
   },
   {
    "duration": 3,
    "start_time": "2022-12-03T18:45:29.532Z"
   },
   {
    "duration": 48,
    "start_time": "2022-12-03T18:45:29.536Z"
   },
   {
    "duration": 5,
    "start_time": "2022-12-03T18:45:29.585Z"
   },
   {
    "duration": 23519,
    "start_time": "2022-12-03T18:45:29.592Z"
   },
   {
    "duration": 3,
    "start_time": "2022-12-03T18:45:53.113Z"
   },
   {
    "duration": 60984,
    "start_time": "2022-12-03T18:45:53.117Z"
   },
   {
    "duration": 3,
    "start_time": "2022-12-03T18:46:54.103Z"
   },
   {
    "duration": 17914,
    "start_time": "2022-12-03T18:46:54.108Z"
   },
   {
    "duration": 4,
    "start_time": "2022-12-03T18:47:12.024Z"
   },
   {
    "duration": 622,
    "start_time": "2022-12-03T18:47:12.029Z"
   },
   {
    "duration": 19,
    "start_time": "2022-12-03T18:48:49.305Z"
   },
   {
    "duration": 167,
    "start_time": "2022-12-03T18:48:52.032Z"
   },
   {
    "duration": 43,
    "start_time": "2022-12-03T18:49:02.113Z"
   },
   {
    "duration": 118962,
    "start_time": "2022-12-03T18:50:04.705Z"
   },
   {
    "duration": 22,
    "start_time": "2022-12-03T18:52:10.153Z"
   },
   {
    "duration": 22,
    "start_time": "2022-12-03T18:52:17.005Z"
   },
   {
    "duration": 10,
    "start_time": "2022-12-03T18:52:20.960Z"
   },
   {
    "duration": 7,
    "start_time": "2022-12-03T18:52:24.176Z"
   },
   {
    "duration": 97194,
    "start_time": "2022-12-03T18:53:01.104Z"
   },
   {
    "duration": 19,
    "start_time": "2022-12-03T18:54:46.266Z"
   },
   {
    "duration": 116638,
    "start_time": "2022-12-03T18:55:03.251Z"
   },
   {
    "duration": 23,
    "start_time": "2022-12-03T18:57:04.946Z"
   },
   {
    "duration": 22,
    "start_time": "2022-12-03T18:57:29.747Z"
   },
   {
    "duration": 9,
    "start_time": "2022-12-03T18:57:34.604Z"
   },
   {
    "duration": 5,
    "start_time": "2022-12-03T18:57:37.427Z"
   }
  ],
  "kernelspec": {
   "display_name": "Python 3 (ipykernel)",
   "language": "python",
   "name": "python3"
  },
  "language_info": {
   "codemirror_mode": {
    "name": "ipython",
    "version": 3
   },
   "file_extension": ".py",
   "mimetype": "text/x-python",
   "name": "python",
   "nbconvert_exporter": "python",
   "pygments_lexer": "ipython3",
   "version": "3.9.16"
  },
  "toc": {
   "base_numbering": 1,
   "nav_menu": {},
   "number_sections": true,
   "sideBar": true,
   "skip_h1_title": true,
   "title_cell": "Содержание",
   "title_sidebar": "Contents",
   "toc_cell": true,
   "toc_position": {
    "height": "calc(100% - 180px)",
    "left": "10px",
    "top": "150px",
    "width": "366.188px"
   },
   "toc_section_display": true,
   "toc_window_display": true
  }
 },
 "nbformat": 4,
 "nbformat_minor": 2
}
